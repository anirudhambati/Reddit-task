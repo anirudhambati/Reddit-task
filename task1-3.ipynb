{
 "cells": [
  {
   "cell_type": "markdown",
   "metadata": {},
   "source": [
    "# MIDAS Hiring Task Submission - Anirudh Ambati"
   ]
  },
  {
   "cell_type": "markdown",
   "metadata": {},
   "source": [
    "## Part 1 - Reddit data Collection"
   ]
  },
  {
   "cell_type": "markdown",
   "metadata": {},
   "source": [
    "The following script is to collect data from /india subreddit of reddit.\n",
    "\n",
    "Procedure:\n",
    "praw module is used to collect data. \n",
    "Subreddit - /india\n",
    "Data from the following flares is collected - AskIndia, Non-Political, Reddiquette, scheduled, Photography, Science/Technology, Politics, Business/Finance, Sports, Food, AMA\n",
    "From each post, the following details are collected - flair, title, url, body, comments\n",
    "\n",
    "\n",
    "Here, flair can be used as the label to be detected, title, url, body, comments can be used as features to the flair detector. other data like score, id, comms_num, created, author have no relevance for the flaire detection application, so are not significant, but are collected for coding purposes\n",
    "\n",
    "In each flair, 100 posts are taken. More posts collected means, more training data and can improve the accuracy of the model further. Number of samples colected is limited here to this number as this sample can give reasonable accuracy taking the training time taken.\n"
   ]
  },
  {
   "cell_type": "markdown",
   "metadata": {},
   "source": [
    "### Importing the requied modules"
   ]
  },
  {
   "cell_type": "code",
   "execution_count": null,
   "metadata": {},
   "outputs": [],
   "source": [
    "import os\n",
    "import re\n",
    "import praw\n",
    "import logging\n",
    "import numpy as np\n",
    "import pandas as pd\n",
    "import datetime as dt\n",
    "from numpy import random\n",
    "\n",
    "import nltk\n",
    "nltk.download('all')\n",
    "\n",
    "from bs4 import BeautifulSoup\n",
    "import matplotlib.pyplot as plt\n",
    "from nltk.corpus import stopwords\n",
    "from sklearn.pipeline import Pipeline\n",
    "from sklearn.metrics import classification_report\n",
    "from sklearn.model_selection import train_test_split\n",
    "from sklearn.metrics import accuracy_score, confusion_matrix\n",
    "from sklearn.feature_extraction.text import TfidfTransformer\n",
    "from sklearn.feature_extraction.text import CountVectorizer, TfidfVectorizer"
   ]
  },
  {
   "cell_type": "markdown",
   "metadata": {},
   "source": [
    "### Declaring variables\n",
    "\n",
    "This modules declares the flairs taken in data, replacing/removing punctuations, symbols and numbers and loads the stopwords"
   ]
  },
  {
   "cell_type": "code",
   "execution_count": 8,
   "metadata": {},
   "outputs": [],
   "source": [
    "flairs = [\"AskIndia\", \n",
    "          \"Non-Political\", \n",
    "          \"[R]eddiquette\", \n",
    "          \"Scheduled\", \n",
    "          \"Photography\", \n",
    "          \"Science/Technology\", \n",
    "          \"Politics\", \n",
    "          \"Business/Finance\", \n",
    "          \"Policy/Economy\", \n",
    "          \"Sports\", \n",
    "          \"Food\", \n",
    "          \"AMA\"]\n",
    "\n",
    "REPLACE_BY_SPACE_RE = re.compile('[/(){}\\[\\]\\|@,;]')\n",
    "BAD_SYMBOLS_RE = re.compile('[^0-9a-z #+_]')\n",
    "STOPWORDS = set(stopwords.words('english'))"
   ]
  },
  {
   "cell_type": "markdown",
   "metadata": {},
   "source": [
    "### A few Required functions\n",
    "\n",
    "A function to clean the test data by converting to lower case, replace punctuations with space, removing numbers, symbols and removing the stopwords"
   ]
  },
  {
   "cell_type": "code",
   "execution_count": 9,
   "metadata": {},
   "outputs": [],
   "source": [
    "def get_date(created):\n",
    "    return dt.datetime.fromtimestamp(created)\n",
    "\n",
    "def string_form(value):\n",
    "    return str(value)\n",
    "\n",
    "def clean_text(text):\n",
    "    text = BeautifulSoup(text, \"lxml\").text\n",
    "    text = text.lower()\n",
    "    text = REPLACE_BY_SPACE_RE.sub(' ', text)\n",
    "    text = BAD_SYMBOLS_RE.sub('', text)\n",
    "    text = ' '.join(word for word in text.split() if word not in STOPWORDS)\n",
    "    return text"
   ]
  },
  {
   "cell_type": "markdown",
   "metadata": {},
   "source": [
    "## Data Collection\n",
    "\n",
    "Here collection of data is actually started.\n",
    "\n",
    "Steps:\n",
    "\n",
    "1) Give the auth details of reddit for praw module <br/> \n",
    "2) Declare subreddit <br/>\n",
    "3) for each flair, serch top 100 sub_reddits <br/>\n",
    "4) for each result get the required data <br/>\n",
    "5) Save the data to a file <br/>"
   ]
  },
  {
   "cell_type": "code",
   "execution_count": null,
   "metadata": {},
   "outputs": [],
   "source": [
    "reddit = praw.Reddit(client_id='#', client_secret='#', user_agent='#', username='#', password='#')\n",
    "\n",
    "subreddit = reddit.subreddit('india')\n",
    "topics_dict = {\"flair\":[], \"title\":[], \"score\":[], \"id\":[], \"url\":[], \"comms_num\": [], \"created\": [], \"body\":[], \"author\":[], \"comments\":[]}\n",
    "\n",
    "for flair in flairs:\n",
    "  \n",
    "  get_subreddits = subreddit.search(flair, limit=100) \n",
    "  for submission in get_subreddits:\n",
    "    \n",
    "    topics_dict[\"flair\"].append(flair)\n",
    "    topics_dict[\"title\"].append(submission.title)\n",
    "    topics_dict[\"score\"].append(submission.score)\n",
    "    topics_dict[\"id\"].append(submission.id)\n",
    "    topics_dict[\"url\"].append(submission.url)\n",
    "    topics_dict[\"comms_num\"].append(submission.num_comments)\n",
    "    topics_dict[\"created\"].append(submission.created)\n",
    "    topics_dict[\"body\"].append(submission.selftext)\n",
    "    topics_dict[\"author\"].append(submission.author)\n",
    "    \n",
    "    submission.comments.replace_more(limit=None)\n",
    "    comment = ''\n",
    "    for top_level_comment in submission.comments:\n",
    "      comment = comment + ' ' + top_level_comment.body\n",
    "    topics_dict[\"comments\"].append(comment)\n",
    "    \n",
    "topics_data = pd.DataFrame(topics_dict)\n",
    "_timestamp = topics_data[\"created\"].apply(get_date)\n",
    "topics_data = topics_data.assign(timestamp = _timestamp)\n",
    "del topics_data['created']\n",
    "topics_data.to_csv('reddit-india-data.csv', index=False) "
   ]
  },
  {
   "cell_type": "markdown",
   "metadata": {},
   "source": [
    "## Data Cleaning\n",
    "\n",
    "In this module data is cleaned using the functions implemented previously"
   ]
  },
  {
   "cell_type": "code",
   "execution_count": 10,
   "metadata": {},
   "outputs": [],
   "source": [
    "topics_data = pd.read_csv('reddit-india-data.csv')\n",
    "\n",
    "topics_data['title'] = topics_data['title'].apply(string_form)\n",
    "topics_data['title'] = topics_data['title'].apply(clean_text)\n",
    "\n",
    "topics_data['body'] = topics_data['body'].apply(string_form)\n",
    "topics_data['body'] = topics_data['body'].apply(clean_text)\n",
    "\n",
    "topics_data['comments'] = topics_data['comments'].apply(string_form)\n",
    "topics_data['comments'] = topics_data['comments'].apply(clean_text)\n",
    "\n",
    "feature_combine = topics_data[\"title\"] + topics_data[\"comments\"] + topics_data[\"url\"]\n",
    "\n",
    "topics_data = topics_data.assign(feature_combine = feature_combine)"
   ]
  },
  {
   "cell_type": "markdown",
   "metadata": {},
   "source": [
    "## Topic 2 - Exploratory Data Analysis\n",
    "\n",
    "In this module, we will analyse the data collected."
   ]
  },
  {
   "cell_type": "code",
   "execution_count": 11,
   "metadata": {},
   "outputs": [
    {
     "data": {
      "text/plain": [
       "Index(['author', 'body', 'comments', 'comms_num', 'flair', 'id', 'score',\n",
       "       'title', 'url', 'timestamp', 'feature_combine'],\n",
       "      dtype='object')"
      ]
     },
     "execution_count": 11,
     "metadata": {},
     "output_type": "execute_result"
    }
   ],
   "source": [
    "topics_data.keys()"
   ]
  },
  {
   "cell_type": "markdown",
   "metadata": {},
   "source": [
    "Here, Feature_combine is a combination of title, comments and url. The reason to consider these is discussed later"
   ]
  },
  {
   "cell_type": "markdown",
   "metadata": {},
   "source": [
    "### Number of examples"
   ]
  },
  {
   "cell_type": "code",
   "execution_count": 12,
   "metadata": {},
   "outputs": [
    {
     "name": "stdout",
     "output_type": "stream",
     "text": [
      "1117\n"
     ]
    }
   ],
   "source": [
    "no_of_examples = len(topics_data['title'])\n",
    "print(no_of_examples)"
   ]
  },
  {
   "cell_type": "markdown",
   "metadata": {},
   "source": [
    "### Count of examples per class"
   ]
  },
  {
   "cell_type": "code",
   "execution_count": 33,
   "metadata": {},
   "outputs": [
    {
     "data": {
      "text/plain": [
       "<BarContainer object of 12 artists>"
      ]
     },
     "execution_count": 33,
     "metadata": {},
     "output_type": "execute_result"
    },
    {
     "data": {
      "image/png": "[encoded data removed]",
      "text/plain": [
       "<Figure size 432x288 with 1 Axes>"
      ]
     },
     "metadata": {
      "needs_background": "light"
     },
     "output_type": "display_data"
    }
   ],
   "source": [
    "from collections import Counter\n",
    "import matplotlib.pyplot as plt\n",
    "\n",
    "counta = Counter(topics_data['flair'])\n",
    "\n",
    "plt.bar(counta.keys(), counta.values(), 0.2, color='b')\n"
   ]
  },
  {
   "cell_type": "markdown",
   "metadata": {},
   "source": [
    "Apart from [R]eddiquette, all other classes are equal."
   ]
  },
  {
   "cell_type": "markdown",
   "metadata": {},
   "source": [
    "### Lengths\n",
    "\n",
    "Now let us see how long each features are. with this we can get an idea of how small/big the feature will be and how it would effect the model"
   ]
  },
  {
   "cell_type": "markdown",
   "metadata": {},
   "source": [
    "### Body Length"
   ]
  },
  {
   "cell_type": "code",
   "execution_count": 24,
   "metadata": {},
   "outputs": [
    {
     "data": {
      "text/html": [
       "        <script type=\"text/javascript\">\n",
       "        window.PlotlyConfig = {MathJaxConfig: 'local'};\n",
       "        if (window.MathJax) {MathJax.Hub.Config({SVG: {font: \"STIX-Web\"}});}\n",
       "        if (typeof require !== 'undefined') {\n",
       "        require.undef(\"plotly\");\n",
       "        requirejs.config({\n",
       "            paths: {\n",
       "                'plotly': ['https://cdn.plot.ly/plotly-latest.min']\n",
       "            }\n",
       "        });\n",
       "        require(['plotly'], function(Plotly) {\n",
       "            window._Plotly = Plotly;\n",
       "        });\n",
       "        }\n",
       "        </script>\n",
       "        "
      ]
     },
     "metadata": {},
     "output_type": "display_data"
    },
    {
     "data": {
      "application/vnd.plotly.v1+json": {
       "config": {
        "linkText": "Export to plot.ly",
        "plotlyServerURL": "https://plot.ly",
        "showLink": true
       },
       "data": [
        {
         "histfunc": "count",
         "histnorm": "",
         "marker": {
          "color": "rgba(255, 153, 51, 1.0)",
          "line": {
           "color": "#000000",
           "width": 1.3
          }
         },
         "name": "body",
         "nbinsx": 100,
         "opacity": 0.8,
         "orientation": "v",
         "type": "histogram",
         "x": [
          682,
          1988,
          387,
          157,
          676,
          9788,
          433,
          761,
          279,
          2319,
          479,
          786,
          274,
          160,
          1109,
          197,
          557,
          1011,
          292,
          2443,
          300,
          2696,
          3853,
          1139,
          2001,
          3144,
          730,
          348,
          933,
          91,
          515,
          128,
          113,
          354,
          183,
          297,
          262,
          10,
          92,
          1016,
          2130,
          25,
          60,
          414,
          120,
          418,
          3,
          49,
          3,
          424,
          124,
          220,
          552,
          56,
          179,
          958,
          302,
          630,
          708,
          251,
          3,
          32,
          84,
          112,
          225,
          3,
          60,
          624,
          141,
          421,
          407,
          1172,
          2439,
          501,
          564,
          143,
          167,
          428,
          112,
          497,
          760,
          145,
          169,
          569,
          320,
          888,
          197,
          800,
          3,
          10,
          271,
          9362,
          317,
          385,
          613,
          57,
          70,
          334,
          53,
          588,
          402,
          324,
          3,
          3,
          3,
          3,
          3,
          115,
          507,
          362,
          232,
          925,
          178,
          57,
          3,
          156,
          3,
          3,
          22,
          3,
          1047,
          3,
          321,
          275,
          3,
          3,
          3,
          54,
          3,
          3,
          28645,
          3,
          3,
          3,
          3,
          359,
          3,
          254,
          1962,
          3,
          80,
          3,
          33,
          3,
          3,
          3,
          75,
          158,
          3,
          3,
          623,
          3,
          3,
          3,
          1380,
          3,
          287,
          101,
          3,
          3,
          3,
          3,
          378,
          3,
          17,
          184,
          3,
          185,
          3,
          208,
          3,
          3,
          3,
          86,
          1306,
          3,
          3,
          460,
          1446,
          3,
          171,
          97,
          3,
          360,
          306,
          3,
          26,
          3,
          3,
          3,
          3,
          3,
          34,
          495,
          348,
          19,
          129,
          3,
          22,
          24,
          355,
          3,
          456,
          909,
          12,
          854,
          2309,
          146,
          515,
          3,
          11,
          3,
          115,
          3,
          186,
          838,
          3,
          3,
          3,
          443,
          286,
          3,
          3,
          3,
          687,
          3,
          883,
          3,
          3,
          3,
          404,
          729,
          3,
          3,
          3,
          504,
          3,
          3,
          3,
          3,
          3,
          3,
          3,
          3,
          72,
          2857,
          3,
          3,
          3,
          3,
          3,
          3,
          71,
          3,
          3,
          114,
          646,
          3,
          192,
          3,
          3,
          3,
          3,
          186,
          3,
          3,
          145,
          3,
          3,
          3,
          3,
          3,
          3,
          3,
          3,
          3,
          3,
          3,
          3,
          3,
          3,
          199,
          3,
          3,
          3,
          169,
          3,
          3,
          445,
          3,
          3,
          3,
          3,
          445,
          3,
          3,
          3,
          849,
          445,
          3,
          3,
          448,
          445,
          3,
          54,
          212,
          3,
          3,
          538,
          204,
          169,
          3,
          3,
          445,
          204,
          3,
          3,
          3,
          3,
          3,
          3,
          302,
          3,
          3,
          3,
          3,
          3,
          3,
          3,
          3,
          3,
          3,
          3,
          3,
          3,
          3,
          3,
          53,
          375,
          178,
          24,
          3,
          3,
          142,
          3,
          3,
          3,
          3,
          198,
          3,
          3,
          3,
          141,
          3,
          3,
          22,
          3,
          3,
          3,
          77,
          3,
          3,
          195,
          164,
          152,
          255,
          3,
          1237,
          3,
          132,
          3,
          3,
          27,
          474,
          372,
          424,
          3,
          69,
          935,
          62,
          3,
          3,
          3,
          516,
          3,
          3,
          3,
          3,
          3,
          3,
          3,
          3,
          3,
          3,
          3,
          3,
          3,
          188,
          3,
          67,
          3,
          3,
          1186,
          3,
          3,
          3,
          75,
          3,
          3,
          97,
          533,
          3,
          203,
          3,
          46,
          3,
          100,
          3,
          3,
          3,
          3,
          3,
          2520,
          3,
          3,
          3,
          3,
          443,
          1738,
          2806,
          2183,
          2874,
          987,
          927,
          6727,
          238,
          925,
          478,
          666,
          6813,
          387,
          3,
          988,
          3,
          3,
          3,
          3,
          3,
          128,
          279,
          3,
          670,
          3,
          3,
          3,
          3,
          3,
          3,
          3,
          3,
          3,
          924,
          3,
          26,
          3,
          3,
          3,
          3,
          3,
          585,
          3,
          3,
          3,
          3,
          3,
          3,
          3,
          3,
          3,
          3,
          3,
          290,
          3,
          3,
          3,
          3,
          3,
          3,
          3,
          3,
          3,
          3,
          3,
          3,
          3,
          3,
          982,
          3,
          3,
          3,
          3,
          3,
          3,
          3,
          3,
          3,
          3,
          3,
          3,
          330,
          85,
          3,
          325,
          3,
          3,
          3,
          3,
          3,
          3,
          3,
          3,
          3,
          3,
          3,
          3,
          3,
          3,
          3,
          3,
          3,
          3,
          3,
          3,
          3,
          3,
          3,
          3,
          3,
          3,
          97,
          3,
          3,
          182,
          1189,
          354,
          570,
          294,
          226,
          3,
          3,
          3,
          209,
          3,
          3,
          71,
          3,
          301,
          1208,
          3,
          3,
          3,
          3,
          395,
          3,
          320,
          3,
          3,
          1394,
          1344,
          687,
          3,
          3,
          478,
          3,
          86,
          462,
          3,
          1892,
          3,
          3,
          111,
          3,
          3,
          3,
          3,
          3,
          3,
          3,
          3,
          3,
          300,
          299,
          3,
          3,
          3,
          321,
          3,
          3,
          3,
          3,
          3,
          306,
          821,
          3,
          3,
          3,
          3,
          3,
          3,
          3,
          584,
          3,
          3,
          3,
          3,
          3,
          3,
          3,
          3,
          475,
          722,
          3,
          3,
          3,
          3,
          41,
          3,
          3,
          3,
          3,
          3,
          3,
          3,
          3,
          3,
          3,
          3,
          219,
          3,
          155,
          3,
          3,
          3,
          3,
          612,
          575,
          3,
          3,
          3,
          3,
          204,
          3,
          3,
          3,
          3,
          3,
          3,
          3,
          1250,
          486,
          877,
          624,
          489,
          2608,
          87,
          2306,
          1820,
          8303,
          2760,
          2168,
          1863,
          9563,
          1152,
          13892,
          1243,
          903,
          309,
          1603,
          3289,
          28645,
          7555,
          623,
          1103,
          1879,
          9620,
          158,
          320,
          439,
          2319,
          255,
          5085,
          2307,
          1308,
          8226,
          385,
          1218,
          1488,
          2431,
          2604,
          403,
          1950,
          1042,
          4903,
          716,
          909,
          3349,
          2727,
          6401,
          9390,
          5040,
          4722,
          581,
          8419,
          2198,
          5514,
          5483,
          6539,
          143,
          3317,
          3,
          3,
          3,
          3,
          3,
          3,
          3,
          3,
          3,
          3,
          3,
          3,
          3,
          3,
          3,
          3,
          3365,
          3,
          3,
          3,
          3,
          3,
          3144,
          3,
          3,
          3,
          359,
          3,
          3,
          263,
          3,
          3,
          3,
          3,
          3,
          3,
          3,
          3,
          346,
          3,
          3,
          3,
          71,
          3,
          184,
          3,
          3,
          390,
          3,
          3,
          3,
          3,
          3,
          3,
          3,
          3,
          3,
          3,
          3,
          3,
          3,
          3,
          3,
          167,
          3,
          3,
          3,
          3,
          3,
          3,
          3,
          3,
          439,
          3,
          3,
          3,
          3,
          3,
          3,
          3,
          3,
          3,
          3,
          3,
          3,
          3,
          3,
          3,
          933,
          3,
          3,
          3,
          3,
          3,
          3,
          3,
          3,
          2246,
          3,
          3,
          3,
          3,
          433,
          3,
          3,
          3,
          3,
          3,
          3,
          3,
          3,
          3,
          3,
          202,
          3,
          570,
          72,
          3,
          3,
          286,
          3,
          343,
          3,
          443,
          139,
          3,
          3,
          3,
          785,
          3,
          3,
          110,
          112,
          54,
          3,
          284,
          3,
          3,
          3,
          3,
          3,
          3,
          3,
          3,
          3,
          3,
          3,
          49,
          3,
          28,
          125,
          3,
          3,
          1132,
          3,
          3,
          3,
          3,
          75,
          3,
          3,
          3,
          2068,
          51,
          114,
          3,
          3,
          1030,
          3,
          251,
          215,
          3,
          3,
          3,
          977,
          248,
          3,
          3,
          3,
          3,
          5027,
          449,
          15,
          3,
          3,
          50,
          3,
          3,
          3,
          3,
          3,
          367,
          206,
          332,
          3,
          3,
          392,
          3,
          3,
          3,
          2103,
          3,
          3,
          283,
          3,
          3,
          3,
          3,
          3,
          3,
          3,
          47,
          3,
          3,
          3,
          3,
          352,
          3,
          3,
          3,
          3,
          3,
          3,
          3,
          452,
          3,
          3,
          3,
          3,
          3,
          419,
          3,
          423,
          408,
          3,
          188,
          3,
          3,
          3,
          3,
          3,
          3,
          3,
          219,
          3,
          3,
          3,
          17,
          1048,
          3,
          3,
          0,
          3,
          3,
          141,
          3,
          431,
          3,
          3,
          3,
          3,
          3,
          15,
          3,
          3,
          3,
          145,
          3,
          3,
          3,
          21,
          3,
          3,
          3,
          109,
          3,
          3,
          87,
          12561,
          3,
          324,
          3,
          233,
          145,
          566,
          88,
          3,
          3,
          3,
          3,
          766,
          3,
          164,
          3,
          172,
          3,
          262,
          174,
          67,
          3,
          3,
          1037,
          3,
          3,
          3,
          1029,
          3,
          112,
          471,
          3,
          377,
          1052,
          272,
          269,
          235,
          697,
          123,
          1390,
          3,
          3,
          575,
          71,
          383,
          3,
          1131,
          275,
          1449,
          912,
          3,
          3,
          911,
          548,
          321,
          611,
          602,
          319,
          56,
          3,
          369,
          1146,
          34,
          18,
          473,
          3,
          3,
          3,
          1532,
          485,
          3,
          1342,
          298,
          3,
          3,
          1401,
          83,
          487,
          174,
          343,
          3,
          2244,
          435,
          51,
          693,
          640,
          58,
          3,
          3,
          68,
          715,
          978,
          171,
          3,
          177,
          76,
          1232,
          601,
          3,
          156,
          607,
          115,
          349,
          398,
          3042,
          3,
          3,
          14,
          3,
          836,
          3,
          2451,
          37,
          69,
          3,
          3,
          3,
          3214,
          1556,
          519
         ]
        }
       ],
       "layout": {
        "barmode": "overlay",
        "legend": {
         "bgcolor": "#F5F6F9",
         "font": {
          "color": "#4D5663"
         }
        },
        "paper_bgcolor": "#F5F6F9",
        "plot_bgcolor": "#F5F6F9",
        "template": {
         "data": {
          "bar": [
           {
            "error_x": {
             "color": "#2a3f5f"
            },
            "error_y": {
             "color": "#2a3f5f"
            },
            "marker": {
             "line": {
              "color": "#E5ECF6",
              "width": 0.5
             }
            },
            "type": "bar"
           }
          ],
          "barpolar": [
           {
            "marker": {
             "line": {
              "color": "#E5ECF6",
              "width": 0.5
             }
            },
            "type": "barpolar"
           }
          ],
          "carpet": [
           {
            "aaxis": {
             "endlinecolor": "#2a3f5f",
             "gridcolor": "white",
             "linecolor": "white",
             "minorgridcolor": "white",
             "startlinecolor": "#2a3f5f"
            },
            "baxis": {
             "endlinecolor": "#2a3f5f",
             "gridcolor": "white",
             "linecolor": "white",
             "minorgridcolor": "white",
             "startlinecolor": "#2a3f5f"
            },
            "type": "carpet"
           }
          ],
          "choropleth": [
           {
            "colorbar": {
             "outlinewidth": 0,
             "ticks": ""
            },
            "type": "choropleth"
           }
          ],
          "contour": [
           {
            "colorbar": {
             "outlinewidth": 0,
             "ticks": ""
            },
            "colorscale": [
             [
              0,
              "#0d0887"
             ],
             [
              0.1111111111111111,
              "#46039f"
             ],
             [
              0.2222222222222222,
              "#7201a8"
             ],
             [
              0.3333333333333333,
              "#9c179e"
             ],
             [
              0.4444444444444444,
              "#bd3786"
             ],
             [
              0.5555555555555556,
              "#d8576b"
             ],
             [
              0.6666666666666666,
              "#ed7953"
             ],
             [
              0.7777777777777778,
              "#fb9f3a"
             ],
             [
              0.8888888888888888,
              "#fdca26"
             ],
             [
              1,
              "#f0f921"
             ]
            ],
            "type": "contour"
           }
          ],
          "contourcarpet": [
           {
            "colorbar": {
             "outlinewidth": 0,
             "ticks": ""
            },
            "type": "contourcarpet"
           }
          ],
          "heatmap": [
           {
            "colorbar": {
             "outlinewidth": 0,
             "ticks": ""
            },
            "colorscale": [
             [
              0,
              "#0d0887"
             ],
             [
              0.1111111111111111,
              "#46039f"
             ],
             [
              0.2222222222222222,
              "#7201a8"
             ],
             [
              0.3333333333333333,
              "#9c179e"
             ],
             [
              0.4444444444444444,
              "#bd3786"
             ],
             [
              0.5555555555555556,
              "#d8576b"
             ],
             [
              0.6666666666666666,
              "#ed7953"
             ],
             [
              0.7777777777777778,
              "#fb9f3a"
             ],
             [
              0.8888888888888888,
              "#fdca26"
             ],
             [
              1,
              "#f0f921"
             ]
            ],
            "type": "heatmap"
           }
          ],
          "heatmapgl": [
           {
            "colorbar": {
             "outlinewidth": 0,
             "ticks": ""
            },
            "colorscale": [
             [
              0,
              "#0d0887"
             ],
             [
              0.1111111111111111,
              "#46039f"
             ],
             [
              0.2222222222222222,
              "#7201a8"
             ],
             [
              0.3333333333333333,
              "#9c179e"
             ],
             [
              0.4444444444444444,
              "#bd3786"
             ],
             [
              0.5555555555555556,
              "#d8576b"
             ],
             [
              0.6666666666666666,
              "#ed7953"
             ],
             [
              0.7777777777777778,
              "#fb9f3a"
             ],
             [
              0.8888888888888888,
              "#fdca26"
             ],
             [
              1,
              "#f0f921"
             ]
            ],
            "type": "heatmapgl"
           }
          ],
          "histogram": [
           {
            "marker": {
             "colorbar": {
              "outlinewidth": 0,
              "ticks": ""
             }
            },
            "type": "histogram"
           }
          ],
          "histogram2d": [
           {
            "colorbar": {
             "outlinewidth": 0,
             "ticks": ""
            },
            "colorscale": [
             [
              0,
              "#0d0887"
             ],
             [
              0.1111111111111111,
              "#46039f"
             ],
             [
              0.2222222222222222,
              "#7201a8"
             ],
             [
              0.3333333333333333,
              "#9c179e"
             ],
             [
              0.4444444444444444,
              "#bd3786"
             ],
             [
              0.5555555555555556,
              "#d8576b"
             ],
             [
              0.6666666666666666,
              "#ed7953"
             ],
             [
              0.7777777777777778,
              "#fb9f3a"
             ],
             [
              0.8888888888888888,
              "#fdca26"
             ],
             [
              1,
              "#f0f921"
             ]
            ],
            "type": "histogram2d"
           }
          ],
          "histogram2dcontour": [
           {
            "colorbar": {
             "outlinewidth": 0,
             "ticks": ""
            },
            "colorscale": [
             [
              0,
              "#0d0887"
             ],
             [
              0.1111111111111111,
              "#46039f"
             ],
             [
              0.2222222222222222,
              "#7201a8"
             ],
             [
              0.3333333333333333,
              "#9c179e"
             ],
             [
              0.4444444444444444,
              "#bd3786"
             ],
             [
              0.5555555555555556,
              "#d8576b"
             ],
             [
              0.6666666666666666,
              "#ed7953"
             ],
             [
              0.7777777777777778,
              "#fb9f3a"
             ],
             [
              0.8888888888888888,
              "#fdca26"
             ],
             [
              1,
              "#f0f921"
             ]
            ],
            "type": "histogram2dcontour"
           }
          ],
          "mesh3d": [
           {
            "colorbar": {
             "outlinewidth": 0,
             "ticks": ""
            },
            "type": "mesh3d"
           }
          ],
          "parcoords": [
           {
            "line": {
             "colorbar": {
              "outlinewidth": 0,
              "ticks": ""
             }
            },
            "type": "parcoords"
           }
          ],
          "pie": [
           {
            "automargin": true,
            "type": "pie"
           }
          ],
          "scatter": [
           {
            "marker": {
             "colorbar": {
              "outlinewidth": 0,
              "ticks": ""
             }
            },
            "type": "scatter"
           }
          ],
          "scatter3d": [
           {
            "line": {
             "colorbar": {
              "outlinewidth": 0,
              "ticks": ""
             }
            },
            "marker": {
             "colorbar": {
              "outlinewidth": 0,
              "ticks": ""
             }
            },
            "type": "scatter3d"
           }
          ],
          "scattercarpet": [
           {
            "marker": {
             "colorbar": {
              "outlinewidth": 0,
              "ticks": ""
             }
            },
            "type": "scattercarpet"
           }
          ],
          "scattergeo": [
           {
            "marker": {
             "colorbar": {
              "outlinewidth": 0,
              "ticks": ""
             }
            },
            "type": "scattergeo"
           }
          ],
          "scattergl": [
           {
            "marker": {
             "colorbar": {
              "outlinewidth": 0,
              "ticks": ""
             }
            },
            "type": "scattergl"
           }
          ],
          "scattermapbox": [
           {
            "marker": {
             "colorbar": {
              "outlinewidth": 0,
              "ticks": ""
             }
            },
            "type": "scattermapbox"
           }
          ],
          "scatterpolar": [
           {
            "marker": {
             "colorbar": {
              "outlinewidth": 0,
              "ticks": ""
             }
            },
            "type": "scatterpolar"
           }
          ],
          "scatterpolargl": [
           {
            "marker": {
             "colorbar": {
              "outlinewidth": 0,
              "ticks": ""
             }
            },
            "type": "scatterpolargl"
           }
          ],
          "scatterternary": [
           {
            "marker": {
             "colorbar": {
              "outlinewidth": 0,
              "ticks": ""
             }
            },
            "type": "scatterternary"
           }
          ],
          "surface": [
           {
            "colorbar": {
             "outlinewidth": 0,
             "ticks": ""
            },
            "colorscale": [
             [
              0,
              "#0d0887"
             ],
             [
              0.1111111111111111,
              "#46039f"
             ],
             [
              0.2222222222222222,
              "#7201a8"
             ],
             [
              0.3333333333333333,
              "#9c179e"
             ],
             [
              0.4444444444444444,
              "#bd3786"
             ],
             [
              0.5555555555555556,
              "#d8576b"
             ],
             [
              0.6666666666666666,
              "#ed7953"
             ],
             [
              0.7777777777777778,
              "#fb9f3a"
             ],
             [
              0.8888888888888888,
              "#fdca26"
             ],
             [
              1,
              "#f0f921"
             ]
            ],
            "type": "surface"
           }
          ],
          "table": [
           {
            "cells": {
             "fill": {
              "color": "#EBF0F8"
             },
             "line": {
              "color": "white"
             }
            },
            "header": {
             "fill": {
              "color": "#C8D4E3"
             },
             "line": {
              "color": "white"
             }
            },
            "type": "table"
           }
          ]
         },
         "layout": {
          "annotationdefaults": {
           "arrowcolor": "#2a3f5f",
           "arrowhead": 0,
           "arrowwidth": 1
          },
          "coloraxis": {
           "colorbar": {
            "outlinewidth": 0,
            "ticks": ""
           }
          },
          "colorscale": {
           "diverging": [
            [
             0,
             "#8e0152"
            ],
            [
             0.1,
             "#c51b7d"
            ],
            [
             0.2,
             "#de77ae"
            ],
            [
             0.3,
             "#f1b6da"
            ],
            [
             0.4,
             "#fde0ef"
            ],
            [
             0.5,
             "#f7f7f7"
            ],
            [
             0.6,
             "#e6f5d0"
            ],
            [
             0.7,
             "#b8e186"
            ],
            [
             0.8,
             "#7fbc41"
            ],
            [
             0.9,
             "#4d9221"
            ],
            [
             1,
             "#276419"
            ]
           ],
           "sequential": [
            [
             0,
             "#0d0887"
            ],
            [
             0.1111111111111111,
             "#46039f"
            ],
            [
             0.2222222222222222,
             "#7201a8"
            ],
            [
             0.3333333333333333,
             "#9c179e"
            ],
            [
             0.4444444444444444,
             "#bd3786"
            ],
            [
             0.5555555555555556,
             "#d8576b"
            ],
            [
             0.6666666666666666,
             "#ed7953"
            ],
            [
             0.7777777777777778,
             "#fb9f3a"
            ],
            [
             0.8888888888888888,
             "#fdca26"
            ],
            [
             1,
             "#f0f921"
            ]
           ],
           "sequentialminus": [
            [
             0,
             "#0d0887"
            ],
            [
             0.1111111111111111,
             "#46039f"
            ],
            [
             0.2222222222222222,
             "#7201a8"
            ],
            [
             0.3333333333333333,
             "#9c179e"
            ],
            [
             0.4444444444444444,
             "#bd3786"
            ],
            [
             0.5555555555555556,
             "#d8576b"
            ],
            [
             0.6666666666666666,
             "#ed7953"
            ],
            [
             0.7777777777777778,
             "#fb9f3a"
            ],
            [
             0.8888888888888888,
             "#fdca26"
            ],
            [
             1,
             "#f0f921"
            ]
           ]
          },
          "colorway": [
           "#636efa",
           "#EF553B",
           "#00cc96",
           "#ab63fa",
           "#FFA15A",
           "#19d3f3",
           "#FF6692",
           "#B6E880",
           "#FF97FF",
           "#FECB52"
          ],
          "font": {
           "color": "#2a3f5f"
          },
          "geo": {
           "bgcolor": "white",
           "lakecolor": "white",
           "landcolor": "#E5ECF6",
           "showlakes": true,
           "showland": true,
           "subunitcolor": "white"
          },
          "hoverlabel": {
           "align": "left"
          },
          "hovermode": "closest",
          "mapbox": {
           "style": "light"
          },
          "paper_bgcolor": "white",
          "plot_bgcolor": "#E5ECF6",
          "polar": {
           "angularaxis": {
            "gridcolor": "white",
            "linecolor": "white",
            "ticks": ""
           },
           "bgcolor": "#E5ECF6",
           "radialaxis": {
            "gridcolor": "white",
            "linecolor": "white",
            "ticks": ""
           }
          },
          "scene": {
           "xaxis": {
            "backgroundcolor": "#E5ECF6",
            "gridcolor": "white",
            "gridwidth": 2,
            "linecolor": "white",
            "showbackground": true,
            "ticks": "",
            "zerolinecolor": "white"
           },
           "yaxis": {
            "backgroundcolor": "#E5ECF6",
            "gridcolor": "white",
            "gridwidth": 2,
            "linecolor": "white",
            "showbackground": true,
            "ticks": "",
            "zerolinecolor": "white"
           },
           "zaxis": {
            "backgroundcolor": "#E5ECF6",
            "gridcolor": "white",
            "gridwidth": 2,
            "linecolor": "white",
            "showbackground": true,
            "ticks": "",
            "zerolinecolor": "white"
           }
          },
          "shapedefaults": {
           "line": {
            "color": "#2a3f5f"
           }
          },
          "ternary": {
           "aaxis": {
            "gridcolor": "white",
            "linecolor": "white",
            "ticks": ""
           },
           "baxis": {
            "gridcolor": "white",
            "linecolor": "white",
            "ticks": ""
           },
           "bgcolor": "#E5ECF6",
           "caxis": {
            "gridcolor": "white",
            "linecolor": "white",
            "ticks": ""
           }
          },
          "title": {
           "x": 0.05
          },
          "xaxis": {
           "automargin": true,
           "gridcolor": "white",
           "linecolor": "white",
           "ticks": "",
           "title": {
            "standoff": 15
           },
           "zerolinecolor": "white",
           "zerolinewidth": 2
          },
          "yaxis": {
           "automargin": true,
           "gridcolor": "white",
           "linecolor": "white",
           "ticks": "",
           "title": {
            "standoff": 15
           },
           "zerolinecolor": "white",
           "zerolinewidth": 2
          }
         }
        },
        "title": {
         "font": {
          "color": "#4D5663"
         },
         "text": "Review Text Length Distribution"
        },
        "xaxis": {
         "gridcolor": "#E1E5ED",
         "linecolor": "black",
         "showgrid": true,
         "tickfont": {
          "color": "#4D5663"
         },
         "title": {
          "font": {
           "color": "#4D5663"
          },
          "text": "body length"
         },
         "zerolinecolor": "#E1E5ED"
        },
        "yaxis": {
         "gridcolor": "#E1E5ED",
         "linecolor": "black",
         "showgrid": true,
         "tickfont": {
          "color": "#4D5663"
         },
         "title": {
          "font": {
           "color": "#4D5663"
          },
          "text": "count"
         },
         "zerolinecolor": "#E1E5ED"
        }
       }
      },
      "text/html": [
       "<div>\n",
       "        \n",
       "        \n",
       "            <div id=\"a90db3b3-347d-4fb6-a797-e21d76bba38c\" class=\"plotly-graph-div\" style=\"height:525px; width:100%;\"></div>\n",
       "            <script type=\"text/javascript\">\n",
       "                require([\"plotly\"], function(Plotly) {\n",
       "                    window.PLOTLYENV=window.PLOTLYENV || {};\n",
       "                    window.PLOTLYENV.BASE_URL='https://plot.ly';\n",
       "                    \n",
       "                if (document.getElementById(\"a90db3b3-347d-4fb6-a797-e21d76bba38c\")) {\n",
       "                    Plotly.newPlot(\n",
       "                        'a90db3b3-347d-4fb6-a797-e21d76bba38c',\n",
       "                        [{\"histfunc\": \"count\", \"histnorm\": \"\", \"marker\": {\"color\": \"rgba(255, 153, 51, 1.0)\", \"line\": {\"color\": \"#000000\", \"width\": 1.3}}, \"name\": \"body\", \"nbinsx\": 100, \"opacity\": 0.8, \"orientation\": \"v\", \"type\": \"histogram\", \"x\": [682, 1988, 387, 157, 676, 9788, 433, 761, 279, 2319, 479, 786, 274, 160, 1109, 197, 557, 1011, 292, 2443, 300, 2696, 3853, 1139, 2001, 3144, 730, 348, 933, 91, 515, 128, 113, 354, 183, 297, 262, 10, 92, 1016, 2130, 25, 60, 414, 120, 418, 3, 49, 3, 424, 124, 220, 552, 56, 179, 958, 302, 630, 708, 251, 3, 32, 84, 112, 225, 3, 60, 624, 141, 421, 407, 1172, 2439, 501, 564, 143, 167, 428, 112, 497, 760, 145, 169, 569, 320, 888, 197, 800, 3, 10, 271, 9362, 317, 385, 613, 57, 70, 334, 53, 588, 402, 324, 3, 3, 3, 3, 3, 115, 507, 362, 232, 925, 178, 57, 3, 156, 3, 3, 22, 3, 1047, 3, 321, 275, 3, 3, 3, 54, 3, 3, 28645, 3, 3, 3, 3, 359, 3, 254, 1962, 3, 80, 3, 33, 3, 3, 3, 75, 158, 3, 3, 623, 3, 3, 3, 1380, 3, 287, 101, 3, 3, 3, 3, 378, 3, 17, 184, 3, 185, 3, 208, 3, 3, 3, 86, 1306, 3, 3, 460, 1446, 3, 171, 97, 3, 360, 306, 3, 26, 3, 3, 3, 3, 3, 34, 495, 348, 19, 129, 3, 22, 24, 355, 3, 456, 909, 12, 854, 2309, 146, 515, 3, 11, 3, 115, 3, 186, 838, 3, 3, 3, 443, 286, 3, 3, 3, 687, 3, 883, 3, 3, 3, 404, 729, 3, 3, 3, 504, 3, 3, 3, 3, 3, 3, 3, 3, 72, 2857, 3, 3, 3, 3, 3, 3, 71, 3, 3, 114, 646, 3, 192, 3, 3, 3, 3, 186, 3, 3, 145, 3, 3, 3, 3, 3, 3, 3, 3, 3, 3, 3, 3, 3, 3, 199, 3, 3, 3, 169, 3, 3, 445, 3, 3, 3, 3, 445, 3, 3, 3, 849, 445, 3, 3, 448, 445, 3, 54, 212, 3, 3, 538, 204, 169, 3, 3, 445, 204, 3, 3, 3, 3, 3, 3, 302, 3, 3, 3, 3, 3, 3, 3, 3, 3, 3, 3, 3, 3, 3, 3, 53, 375, 178, 24, 3, 3, 142, 3, 3, 3, 3, 198, 3, 3, 3, 141, 3, 3, 22, 3, 3, 3, 77, 3, 3, 195, 164, 152, 255, 3, 1237, 3, 132, 3, 3, 27, 474, 372, 424, 3, 69, 935, 62, 3, 3, 3, 516, 3, 3, 3, 3, 3, 3, 3, 3, 3, 3, 3, 3, 3, 188, 3, 67, 3, 3, 1186, 3, 3, 3, 75, 3, 3, 97, 533, 3, 203, 3, 46, 3, 100, 3, 3, 3, 3, 3, 2520, 3, 3, 3, 3, 443, 1738, 2806, 2183, 2874, 987, 927, 6727, 238, 925, 478, 666, 6813, 387, 3, 988, 3, 3, 3, 3, 3, 128, 279, 3, 670, 3, 3, 3, 3, 3, 3, 3, 3, 3, 924, 3, 26, 3, 3, 3, 3, 3, 585, 3, 3, 3, 3, 3, 3, 3, 3, 3, 3, 3, 290, 3, 3, 3, 3, 3, 3, 3, 3, 3, 3, 3, 3, 3, 3, 982, 3, 3, 3, 3, 3, 3, 3, 3, 3, 3, 3, 3, 330, 85, 3, 325, 3, 3, 3, 3, 3, 3, 3, 3, 3, 3, 3, 3, 3, 3, 3, 3, 3, 3, 3, 3, 3, 3, 3, 3, 3, 3, 97, 3, 3, 182, 1189, 354, 570, 294, 226, 3, 3, 3, 209, 3, 3, 71, 3, 301, 1208, 3, 3, 3, 3, 395, 3, 320, 3, 3, 1394, 1344, 687, 3, 3, 478, 3, 86, 462, 3, 1892, 3, 3, 111, 3, 3, 3, 3, 3, 3, 3, 3, 3, 300, 299, 3, 3, 3, 321, 3, 3, 3, 3, 3, 306, 821, 3, 3, 3, 3, 3, 3, 3, 584, 3, 3, 3, 3, 3, 3, 3, 3, 475, 722, 3, 3, 3, 3, 41, 3, 3, 3, 3, 3, 3, 3, 3, 3, 3, 3, 219, 3, 155, 3, 3, 3, 3, 612, 575, 3, 3, 3, 3, 204, 3, 3, 3, 3, 3, 3, 3, 1250, 486, 877, 624, 489, 2608, 87, 2306, 1820, 8303, 2760, 2168, 1863, 9563, 1152, 13892, 1243, 903, 309, 1603, 3289, 28645, 7555, 623, 1103, 1879, 9620, 158, 320, 439, 2319, 255, 5085, 2307, 1308, 8226, 385, 1218, 1488, 2431, 2604, 403, 1950, 1042, 4903, 716, 909, 3349, 2727, 6401, 9390, 5040, 4722, 581, 8419, 2198, 5514, 5483, 6539, 143, 3317, 3, 3, 3, 3, 3, 3, 3, 3, 3, 3, 3, 3, 3, 3, 3, 3, 3365, 3, 3, 3, 3, 3, 3144, 3, 3, 3, 359, 3, 3, 263, 3, 3, 3, 3, 3, 3, 3, 3, 346, 3, 3, 3, 71, 3, 184, 3, 3, 390, 3, 3, 3, 3, 3, 3, 3, 3, 3, 3, 3, 3, 3, 3, 3, 167, 3, 3, 3, 3, 3, 3, 3, 3, 439, 3, 3, 3, 3, 3, 3, 3, 3, 3, 3, 3, 3, 3, 3, 3, 933, 3, 3, 3, 3, 3, 3, 3, 3, 2246, 3, 3, 3, 3, 433, 3, 3, 3, 3, 3, 3, 3, 3, 3, 3, 202, 3, 570, 72, 3, 3, 286, 3, 343, 3, 443, 139, 3, 3, 3, 785, 3, 3, 110, 112, 54, 3, 284, 3, 3, 3, 3, 3, 3, 3, 3, 3, 3, 3, 49, 3, 28, 125, 3, 3, 1132, 3, 3, 3, 3, 75, 3, 3, 3, 2068, 51, 114, 3, 3, 1030, 3, 251, 215, 3, 3, 3, 977, 248, 3, 3, 3, 3, 5027, 449, 15, 3, 3, 50, 3, 3, 3, 3, 3, 367, 206, 332, 3, 3, 392, 3, 3, 3, 2103, 3, 3, 283, 3, 3, 3, 3, 3, 3, 3, 47, 3, 3, 3, 3, 352, 3, 3, 3, 3, 3, 3, 3, 452, 3, 3, 3, 3, 3, 419, 3, 423, 408, 3, 188, 3, 3, 3, 3, 3, 3, 3, 219, 3, 3, 3, 17, 1048, 3, 3, 0, 3, 3, 141, 3, 431, 3, 3, 3, 3, 3, 15, 3, 3, 3, 145, 3, 3, 3, 21, 3, 3, 3, 109, 3, 3, 87, 12561, 3, 324, 3, 233, 145, 566, 88, 3, 3, 3, 3, 766, 3, 164, 3, 172, 3, 262, 174, 67, 3, 3, 1037, 3, 3, 3, 1029, 3, 112, 471, 3, 377, 1052, 272, 269, 235, 697, 123, 1390, 3, 3, 575, 71, 383, 3, 1131, 275, 1449, 912, 3, 3, 911, 548, 321, 611, 602, 319, 56, 3, 369, 1146, 34, 18, 473, 3, 3, 3, 1532, 485, 3, 1342, 298, 3, 3, 1401, 83, 487, 174, 343, 3, 2244, 435, 51, 693, 640, 58, 3, 3, 68, 715, 978, 171, 3, 177, 76, 1232, 601, 3, 156, 607, 115, 349, 398, 3042, 3, 3, 14, 3, 836, 3, 2451, 37, 69, 3, 3, 3, 3214, 1556, 519]}],\n",
       "                        {\"barmode\": \"overlay\", \"legend\": {\"bgcolor\": \"#F5F6F9\", \"font\": {\"color\": \"#4D5663\"}}, \"paper_bgcolor\": \"#F5F6F9\", \"plot_bgcolor\": \"#F5F6F9\", \"template\": {\"data\": {\"bar\": [{\"error_x\": {\"color\": \"#2a3f5f\"}, \"error_y\": {\"color\": \"#2a3f5f\"}, \"marker\": {\"line\": {\"color\": \"#E5ECF6\", \"width\": 0.5}}, \"type\": \"bar\"}], \"barpolar\": [{\"marker\": {\"line\": {\"color\": \"#E5ECF6\", \"width\": 0.5}}, \"type\": \"barpolar\"}], \"carpet\": [{\"aaxis\": {\"endlinecolor\": \"#2a3f5f\", \"gridcolor\": \"white\", \"linecolor\": \"white\", \"minorgridcolor\": \"white\", \"startlinecolor\": \"#2a3f5f\"}, \"baxis\": {\"endlinecolor\": \"#2a3f5f\", \"gridcolor\": \"white\", \"linecolor\": \"white\", \"minorgridcolor\": \"white\", \"startlinecolor\": \"#2a3f5f\"}, \"type\": \"carpet\"}], \"choropleth\": [{\"colorbar\": {\"outlinewidth\": 0, \"ticks\": \"\"}, \"type\": \"choropleth\"}], \"contour\": [{\"colorbar\": {\"outlinewidth\": 0, \"ticks\": \"\"}, \"colorscale\": [[0.0, \"#0d0887\"], [0.1111111111111111, \"#46039f\"], [0.2222222222222222, \"#7201a8\"], [0.3333333333333333, \"#9c179e\"], [0.4444444444444444, \"#bd3786\"], [0.5555555555555556, \"#d8576b\"], [0.6666666666666666, \"#ed7953\"], [0.7777777777777778, \"#fb9f3a\"], [0.8888888888888888, \"#fdca26\"], [1.0, \"#f0f921\"]], \"type\": \"contour\"}], \"contourcarpet\": [{\"colorbar\": {\"outlinewidth\": 0, \"ticks\": \"\"}, \"type\": \"contourcarpet\"}], \"heatmap\": [{\"colorbar\": {\"outlinewidth\": 0, \"ticks\": \"\"}, \"colorscale\": [[0.0, \"#0d0887\"], [0.1111111111111111, \"#46039f\"], [0.2222222222222222, \"#7201a8\"], [0.3333333333333333, \"#9c179e\"], [0.4444444444444444, \"#bd3786\"], [0.5555555555555556, \"#d8576b\"], [0.6666666666666666, \"#ed7953\"], [0.7777777777777778, \"#fb9f3a\"], [0.8888888888888888, \"#fdca26\"], [1.0, \"#f0f921\"]], \"type\": \"heatmap\"}], \"heatmapgl\": [{\"colorbar\": {\"outlinewidth\": 0, \"ticks\": \"\"}, \"colorscale\": [[0.0, \"#0d0887\"], [0.1111111111111111, \"#46039f\"], [0.2222222222222222, \"#7201a8\"], [0.3333333333333333, \"#9c179e\"], [0.4444444444444444, \"#bd3786\"], [0.5555555555555556, \"#d8576b\"], [0.6666666666666666, \"#ed7953\"], [0.7777777777777778, \"#fb9f3a\"], [0.8888888888888888, \"#fdca26\"], [1.0, \"#f0f921\"]], \"type\": \"heatmapgl\"}], \"histogram\": [{\"marker\": {\"colorbar\": {\"outlinewidth\": 0, \"ticks\": \"\"}}, \"type\": \"histogram\"}], \"histogram2d\": [{\"colorbar\": {\"outlinewidth\": 0, \"ticks\": \"\"}, \"colorscale\": [[0.0, \"#0d0887\"], [0.1111111111111111, \"#46039f\"], [0.2222222222222222, \"#7201a8\"], [0.3333333333333333, \"#9c179e\"], [0.4444444444444444, \"#bd3786\"], [0.5555555555555556, \"#d8576b\"], [0.6666666666666666, \"#ed7953\"], [0.7777777777777778, \"#fb9f3a\"], [0.8888888888888888, \"#fdca26\"], [1.0, \"#f0f921\"]], \"type\": \"histogram2d\"}], \"histogram2dcontour\": [{\"colorbar\": {\"outlinewidth\": 0, \"ticks\": \"\"}, \"colorscale\": [[0.0, \"#0d0887\"], [0.1111111111111111, \"#46039f\"], [0.2222222222222222, \"#7201a8\"], [0.3333333333333333, \"#9c179e\"], [0.4444444444444444, \"#bd3786\"], [0.5555555555555556, \"#d8576b\"], [0.6666666666666666, \"#ed7953\"], [0.7777777777777778, \"#fb9f3a\"], [0.8888888888888888, \"#fdca26\"], [1.0, \"#f0f921\"]], \"type\": \"histogram2dcontour\"}], \"mesh3d\": [{\"colorbar\": {\"outlinewidth\": 0, \"ticks\": \"\"}, \"type\": \"mesh3d\"}], \"parcoords\": [{\"line\": {\"colorbar\": {\"outlinewidth\": 0, \"ticks\": \"\"}}, \"type\": \"parcoords\"}], \"pie\": [{\"automargin\": true, \"type\": \"pie\"}], \"scatter\": [{\"marker\": {\"colorbar\": {\"outlinewidth\": 0, \"ticks\": \"\"}}, \"type\": \"scatter\"}], \"scatter3d\": [{\"line\": {\"colorbar\": {\"outlinewidth\": 0, \"ticks\": \"\"}}, \"marker\": {\"colorbar\": {\"outlinewidth\": 0, \"ticks\": \"\"}}, \"type\": \"scatter3d\"}], \"scattercarpet\": [{\"marker\": {\"colorbar\": {\"outlinewidth\": 0, \"ticks\": \"\"}}, \"type\": \"scattercarpet\"}], \"scattergeo\": [{\"marker\": {\"colorbar\": {\"outlinewidth\": 0, \"ticks\": \"\"}}, \"type\": \"scattergeo\"}], \"scattergl\": [{\"marker\": {\"colorbar\": {\"outlinewidth\": 0, \"ticks\": \"\"}}, \"type\": \"scattergl\"}], \"scattermapbox\": [{\"marker\": {\"colorbar\": {\"outlinewidth\": 0, \"ticks\": \"\"}}, \"type\": \"scattermapbox\"}], \"scatterpolar\": [{\"marker\": {\"colorbar\": {\"outlinewidth\": 0, \"ticks\": \"\"}}, \"type\": \"scatterpolar\"}], \"scatterpolargl\": [{\"marker\": {\"colorbar\": {\"outlinewidth\": 0, \"ticks\": \"\"}}, \"type\": \"scatterpolargl\"}], \"scatterternary\": [{\"marker\": {\"colorbar\": {\"outlinewidth\": 0, \"ticks\": \"\"}}, \"type\": \"scatterternary\"}], \"surface\": [{\"colorbar\": {\"outlinewidth\": 0, \"ticks\": \"\"}, \"colorscale\": [[0.0, \"#0d0887\"], [0.1111111111111111, \"#46039f\"], [0.2222222222222222, \"#7201a8\"], [0.3333333333333333, \"#9c179e\"], [0.4444444444444444, \"#bd3786\"], [0.5555555555555556, \"#d8576b\"], [0.6666666666666666, \"#ed7953\"], [0.7777777777777778, \"#fb9f3a\"], [0.8888888888888888, \"#fdca26\"], [1.0, \"#f0f921\"]], \"type\": \"surface\"}], \"table\": [{\"cells\": {\"fill\": {\"color\": \"#EBF0F8\"}, \"line\": {\"color\": \"white\"}}, \"header\": {\"fill\": {\"color\": \"#C8D4E3\"}, \"line\": {\"color\": \"white\"}}, \"type\": \"table\"}]}, \"layout\": {\"annotationdefaults\": {\"arrowcolor\": \"#2a3f5f\", \"arrowhead\": 0, \"arrowwidth\": 1}, \"coloraxis\": {\"colorbar\": {\"outlinewidth\": 0, \"ticks\": \"\"}}, \"colorscale\": {\"diverging\": [[0, \"#8e0152\"], [0.1, \"#c51b7d\"], [0.2, \"#de77ae\"], [0.3, \"#f1b6da\"], [0.4, \"#fde0ef\"], [0.5, \"#f7f7f7\"], [0.6, \"#e6f5d0\"], [0.7, \"#b8e186\"], [0.8, \"#7fbc41\"], [0.9, \"#4d9221\"], [1, \"#276419\"]], \"sequential\": [[0.0, \"#0d0887\"], [0.1111111111111111, \"#46039f\"], [0.2222222222222222, \"#7201a8\"], [0.3333333333333333, \"#9c179e\"], [0.4444444444444444, \"#bd3786\"], [0.5555555555555556, \"#d8576b\"], [0.6666666666666666, \"#ed7953\"], [0.7777777777777778, \"#fb9f3a\"], [0.8888888888888888, \"#fdca26\"], [1.0, \"#f0f921\"]], \"sequentialminus\": [[0.0, \"#0d0887\"], [0.1111111111111111, \"#46039f\"], [0.2222222222222222, \"#7201a8\"], [0.3333333333333333, \"#9c179e\"], [0.4444444444444444, \"#bd3786\"], [0.5555555555555556, \"#d8576b\"], [0.6666666666666666, \"#ed7953\"], [0.7777777777777778, \"#fb9f3a\"], [0.8888888888888888, \"#fdca26\"], [1.0, \"#f0f921\"]]}, \"colorway\": [\"#636efa\", \"#EF553B\", \"#00cc96\", \"#ab63fa\", \"#FFA15A\", \"#19d3f3\", \"#FF6692\", \"#B6E880\", \"#FF97FF\", \"#FECB52\"], \"font\": {\"color\": \"#2a3f5f\"}, \"geo\": {\"bgcolor\": \"white\", \"lakecolor\": \"white\", \"landcolor\": \"#E5ECF6\", \"showlakes\": true, \"showland\": true, \"subunitcolor\": \"white\"}, \"hoverlabel\": {\"align\": \"left\"}, \"hovermode\": \"closest\", \"mapbox\": {\"style\": \"light\"}, \"paper_bgcolor\": \"white\", \"plot_bgcolor\": \"#E5ECF6\", \"polar\": {\"angularaxis\": {\"gridcolor\": \"white\", \"linecolor\": \"white\", \"ticks\": \"\"}, \"bgcolor\": \"#E5ECF6\", \"radialaxis\": {\"gridcolor\": \"white\", \"linecolor\": \"white\", \"ticks\": \"\"}}, \"scene\": {\"xaxis\": {\"backgroundcolor\": \"#E5ECF6\", \"gridcolor\": \"white\", \"gridwidth\": 2, \"linecolor\": \"white\", \"showbackground\": true, \"ticks\": \"\", \"zerolinecolor\": \"white\"}, \"yaxis\": {\"backgroundcolor\": \"#E5ECF6\", \"gridcolor\": \"white\", \"gridwidth\": 2, \"linecolor\": \"white\", \"showbackground\": true, \"ticks\": \"\", \"zerolinecolor\": \"white\"}, \"zaxis\": {\"backgroundcolor\": \"#E5ECF6\", \"gridcolor\": \"white\", \"gridwidth\": 2, \"linecolor\": \"white\", \"showbackground\": true, \"ticks\": \"\", \"zerolinecolor\": \"white\"}}, \"shapedefaults\": {\"line\": {\"color\": \"#2a3f5f\"}}, \"ternary\": {\"aaxis\": {\"gridcolor\": \"white\", \"linecolor\": \"white\", \"ticks\": \"\"}, \"baxis\": {\"gridcolor\": \"white\", \"linecolor\": \"white\", \"ticks\": \"\"}, \"bgcolor\": \"#E5ECF6\", \"caxis\": {\"gridcolor\": \"white\", \"linecolor\": \"white\", \"ticks\": \"\"}}, \"title\": {\"x\": 0.05}, \"xaxis\": {\"automargin\": true, \"gridcolor\": \"white\", \"linecolor\": \"white\", \"ticks\": \"\", \"title\": {\"standoff\": 15}, \"zerolinecolor\": \"white\", \"zerolinewidth\": 2}, \"yaxis\": {\"automargin\": true, \"gridcolor\": \"white\", \"linecolor\": \"white\", \"ticks\": \"\", \"title\": {\"standoff\": 15}, \"zerolinecolor\": \"white\", \"zerolinewidth\": 2}}}, \"title\": {\"font\": {\"color\": \"#4D5663\"}, \"text\": \"Review Text Length Distribution\"}, \"xaxis\": {\"gridcolor\": \"#E1E5ED\", \"linecolor\": \"black\", \"showgrid\": true, \"tickfont\": {\"color\": \"#4D5663\"}, \"title\": {\"font\": {\"color\": \"#4D5663\"}, \"text\": \"body length\"}, \"zerolinecolor\": \"#E1E5ED\"}, \"yaxis\": {\"gridcolor\": \"#E1E5ED\", \"linecolor\": \"black\", \"showgrid\": true, \"tickfont\": {\"color\": \"#4D5663\"}, \"title\": {\"font\": {\"color\": \"#4D5663\"}, \"text\": \"count\"}, \"zerolinecolor\": \"#E1E5ED\"}},\n",
       "                        {\"showLink\": true, \"linkText\": \"Export to plot.ly\", \"plotlyServerURL\": \"https://plot.ly\", \"responsive\": true}\n",
       "                    ).then(function(){\n",
       "                            \n",
       "var gd = document.getElementById('a90db3b3-347d-4fb6-a797-e21d76bba38c');\n",
       "var x = new MutationObserver(function (mutations, observer) {{\n",
       "        var display = window.getComputedStyle(gd).display;\n",
       "        if (!display || display === 'none') {{\n",
       "            console.log([gd, 'removed!']);\n",
       "            Plotly.purge(gd);\n",
       "            observer.disconnect();\n",
       "        }}\n",
       "}});\n",
       "\n",
       "// Listen for the removal of the full notebook cells\n",
       "var notebookContainer = gd.closest('#notebook-container');\n",
       "if (notebookContainer) {{\n",
       "    x.observe(notebookContainer, {childList: true});\n",
       "}}\n",
       "\n",
       "// Listen for the clearing of the current output cell\n",
       "var outputEl = gd.closest('.output');\n",
       "if (outputEl) {{\n",
       "    x.observe(outputEl, {childList: true});\n",
       "}}\n",
       "\n",
       "                        })\n",
       "                };\n",
       "                });\n",
       "            </script>\n",
       "        </div>"
      ]
     },
     "metadata": {},
     "output_type": "display_data"
    }
   ],
   "source": [
    "import cufflinks as cf\n",
    "cf.go_offline()\n",
    "cf.set_config_file(offline=False, world_readable=True)\n",
    "\n",
    "length_body = topics_data['body'].astype(str).apply(len)\n",
    "length_body.iplot(\n",
    "    kind='hist',\n",
    "    bins=100,\n",
    "    xTitle='body length',\n",
    "    linecolor='black',\n",
    "    yTitle='count',\n",
    "    title='Review Text Length Distribution')"
   ]
  },
  {
   "cell_type": "markdown",
   "metadata": {},
   "source": [
    "### Word count of body"
   ]
  },
  {
   "cell_type": "code",
   "execution_count": 25,
   "metadata": {},
   "outputs": [
    {
     "data": {
      "application/vnd.plotly.v1+json": {
       "config": {
        "linkText": "Export to plot.ly",
        "plotlyServerURL": "https://plot.ly",
        "showLink": true
       },
       "data": [
        {
         "histfunc": "count",
         "histnorm": "",
         "marker": {
          "color": "rgba(255, 153, 51, 1.0)",
          "line": {
           "color": "#000000",
           "width": 1.3
          }
         },
         "name": "body",
         "nbinsx": 100,
         "opacity": 0.8,
         "orientation": "v",
         "type": "histogram",
         "x": [
          104,
          274,
          47,
          26,
          92,
          1342,
          58,
          106,
          41,
          315,
          71,
          107,
          42,
          21,
          160,
          24,
          81,
          149,
          46,
          312,
          41,
          356,
          540,
          152,
          285,
          423,
          106,
          50,
          126,
          18,
          78,
          17,
          20,
          58,
          26,
          46,
          36,
          2,
          14,
          154,
          276,
          4,
          8,
          56,
          20,
          56,
          1,
          8,
          1,
          63,
          20,
          32,
          85,
          8,
          26,
          137,
          48,
          96,
          105,
          38,
          1,
          5,
          12,
          18,
          33,
          1,
          9,
          91,
          22,
          64,
          57,
          189,
          282,
          80,
          90,
          18,
          25,
          63,
          16,
          69,
          119,
          20,
          26,
          91,
          45,
          115,
          31,
          118,
          1,
          2,
          40,
          1282,
          49,
          52,
          91,
          9,
          10,
          45,
          8,
          80,
          63,
          46,
          1,
          1,
          1,
          1,
          1,
          15,
          83,
          51,
          33,
          143,
          26,
          8,
          1,
          25,
          1,
          1,
          3,
          1,
          156,
          1,
          41,
          38,
          1,
          1,
          1,
          10,
          1,
          1,
          3603,
          1,
          1,
          1,
          1,
          32,
          1,
          36,
          273,
          1,
          14,
          1,
          5,
          1,
          1,
          1,
          12,
          23,
          1,
          1,
          82,
          1,
          1,
          1,
          211,
          1,
          42,
          13,
          1,
          1,
          1,
          1,
          51,
          1,
          3,
          22,
          1,
          34,
          1,
          29,
          1,
          1,
          1,
          14,
          190,
          1,
          1,
          71,
          199,
          1,
          26,
          12,
          1,
          59,
          44,
          1,
          5,
          1,
          1,
          1,
          1,
          1,
          7,
          67,
          49,
          3,
          17,
          1,
          4,
          3,
          44,
          1,
          64,
          127,
          2,
          107,
          309,
          21,
          79,
          1,
          2,
          1,
          15,
          1,
          20,
          120,
          1,
          1,
          1,
          47,
          38,
          1,
          1,
          1,
          95,
          1,
          126,
          1,
          1,
          1,
          52,
          110,
          1,
          1,
          1,
          74,
          1,
          1,
          1,
          1,
          1,
          1,
          1,
          1,
          11,
          422,
          1,
          1,
          1,
          1,
          1,
          1,
          11,
          1,
          1,
          8,
          83,
          1,
          23,
          1,
          1,
          1,
          1,
          20,
          1,
          1,
          21,
          1,
          1,
          1,
          1,
          1,
          1,
          1,
          1,
          1,
          1,
          1,
          1,
          1,
          1,
          16,
          1,
          1,
          1,
          13,
          1,
          1,
          63,
          1,
          1,
          1,
          1,
          63,
          1,
          1,
          1,
          128,
          63,
          1,
          1,
          63,
          63,
          1,
          9,
          29,
          1,
          1,
          74,
          28,
          24,
          1,
          1,
          63,
          28,
          1,
          1,
          1,
          1,
          1,
          1,
          42,
          1,
          1,
          1,
          1,
          1,
          1,
          1,
          1,
          1,
          1,
          1,
          1,
          1,
          1,
          1,
          7,
          55,
          27,
          4,
          1,
          1,
          16,
          1,
          1,
          1,
          1,
          28,
          1,
          1,
          1,
          22,
          1,
          1,
          3,
          1,
          1,
          1,
          11,
          1,
          1,
          26,
          27,
          22,
          39,
          1,
          143,
          1,
          18,
          1,
          1,
          4,
          76,
          57,
          57,
          1,
          11,
          147,
          9,
          1,
          1,
          1,
          78,
          1,
          1,
          1,
          1,
          1,
          1,
          1,
          1,
          1,
          1,
          1,
          1,
          1,
          27,
          1,
          11,
          1,
          1,
          141,
          1,
          1,
          1,
          14,
          1,
          1,
          12,
          75,
          1,
          30,
          1,
          6,
          1,
          13,
          1,
          1,
          1,
          1,
          1,
          367,
          1,
          1,
          1,
          1,
          56,
          227,
          374,
          325,
          320,
          144,
          117,
          795,
          31,
          119,
          73,
          82,
          873,
          46,
          1,
          146,
          1,
          1,
          1,
          1,
          1,
          21,
          42,
          1,
          104,
          1,
          1,
          1,
          1,
          1,
          1,
          1,
          1,
          1,
          97,
          1,
          4,
          1,
          1,
          1,
          1,
          1,
          94,
          1,
          1,
          1,
          1,
          1,
          1,
          1,
          1,
          1,
          1,
          1,
          33,
          1,
          1,
          1,
          1,
          1,
          1,
          1,
          1,
          1,
          1,
          1,
          1,
          1,
          1,
          128,
          1,
          1,
          1,
          1,
          1,
          1,
          1,
          1,
          1,
          1,
          1,
          1,
          47,
          11,
          1,
          54,
          1,
          1,
          1,
          1,
          1,
          1,
          1,
          1,
          1,
          1,
          1,
          1,
          1,
          1,
          1,
          1,
          1,
          1,
          1,
          1,
          1,
          1,
          1,
          1,
          1,
          1,
          12,
          1,
          1,
          26,
          144,
          50,
          85,
          43,
          25,
          1,
          1,
          1,
          29,
          1,
          1,
          11,
          1,
          46,
          167,
          1,
          1,
          1,
          1,
          58,
          1,
          43,
          1,
          1,
          209,
          164,
          95,
          1,
          1,
          61,
          1,
          11,
          67,
          1,
          265,
          1,
          1,
          16,
          1,
          1,
          1,
          1,
          1,
          1,
          1,
          1,
          1,
          40,
          41,
          1,
          1,
          1,
          36,
          1,
          1,
          1,
          1,
          1,
          40,
          117,
          1,
          1,
          1,
          1,
          1,
          1,
          1,
          88,
          1,
          1,
          1,
          1,
          1,
          1,
          1,
          1,
          69,
          103,
          1,
          1,
          1,
          1,
          6,
          1,
          1,
          1,
          1,
          1,
          1,
          1,
          1,
          1,
          1,
          1,
          27,
          1,
          25,
          1,
          1,
          1,
          1,
          87,
          85,
          1,
          1,
          1,
          1,
          29,
          1,
          1,
          1,
          1,
          1,
          1,
          1,
          188,
          74,
          84,
          91,
          72,
          343,
          12,
          266,
          259,
          1201,
          388,
          328,
          252,
          1263,
          100,
          639,
          181,
          128,
          39,
          200,
          396,
          3603,
          1039,
          59,
          157,
          227,
          1349,
          23,
          48,
          68,
          315,
          38,
          690,
          324,
          168,
          1049,
          43,
          153,
          224,
          217,
          388,
          62,
          227,
          143,
          589,
          103,
          102,
          416,
          338,
          808,
          1224,
          434,
          550,
          91,
          1002,
          302,
          552,
          739,
          773,
          18,
          489,
          1,
          1,
          1,
          1,
          1,
          1,
          1,
          1,
          1,
          1,
          1,
          1,
          1,
          1,
          1,
          1,
          464,
          1,
          1,
          1,
          1,
          1,
          423,
          1,
          1,
          1,
          49,
          1,
          1,
          34,
          1,
          1,
          1,
          1,
          1,
          1,
          1,
          1,
          42,
          1,
          1,
          1,
          11,
          1,
          26,
          1,
          1,
          49,
          1,
          1,
          1,
          1,
          1,
          1,
          1,
          1,
          1,
          1,
          1,
          1,
          1,
          1,
          1,
          26,
          1,
          1,
          1,
          1,
          1,
          1,
          1,
          1,
          62,
          1,
          1,
          1,
          1,
          1,
          1,
          1,
          1,
          1,
          1,
          1,
          1,
          1,
          1,
          1,
          124,
          1,
          1,
          1,
          1,
          1,
          1,
          1,
          1,
          288,
          1,
          1,
          1,
          1,
          64,
          1,
          1,
          1,
          1,
          1,
          1,
          1,
          1,
          1,
          1,
          30,
          1,
          79,
          11,
          1,
          1,
          37,
          1,
          57,
          1,
          64,
          21,
          1,
          1,
          1,
          118,
          1,
          1,
          17,
          19,
          9,
          1,
          42,
          1,
          1,
          1,
          1,
          1,
          1,
          1,
          1,
          1,
          1,
          1,
          7,
          1,
          3,
          14,
          1,
          1,
          147,
          1,
          1,
          1,
          1,
          10,
          1,
          1,
          1,
          321,
          7,
          15,
          1,
          1,
          159,
          1,
          34,
          31,
          1,
          1,
          1,
          159,
          35,
          1,
          1,
          1,
          1,
          554,
          58,
          3,
          1,
          1,
          8,
          1,
          1,
          1,
          1,
          1,
          58,
          29,
          50,
          1,
          1,
          56,
          1,
          1,
          1,
          322,
          1,
          1,
          41,
          1,
          1,
          1,
          1,
          1,
          1,
          1,
          6,
          1,
          1,
          1,
          1,
          57,
          1,
          1,
          1,
          1,
          1,
          1,
          1,
          66,
          1,
          1,
          1,
          1,
          1,
          62,
          1,
          65,
          61,
          1,
          30,
          1,
          1,
          1,
          1,
          1,
          1,
          1,
          30,
          1,
          1,
          1,
          3,
          139,
          1,
          1,
          0,
          1,
          1,
          23,
          1,
          63,
          1,
          1,
          1,
          1,
          1,
          3,
          1,
          1,
          1,
          20,
          1,
          1,
          1,
          3,
          1,
          1,
          1,
          5,
          1,
          1,
          14,
          1806,
          1,
          48,
          1,
          32,
          23,
          86,
          13,
          1,
          1,
          1,
          1,
          131,
          1,
          25,
          1,
          28,
          1,
          40,
          31,
          11,
          1,
          1,
          126,
          1,
          1,
          1,
          139,
          1,
          18,
          56,
          1,
          41,
          134,
          30,
          38,
          15,
          106,
          17,
          186,
          1,
          1,
          79,
          8,
          50,
          1,
          141,
          35,
          184,
          100,
          1,
          1,
          109,
          75,
          45,
          93,
          75,
          46,
          8,
          1,
          48,
          184,
          4,
          2,
          70,
          1,
          1,
          1,
          190,
          61,
          1,
          162,
          34,
          1,
          1,
          167,
          8,
          74,
          22,
          46,
          1,
          341,
          65,
          7,
          80,
          94,
          11,
          1,
          1,
          11,
          90,
          129,
          25,
          1,
          22,
          10,
          182,
          85,
          1,
          25,
          54,
          13,
          43,
          59,
          381,
          1,
          1,
          3,
          1,
          90,
          1,
          298,
          5,
          11,
          1,
          1,
          1,
          452,
          222,
          68
         ]
        }
       ],
       "layout": {
        "barmode": "overlay",
        "legend": {
         "bgcolor": "#F5F6F9",
         "font": {
          "color": "#4D5663"
         }
        },
        "paper_bgcolor": "#F5F6F9",
        "plot_bgcolor": "#F5F6F9",
        "template": {
         "data": {
          "bar": [
           {
            "error_x": {
             "color": "#2a3f5f"
            },
            "error_y": {
             "color": "#2a3f5f"
            },
            "marker": {
             "line": {
              "color": "#E5ECF6",
              "width": 0.5
             }
            },
            "type": "bar"
           }
          ],
          "barpolar": [
           {
            "marker": {
             "line": {
              "color": "#E5ECF6",
              "width": 0.5
             }
            },
            "type": "barpolar"
           }
          ],
          "carpet": [
           {
            "aaxis": {
             "endlinecolor": "#2a3f5f",
             "gridcolor": "white",
             "linecolor": "white",
             "minorgridcolor": "white",
             "startlinecolor": "#2a3f5f"
            },
            "baxis": {
             "endlinecolor": "#2a3f5f",
             "gridcolor": "white",
             "linecolor": "white",
             "minorgridcolor": "white",
             "startlinecolor": "#2a3f5f"
            },
            "type": "carpet"
           }
          ],
          "choropleth": [
           {
            "colorbar": {
             "outlinewidth": 0,
             "ticks": ""
            },
            "type": "choropleth"
           }
          ],
          "contour": [
           {
            "colorbar": {
             "outlinewidth": 0,
             "ticks": ""
            },
            "colorscale": [
             [
              0,
              "#0d0887"
             ],
             [
              0.1111111111111111,
              "#46039f"
             ],
             [
              0.2222222222222222,
              "#7201a8"
             ],
             [
              0.3333333333333333,
              "#9c179e"
             ],
             [
              0.4444444444444444,
              "#bd3786"
             ],
             [
              0.5555555555555556,
              "#d8576b"
             ],
             [
              0.6666666666666666,
              "#ed7953"
             ],
             [
              0.7777777777777778,
              "#fb9f3a"
             ],
             [
              0.8888888888888888,
              "#fdca26"
             ],
             [
              1,
              "#f0f921"
             ]
            ],
            "type": "contour"
           }
          ],
          "contourcarpet": [
           {
            "colorbar": {
             "outlinewidth": 0,
             "ticks": ""
            },
            "type": "contourcarpet"
           }
          ],
          "heatmap": [
           {
            "colorbar": {
             "outlinewidth": 0,
             "ticks": ""
            },
            "colorscale": [
             [
              0,
              "#0d0887"
             ],
             [
              0.1111111111111111,
              "#46039f"
             ],
             [
              0.2222222222222222,
              "#7201a8"
             ],
             [
              0.3333333333333333,
              "#9c179e"
             ],
             [
              0.4444444444444444,
              "#bd3786"
             ],
             [
              0.5555555555555556,
              "#d8576b"
             ],
             [
              0.6666666666666666,
              "#ed7953"
             ],
             [
              0.7777777777777778,
              "#fb9f3a"
             ],
             [
              0.8888888888888888,
              "#fdca26"
             ],
             [
              1,
              "#f0f921"
             ]
            ],
            "type": "heatmap"
           }
          ],
          "heatmapgl": [
           {
            "colorbar": {
             "outlinewidth": 0,
             "ticks": ""
            },
            "colorscale": [
             [
              0,
              "#0d0887"
             ],
             [
              0.1111111111111111,
              "#46039f"
             ],
             [
              0.2222222222222222,
              "#7201a8"
             ],
             [
              0.3333333333333333,
              "#9c179e"
             ],
             [
              0.4444444444444444,
              "#bd3786"
             ],
             [
              0.5555555555555556,
              "#d8576b"
             ],
             [
              0.6666666666666666,
              "#ed7953"
             ],
             [
              0.7777777777777778,
              "#fb9f3a"
             ],
             [
              0.8888888888888888,
              "#fdca26"
             ],
             [
              1,
              "#f0f921"
             ]
            ],
            "type": "heatmapgl"
           }
          ],
          "histogram": [
           {
            "marker": {
             "colorbar": {
              "outlinewidth": 0,
              "ticks": ""
             }
            },
            "type": "histogram"
           }
          ],
          "histogram2d": [
           {
            "colorbar": {
             "outlinewidth": 0,
             "ticks": ""
            },
            "colorscale": [
             [
              0,
              "#0d0887"
             ],
             [
              0.1111111111111111,
              "#46039f"
             ],
             [
              0.2222222222222222,
              "#7201a8"
             ],
             [
              0.3333333333333333,
              "#9c179e"
             ],
             [
              0.4444444444444444,
              "#bd3786"
             ],
             [
              0.5555555555555556,
              "#d8576b"
             ],
             [
              0.6666666666666666,
              "#ed7953"
             ],
             [
              0.7777777777777778,
              "#fb9f3a"
             ],
             [
              0.8888888888888888,
              "#fdca26"
             ],
             [
              1,
              "#f0f921"
             ]
            ],
            "type": "histogram2d"
           }
          ],
          "histogram2dcontour": [
           {
            "colorbar": {
             "outlinewidth": 0,
             "ticks": ""
            },
            "colorscale": [
             [
              0,
              "#0d0887"
             ],
             [
              0.1111111111111111,
              "#46039f"
             ],
             [
              0.2222222222222222,
              "#7201a8"
             ],
             [
              0.3333333333333333,
              "#9c179e"
             ],
             [
              0.4444444444444444,
              "#bd3786"
             ],
             [
              0.5555555555555556,
              "#d8576b"
             ],
             [
              0.6666666666666666,
              "#ed7953"
             ],
             [
              0.7777777777777778,
              "#fb9f3a"
             ],
             [
              0.8888888888888888,
              "#fdca26"
             ],
             [
              1,
              "#f0f921"
             ]
            ],
            "type": "histogram2dcontour"
           }
          ],
          "mesh3d": [
           {
            "colorbar": {
             "outlinewidth": 0,
             "ticks": ""
            },
            "type": "mesh3d"
           }
          ],
          "parcoords": [
           {
            "line": {
             "colorbar": {
              "outlinewidth": 0,
              "ticks": ""
             }
            },
            "type": "parcoords"
           }
          ],
          "pie": [
           {
            "automargin": true,
            "type": "pie"
           }
          ],
          "scatter": [
           {
            "marker": {
             "colorbar": {
              "outlinewidth": 0,
              "ticks": ""
             }
            },
            "type": "scatter"
           }
          ],
          "scatter3d": [
           {
            "line": {
             "colorbar": {
              "outlinewidth": 0,
              "ticks": ""
             }
            },
            "marker": {
             "colorbar": {
              "outlinewidth": 0,
              "ticks": ""
             }
            },
            "type": "scatter3d"
           }
          ],
          "scattercarpet": [
           {
            "marker": {
             "colorbar": {
              "outlinewidth": 0,
              "ticks": ""
             }
            },
            "type": "scattercarpet"
           }
          ],
          "scattergeo": [
           {
            "marker": {
             "colorbar": {
              "outlinewidth": 0,
              "ticks": ""
             }
            },
            "type": "scattergeo"
           }
          ],
          "scattergl": [
           {
            "marker": {
             "colorbar": {
              "outlinewidth": 0,
              "ticks": ""
             }
            },
            "type": "scattergl"
           }
          ],
          "scattermapbox": [
           {
            "marker": {
             "colorbar": {
              "outlinewidth": 0,
              "ticks": ""
             }
            },
            "type": "scattermapbox"
           }
          ],
          "scatterpolar": [
           {
            "marker": {
             "colorbar": {
              "outlinewidth": 0,
              "ticks": ""
             }
            },
            "type": "scatterpolar"
           }
          ],
          "scatterpolargl": [
           {
            "marker": {
             "colorbar": {
              "outlinewidth": 0,
              "ticks": ""
             }
            },
            "type": "scatterpolargl"
           }
          ],
          "scatterternary": [
           {
            "marker": {
             "colorbar": {
              "outlinewidth": 0,
              "ticks": ""
             }
            },
            "type": "scatterternary"
           }
          ],
          "surface": [
           {
            "colorbar": {
             "outlinewidth": 0,
             "ticks": ""
            },
            "colorscale": [
             [
              0,
              "#0d0887"
             ],
             [
              0.1111111111111111,
              "#46039f"
             ],
             [
              0.2222222222222222,
              "#7201a8"
             ],
             [
              0.3333333333333333,
              "#9c179e"
             ],
             [
              0.4444444444444444,
              "#bd3786"
             ],
             [
              0.5555555555555556,
              "#d8576b"
             ],
             [
              0.6666666666666666,
              "#ed7953"
             ],
             [
              0.7777777777777778,
              "#fb9f3a"
             ],
             [
              0.8888888888888888,
              "#fdca26"
             ],
             [
              1,
              "#f0f921"
             ]
            ],
            "type": "surface"
           }
          ],
          "table": [
           {
            "cells": {
             "fill": {
              "color": "#EBF0F8"
             },
             "line": {
              "color": "white"
             }
            },
            "header": {
             "fill": {
              "color": "#C8D4E3"
             },
             "line": {
              "color": "white"
             }
            },
            "type": "table"
           }
          ]
         },
         "layout": {
          "annotationdefaults": {
           "arrowcolor": "#2a3f5f",
           "arrowhead": 0,
           "arrowwidth": 1
          },
          "coloraxis": {
           "colorbar": {
            "outlinewidth": 0,
            "ticks": ""
           }
          },
          "colorscale": {
           "diverging": [
            [
             0,
             "#8e0152"
            ],
            [
             0.1,
             "#c51b7d"
            ],
            [
             0.2,
             "#de77ae"
            ],
            [
             0.3,
             "#f1b6da"
            ],
            [
             0.4,
             "#fde0ef"
            ],
            [
             0.5,
             "#f7f7f7"
            ],
            [
             0.6,
             "#e6f5d0"
            ],
            [
             0.7,
             "#b8e186"
            ],
            [
             0.8,
             "#7fbc41"
            ],
            [
             0.9,
             "#4d9221"
            ],
            [
             1,
             "#276419"
            ]
           ],
           "sequential": [
            [
             0,
             "#0d0887"
            ],
            [
             0.1111111111111111,
             "#46039f"
            ],
            [
             0.2222222222222222,
             "#7201a8"
            ],
            [
             0.3333333333333333,
             "#9c179e"
            ],
            [
             0.4444444444444444,
             "#bd3786"
            ],
            [
             0.5555555555555556,
             "#d8576b"
            ],
            [
             0.6666666666666666,
             "#ed7953"
            ],
            [
             0.7777777777777778,
             "#fb9f3a"
            ],
            [
             0.8888888888888888,
             "#fdca26"
            ],
            [
             1,
             "#f0f921"
            ]
           ],
           "sequentialminus": [
            [
             0,
             "#0d0887"
            ],
            [
             0.1111111111111111,
             "#46039f"
            ],
            [
             0.2222222222222222,
             "#7201a8"
            ],
            [
             0.3333333333333333,
             "#9c179e"
            ],
            [
             0.4444444444444444,
             "#bd3786"
            ],
            [
             0.5555555555555556,
             "#d8576b"
            ],
            [
             0.6666666666666666,
             "#ed7953"
            ],
            [
             0.7777777777777778,
             "#fb9f3a"
            ],
            [
             0.8888888888888888,
             "#fdca26"
            ],
            [
             1,
             "#f0f921"
            ]
           ]
          },
          "colorway": [
           "#636efa",
           "#EF553B",
           "#00cc96",
           "#ab63fa",
           "#FFA15A",
           "#19d3f3",
           "#FF6692",
           "#B6E880",
           "#FF97FF",
           "#FECB52"
          ],
          "font": {
           "color": "#2a3f5f"
          },
          "geo": {
           "bgcolor": "white",
           "lakecolor": "white",
           "landcolor": "#E5ECF6",
           "showlakes": true,
           "showland": true,
           "subunitcolor": "white"
          },
          "hoverlabel": {
           "align": "left"
          },
          "hovermode": "closest",
          "mapbox": {
           "style": "light"
          },
          "paper_bgcolor": "white",
          "plot_bgcolor": "#E5ECF6",
          "polar": {
           "angularaxis": {
            "gridcolor": "white",
            "linecolor": "white",
            "ticks": ""
           },
           "bgcolor": "#E5ECF6",
           "radialaxis": {
            "gridcolor": "white",
            "linecolor": "white",
            "ticks": ""
           }
          },
          "scene": {
           "xaxis": {
            "backgroundcolor": "#E5ECF6",
            "gridcolor": "white",
            "gridwidth": 2,
            "linecolor": "white",
            "showbackground": true,
            "ticks": "",
            "zerolinecolor": "white"
           },
           "yaxis": {
            "backgroundcolor": "#E5ECF6",
            "gridcolor": "white",
            "gridwidth": 2,
            "linecolor": "white",
            "showbackground": true,
            "ticks": "",
            "zerolinecolor": "white"
           },
           "zaxis": {
            "backgroundcolor": "#E5ECF6",
            "gridcolor": "white",
            "gridwidth": 2,
            "linecolor": "white",
            "showbackground": true,
            "ticks": "",
            "zerolinecolor": "white"
           }
          },
          "shapedefaults": {
           "line": {
            "color": "#2a3f5f"
           }
          },
          "ternary": {
           "aaxis": {
            "gridcolor": "white",
            "linecolor": "white",
            "ticks": ""
           },
           "baxis": {
            "gridcolor": "white",
            "linecolor": "white",
            "ticks": ""
           },
           "bgcolor": "#E5ECF6",
           "caxis": {
            "gridcolor": "white",
            "linecolor": "white",
            "ticks": ""
           }
          },
          "title": {
           "x": 0.05
          },
          "xaxis": {
           "automargin": true,
           "gridcolor": "white",
           "linecolor": "white",
           "ticks": "",
           "title": {
            "standoff": 15
           },
           "zerolinecolor": "white",
           "zerolinewidth": 2
          },
          "yaxis": {
           "automargin": true,
           "gridcolor": "white",
           "linecolor": "white",
           "ticks": "",
           "title": {
            "standoff": 15
           },
           "zerolinecolor": "white",
           "zerolinewidth": 2
          }
         }
        },
        "title": {
         "font": {
          "color": "#4D5663"
         },
         "text": "Review Word Count Distribution"
        },
        "xaxis": {
         "gridcolor": "#E1E5ED",
         "linecolor": "black",
         "showgrid": true,
         "tickfont": {
          "color": "#4D5663"
         },
         "title": {
          "font": {
           "color": "#4D5663"
          },
          "text": "word count"
         },
         "zerolinecolor": "#E1E5ED"
        },
        "yaxis": {
         "gridcolor": "#E1E5ED",
         "linecolor": "black",
         "showgrid": true,
         "tickfont": {
          "color": "#4D5663"
         },
         "title": {
          "font": {
           "color": "#4D5663"
          },
          "text": "count"
         },
         "zerolinecolor": "#E1E5ED"
        }
       }
      },
      "text/html": [
       "<div>\n",
       "        \n",
       "        \n",
       "            <div id=\"44d65390-d8e2-419d-a3c4-120c87b616c5\" class=\"plotly-graph-div\" style=\"height:525px; width:100%;\"></div>\n",
       "            <script type=\"text/javascript\">\n",
       "                require([\"plotly\"], function(Plotly) {\n",
       "                    window.PLOTLYENV=window.PLOTLYENV || {};\n",
       "                    window.PLOTLYENV.BASE_URL='https://plot.ly';\n",
       "                    \n",
       "                if (document.getElementById(\"44d65390-d8e2-419d-a3c4-120c87b616c5\")) {\n",
       "                    Plotly.newPlot(\n",
       "                        '44d65390-d8e2-419d-a3c4-120c87b616c5',\n",
       "                        [{\"histfunc\": \"count\", \"histnorm\": \"\", \"marker\": {\"color\": \"rgba(255, 153, 51, 1.0)\", \"line\": {\"color\": \"#000000\", \"width\": 1.3}}, \"name\": \"body\", \"nbinsx\": 100, \"opacity\": 0.8, \"orientation\": \"v\", \"type\": \"histogram\", \"x\": [104, 274, 47, 26, 92, 1342, 58, 106, 41, 315, 71, 107, 42, 21, 160, 24, 81, 149, 46, 312, 41, 356, 540, 152, 285, 423, 106, 50, 126, 18, 78, 17, 20, 58, 26, 46, 36, 2, 14, 154, 276, 4, 8, 56, 20, 56, 1, 8, 1, 63, 20, 32, 85, 8, 26, 137, 48, 96, 105, 38, 1, 5, 12, 18, 33, 1, 9, 91, 22, 64, 57, 189, 282, 80, 90, 18, 25, 63, 16, 69, 119, 20, 26, 91, 45, 115, 31, 118, 1, 2, 40, 1282, 49, 52, 91, 9, 10, 45, 8, 80, 63, 46, 1, 1, 1, 1, 1, 15, 83, 51, 33, 143, 26, 8, 1, 25, 1, 1, 3, 1, 156, 1, 41, 38, 1, 1, 1, 10, 1, 1, 3603, 1, 1, 1, 1, 32, 1, 36, 273, 1, 14, 1, 5, 1, 1, 1, 12, 23, 1, 1, 82, 1, 1, 1, 211, 1, 42, 13, 1, 1, 1, 1, 51, 1, 3, 22, 1, 34, 1, 29, 1, 1, 1, 14, 190, 1, 1, 71, 199, 1, 26, 12, 1, 59, 44, 1, 5, 1, 1, 1, 1, 1, 7, 67, 49, 3, 17, 1, 4, 3, 44, 1, 64, 127, 2, 107, 309, 21, 79, 1, 2, 1, 15, 1, 20, 120, 1, 1, 1, 47, 38, 1, 1, 1, 95, 1, 126, 1, 1, 1, 52, 110, 1, 1, 1, 74, 1, 1, 1, 1, 1, 1, 1, 1, 11, 422, 1, 1, 1, 1, 1, 1, 11, 1, 1, 8, 83, 1, 23, 1, 1, 1, 1, 20, 1, 1, 21, 1, 1, 1, 1, 1, 1, 1, 1, 1, 1, 1, 1, 1, 1, 16, 1, 1, 1, 13, 1, 1, 63, 1, 1, 1, 1, 63, 1, 1, 1, 128, 63, 1, 1, 63, 63, 1, 9, 29, 1, 1, 74, 28, 24, 1, 1, 63, 28, 1, 1, 1, 1, 1, 1, 42, 1, 1, 1, 1, 1, 1, 1, 1, 1, 1, 1, 1, 1, 1, 1, 7, 55, 27, 4, 1, 1, 16, 1, 1, 1, 1, 28, 1, 1, 1, 22, 1, 1, 3, 1, 1, 1, 11, 1, 1, 26, 27, 22, 39, 1, 143, 1, 18, 1, 1, 4, 76, 57, 57, 1, 11, 147, 9, 1, 1, 1, 78, 1, 1, 1, 1, 1, 1, 1, 1, 1, 1, 1, 1, 1, 27, 1, 11, 1, 1, 141, 1, 1, 1, 14, 1, 1, 12, 75, 1, 30, 1, 6, 1, 13, 1, 1, 1, 1, 1, 367, 1, 1, 1, 1, 56, 227, 374, 325, 320, 144, 117, 795, 31, 119, 73, 82, 873, 46, 1, 146, 1, 1, 1, 1, 1, 21, 42, 1, 104, 1, 1, 1, 1, 1, 1, 1, 1, 1, 97, 1, 4, 1, 1, 1, 1, 1, 94, 1, 1, 1, 1, 1, 1, 1, 1, 1, 1, 1, 33, 1, 1, 1, 1, 1, 1, 1, 1, 1, 1, 1, 1, 1, 1, 128, 1, 1, 1, 1, 1, 1, 1, 1, 1, 1, 1, 1, 47, 11, 1, 54, 1, 1, 1, 1, 1, 1, 1, 1, 1, 1, 1, 1, 1, 1, 1, 1, 1, 1, 1, 1, 1, 1, 1, 1, 1, 1, 12, 1, 1, 26, 144, 50, 85, 43, 25, 1, 1, 1, 29, 1, 1, 11, 1, 46, 167, 1, 1, 1, 1, 58, 1, 43, 1, 1, 209, 164, 95, 1, 1, 61, 1, 11, 67, 1, 265, 1, 1, 16, 1, 1, 1, 1, 1, 1, 1, 1, 1, 40, 41, 1, 1, 1, 36, 1, 1, 1, 1, 1, 40, 117, 1, 1, 1, 1, 1, 1, 1, 88, 1, 1, 1, 1, 1, 1, 1, 1, 69, 103, 1, 1, 1, 1, 6, 1, 1, 1, 1, 1, 1, 1, 1, 1, 1, 1, 27, 1, 25, 1, 1, 1, 1, 87, 85, 1, 1, 1, 1, 29, 1, 1, 1, 1, 1, 1, 1, 188, 74, 84, 91, 72, 343, 12, 266, 259, 1201, 388, 328, 252, 1263, 100, 639, 181, 128, 39, 200, 396, 3603, 1039, 59, 157, 227, 1349, 23, 48, 68, 315, 38, 690, 324, 168, 1049, 43, 153, 224, 217, 388, 62, 227, 143, 589, 103, 102, 416, 338, 808, 1224, 434, 550, 91, 1002, 302, 552, 739, 773, 18, 489, 1, 1, 1, 1, 1, 1, 1, 1, 1, 1, 1, 1, 1, 1, 1, 1, 464, 1, 1, 1, 1, 1, 423, 1, 1, 1, 49, 1, 1, 34, 1, 1, 1, 1, 1, 1, 1, 1, 42, 1, 1, 1, 11, 1, 26, 1, 1, 49, 1, 1, 1, 1, 1, 1, 1, 1, 1, 1, 1, 1, 1, 1, 1, 26, 1, 1, 1, 1, 1, 1, 1, 1, 62, 1, 1, 1, 1, 1, 1, 1, 1, 1, 1, 1, 1, 1, 1, 1, 124, 1, 1, 1, 1, 1, 1, 1, 1, 288, 1, 1, 1, 1, 64, 1, 1, 1, 1, 1, 1, 1, 1, 1, 1, 30, 1, 79, 11, 1, 1, 37, 1, 57, 1, 64, 21, 1, 1, 1, 118, 1, 1, 17, 19, 9, 1, 42, 1, 1, 1, 1, 1, 1, 1, 1, 1, 1, 1, 7, 1, 3, 14, 1, 1, 147, 1, 1, 1, 1, 10, 1, 1, 1, 321, 7, 15, 1, 1, 159, 1, 34, 31, 1, 1, 1, 159, 35, 1, 1, 1, 1, 554, 58, 3, 1, 1, 8, 1, 1, 1, 1, 1, 58, 29, 50, 1, 1, 56, 1, 1, 1, 322, 1, 1, 41, 1, 1, 1, 1, 1, 1, 1, 6, 1, 1, 1, 1, 57, 1, 1, 1, 1, 1, 1, 1, 66, 1, 1, 1, 1, 1, 62, 1, 65, 61, 1, 30, 1, 1, 1, 1, 1, 1, 1, 30, 1, 1, 1, 3, 139, 1, 1, 0, 1, 1, 23, 1, 63, 1, 1, 1, 1, 1, 3, 1, 1, 1, 20, 1, 1, 1, 3, 1, 1, 1, 5, 1, 1, 14, 1806, 1, 48, 1, 32, 23, 86, 13, 1, 1, 1, 1, 131, 1, 25, 1, 28, 1, 40, 31, 11, 1, 1, 126, 1, 1, 1, 139, 1, 18, 56, 1, 41, 134, 30, 38, 15, 106, 17, 186, 1, 1, 79, 8, 50, 1, 141, 35, 184, 100, 1, 1, 109, 75, 45, 93, 75, 46, 8, 1, 48, 184, 4, 2, 70, 1, 1, 1, 190, 61, 1, 162, 34, 1, 1, 167, 8, 74, 22, 46, 1, 341, 65, 7, 80, 94, 11, 1, 1, 11, 90, 129, 25, 1, 22, 10, 182, 85, 1, 25, 54, 13, 43, 59, 381, 1, 1, 3, 1, 90, 1, 298, 5, 11, 1, 1, 1, 452, 222, 68]}],\n",
       "                        {\"barmode\": \"overlay\", \"legend\": {\"bgcolor\": \"#F5F6F9\", \"font\": {\"color\": \"#4D5663\"}}, \"paper_bgcolor\": \"#F5F6F9\", \"plot_bgcolor\": \"#F5F6F9\", \"template\": {\"data\": {\"bar\": [{\"error_x\": {\"color\": \"#2a3f5f\"}, \"error_y\": {\"color\": \"#2a3f5f\"}, \"marker\": {\"line\": {\"color\": \"#E5ECF6\", \"width\": 0.5}}, \"type\": \"bar\"}], \"barpolar\": [{\"marker\": {\"line\": {\"color\": \"#E5ECF6\", \"width\": 0.5}}, \"type\": \"barpolar\"}], \"carpet\": [{\"aaxis\": {\"endlinecolor\": \"#2a3f5f\", \"gridcolor\": \"white\", \"linecolor\": \"white\", \"minorgridcolor\": \"white\", \"startlinecolor\": \"#2a3f5f\"}, \"baxis\": {\"endlinecolor\": \"#2a3f5f\", \"gridcolor\": \"white\", \"linecolor\": \"white\", \"minorgridcolor\": \"white\", \"startlinecolor\": \"#2a3f5f\"}, \"type\": \"carpet\"}], \"choropleth\": [{\"colorbar\": {\"outlinewidth\": 0, \"ticks\": \"\"}, \"type\": \"choropleth\"}], \"contour\": [{\"colorbar\": {\"outlinewidth\": 0, \"ticks\": \"\"}, \"colorscale\": [[0.0, \"#0d0887\"], [0.1111111111111111, \"#46039f\"], [0.2222222222222222, \"#7201a8\"], [0.3333333333333333, \"#9c179e\"], [0.4444444444444444, \"#bd3786\"], [0.5555555555555556, \"#d8576b\"], [0.6666666666666666, \"#ed7953\"], [0.7777777777777778, \"#fb9f3a\"], [0.8888888888888888, \"#fdca26\"], [1.0, \"#f0f921\"]], \"type\": \"contour\"}], \"contourcarpet\": [{\"colorbar\": {\"outlinewidth\": 0, \"ticks\": \"\"}, \"type\": \"contourcarpet\"}], \"heatmap\": [{\"colorbar\": {\"outlinewidth\": 0, \"ticks\": \"\"}, \"colorscale\": [[0.0, \"#0d0887\"], [0.1111111111111111, \"#46039f\"], [0.2222222222222222, \"#7201a8\"], [0.3333333333333333, \"#9c179e\"], [0.4444444444444444, \"#bd3786\"], [0.5555555555555556, \"#d8576b\"], [0.6666666666666666, \"#ed7953\"], [0.7777777777777778, \"#fb9f3a\"], [0.8888888888888888, \"#fdca26\"], [1.0, \"#f0f921\"]], \"type\": \"heatmap\"}], \"heatmapgl\": [{\"colorbar\": {\"outlinewidth\": 0, \"ticks\": \"\"}, \"colorscale\": [[0.0, \"#0d0887\"], [0.1111111111111111, \"#46039f\"], [0.2222222222222222, \"#7201a8\"], [0.3333333333333333, \"#9c179e\"], [0.4444444444444444, \"#bd3786\"], [0.5555555555555556, \"#d8576b\"], [0.6666666666666666, \"#ed7953\"], [0.7777777777777778, \"#fb9f3a\"], [0.8888888888888888, \"#fdca26\"], [1.0, \"#f0f921\"]], \"type\": \"heatmapgl\"}], \"histogram\": [{\"marker\": {\"colorbar\": {\"outlinewidth\": 0, \"ticks\": \"\"}}, \"type\": \"histogram\"}], \"histogram2d\": [{\"colorbar\": {\"outlinewidth\": 0, \"ticks\": \"\"}, \"colorscale\": [[0.0, \"#0d0887\"], [0.1111111111111111, \"#46039f\"], [0.2222222222222222, \"#7201a8\"], [0.3333333333333333, \"#9c179e\"], [0.4444444444444444, \"#bd3786\"], [0.5555555555555556, \"#d8576b\"], [0.6666666666666666, \"#ed7953\"], [0.7777777777777778, \"#fb9f3a\"], [0.8888888888888888, \"#fdca26\"], [1.0, \"#f0f921\"]], \"type\": \"histogram2d\"}], \"histogram2dcontour\": [{\"colorbar\": {\"outlinewidth\": 0, \"ticks\": \"\"}, \"colorscale\": [[0.0, \"#0d0887\"], [0.1111111111111111, \"#46039f\"], [0.2222222222222222, \"#7201a8\"], [0.3333333333333333, \"#9c179e\"], [0.4444444444444444, \"#bd3786\"], [0.5555555555555556, \"#d8576b\"], [0.6666666666666666, \"#ed7953\"], [0.7777777777777778, \"#fb9f3a\"], [0.8888888888888888, \"#fdca26\"], [1.0, \"#f0f921\"]], \"type\": \"histogram2dcontour\"}], \"mesh3d\": [{\"colorbar\": {\"outlinewidth\": 0, \"ticks\": \"\"}, \"type\": \"mesh3d\"}], \"parcoords\": [{\"line\": {\"colorbar\": {\"outlinewidth\": 0, \"ticks\": \"\"}}, \"type\": \"parcoords\"}], \"pie\": [{\"automargin\": true, \"type\": \"pie\"}], \"scatter\": [{\"marker\": {\"colorbar\": {\"outlinewidth\": 0, \"ticks\": \"\"}}, \"type\": \"scatter\"}], \"scatter3d\": [{\"line\": {\"colorbar\": {\"outlinewidth\": 0, \"ticks\": \"\"}}, \"marker\": {\"colorbar\": {\"outlinewidth\": 0, \"ticks\": \"\"}}, \"type\": \"scatter3d\"}], \"scattercarpet\": [{\"marker\": {\"colorbar\": {\"outlinewidth\": 0, \"ticks\": \"\"}}, \"type\": \"scattercarpet\"}], \"scattergeo\": [{\"marker\": {\"colorbar\": {\"outlinewidth\": 0, \"ticks\": \"\"}}, \"type\": \"scattergeo\"}], \"scattergl\": [{\"marker\": {\"colorbar\": {\"outlinewidth\": 0, \"ticks\": \"\"}}, \"type\": \"scattergl\"}], \"scattermapbox\": [{\"marker\": {\"colorbar\": {\"outlinewidth\": 0, \"ticks\": \"\"}}, \"type\": \"scattermapbox\"}], \"scatterpolar\": [{\"marker\": {\"colorbar\": {\"outlinewidth\": 0, \"ticks\": \"\"}}, \"type\": \"scatterpolar\"}], \"scatterpolargl\": [{\"marker\": {\"colorbar\": {\"outlinewidth\": 0, \"ticks\": \"\"}}, \"type\": \"scatterpolargl\"}], \"scatterternary\": [{\"marker\": {\"colorbar\": {\"outlinewidth\": 0, \"ticks\": \"\"}}, \"type\": \"scatterternary\"}], \"surface\": [{\"colorbar\": {\"outlinewidth\": 0, \"ticks\": \"\"}, \"colorscale\": [[0.0, \"#0d0887\"], [0.1111111111111111, \"#46039f\"], [0.2222222222222222, \"#7201a8\"], [0.3333333333333333, \"#9c179e\"], [0.4444444444444444, \"#bd3786\"], [0.5555555555555556, \"#d8576b\"], [0.6666666666666666, \"#ed7953\"], [0.7777777777777778, \"#fb9f3a\"], [0.8888888888888888, \"#fdca26\"], [1.0, \"#f0f921\"]], \"type\": \"surface\"}], \"table\": [{\"cells\": {\"fill\": {\"color\": \"#EBF0F8\"}, \"line\": {\"color\": \"white\"}}, \"header\": {\"fill\": {\"color\": \"#C8D4E3\"}, \"line\": {\"color\": \"white\"}}, \"type\": \"table\"}]}, \"layout\": {\"annotationdefaults\": {\"arrowcolor\": \"#2a3f5f\", \"arrowhead\": 0, \"arrowwidth\": 1}, \"coloraxis\": {\"colorbar\": {\"outlinewidth\": 0, \"ticks\": \"\"}}, \"colorscale\": {\"diverging\": [[0, \"#8e0152\"], [0.1, \"#c51b7d\"], [0.2, \"#de77ae\"], [0.3, \"#f1b6da\"], [0.4, \"#fde0ef\"], [0.5, \"#f7f7f7\"], [0.6, \"#e6f5d0\"], [0.7, \"#b8e186\"], [0.8, \"#7fbc41\"], [0.9, \"#4d9221\"], [1, \"#276419\"]], \"sequential\": [[0.0, \"#0d0887\"], [0.1111111111111111, \"#46039f\"], [0.2222222222222222, \"#7201a8\"], [0.3333333333333333, \"#9c179e\"], [0.4444444444444444, \"#bd3786\"], [0.5555555555555556, \"#d8576b\"], [0.6666666666666666, \"#ed7953\"], [0.7777777777777778, \"#fb9f3a\"], [0.8888888888888888, \"#fdca26\"], [1.0, \"#f0f921\"]], \"sequentialminus\": [[0.0, \"#0d0887\"], [0.1111111111111111, \"#46039f\"], [0.2222222222222222, \"#7201a8\"], [0.3333333333333333, \"#9c179e\"], [0.4444444444444444, \"#bd3786\"], [0.5555555555555556, \"#d8576b\"], [0.6666666666666666, \"#ed7953\"], [0.7777777777777778, \"#fb9f3a\"], [0.8888888888888888, \"#fdca26\"], [1.0, \"#f0f921\"]]}, \"colorway\": [\"#636efa\", \"#EF553B\", \"#00cc96\", \"#ab63fa\", \"#FFA15A\", \"#19d3f3\", \"#FF6692\", \"#B6E880\", \"#FF97FF\", \"#FECB52\"], \"font\": {\"color\": \"#2a3f5f\"}, \"geo\": {\"bgcolor\": \"white\", \"lakecolor\": \"white\", \"landcolor\": \"#E5ECF6\", \"showlakes\": true, \"showland\": true, \"subunitcolor\": \"white\"}, \"hoverlabel\": {\"align\": \"left\"}, \"hovermode\": \"closest\", \"mapbox\": {\"style\": \"light\"}, \"paper_bgcolor\": \"white\", \"plot_bgcolor\": \"#E5ECF6\", \"polar\": {\"angularaxis\": {\"gridcolor\": \"white\", \"linecolor\": \"white\", \"ticks\": \"\"}, \"bgcolor\": \"#E5ECF6\", \"radialaxis\": {\"gridcolor\": \"white\", \"linecolor\": \"white\", \"ticks\": \"\"}}, \"scene\": {\"xaxis\": {\"backgroundcolor\": \"#E5ECF6\", \"gridcolor\": \"white\", \"gridwidth\": 2, \"linecolor\": \"white\", \"showbackground\": true, \"ticks\": \"\", \"zerolinecolor\": \"white\"}, \"yaxis\": {\"backgroundcolor\": \"#E5ECF6\", \"gridcolor\": \"white\", \"gridwidth\": 2, \"linecolor\": \"white\", \"showbackground\": true, \"ticks\": \"\", \"zerolinecolor\": \"white\"}, \"zaxis\": {\"backgroundcolor\": \"#E5ECF6\", \"gridcolor\": \"white\", \"gridwidth\": 2, \"linecolor\": \"white\", \"showbackground\": true, \"ticks\": \"\", \"zerolinecolor\": \"white\"}}, \"shapedefaults\": {\"line\": {\"color\": \"#2a3f5f\"}}, \"ternary\": {\"aaxis\": {\"gridcolor\": \"white\", \"linecolor\": \"white\", \"ticks\": \"\"}, \"baxis\": {\"gridcolor\": \"white\", \"linecolor\": \"white\", \"ticks\": \"\"}, \"bgcolor\": \"#E5ECF6\", \"caxis\": {\"gridcolor\": \"white\", \"linecolor\": \"white\", \"ticks\": \"\"}}, \"title\": {\"x\": 0.05}, \"xaxis\": {\"automargin\": true, \"gridcolor\": \"white\", \"linecolor\": \"white\", \"ticks\": \"\", \"title\": {\"standoff\": 15}, \"zerolinecolor\": \"white\", \"zerolinewidth\": 2}, \"yaxis\": {\"automargin\": true, \"gridcolor\": \"white\", \"linecolor\": \"white\", \"ticks\": \"\", \"title\": {\"standoff\": 15}, \"zerolinecolor\": \"white\", \"zerolinewidth\": 2}}}, \"title\": {\"font\": {\"color\": \"#4D5663\"}, \"text\": \"Review Word Count Distribution\"}, \"xaxis\": {\"gridcolor\": \"#E1E5ED\", \"linecolor\": \"black\", \"showgrid\": true, \"tickfont\": {\"color\": \"#4D5663\"}, \"title\": {\"font\": {\"color\": \"#4D5663\"}, \"text\": \"word count\"}, \"zerolinecolor\": \"#E1E5ED\"}, \"yaxis\": {\"gridcolor\": \"#E1E5ED\", \"linecolor\": \"black\", \"showgrid\": true, \"tickfont\": {\"color\": \"#4D5663\"}, \"title\": {\"font\": {\"color\": \"#4D5663\"}, \"text\": \"count\"}, \"zerolinecolor\": \"#E1E5ED\"}},\n",
       "                        {\"showLink\": true, \"linkText\": \"Export to plot.ly\", \"plotlyServerURL\": \"https://plot.ly\", \"responsive\": true}\n",
       "                    ).then(function(){\n",
       "                            \n",
       "var gd = document.getElementById('44d65390-d8e2-419d-a3c4-120c87b616c5');\n",
       "var x = new MutationObserver(function (mutations, observer) {{\n",
       "        var display = window.getComputedStyle(gd).display;\n",
       "        if (!display || display === 'none') {{\n",
       "            console.log([gd, 'removed!']);\n",
       "            Plotly.purge(gd);\n",
       "            observer.disconnect();\n",
       "        }}\n",
       "}});\n",
       "\n",
       "// Listen for the removal of the full notebook cells\n",
       "var notebookContainer = gd.closest('#notebook-container');\n",
       "if (notebookContainer) {{\n",
       "    x.observe(notebookContainer, {childList: true});\n",
       "}}\n",
       "\n",
       "// Listen for the clearing of the current output cell\n",
       "var outputEl = gd.closest('.output');\n",
       "if (outputEl) {{\n",
       "    x.observe(outputEl, {childList: true});\n",
       "}}\n",
       "\n",
       "                        })\n",
       "                };\n",
       "                });\n",
       "            </script>\n",
       "        </div>"
      ]
     },
     "metadata": {},
     "output_type": "display_data"
    }
   ],
   "source": [
    "word_count = topics_data['body'].apply(lambda x: len(str(x).split()))\n",
    "word_count.iplot(\n",
    "    kind='hist',\n",
    "    bins=100,\n",
    "    xTitle='word count',\n",
    "    linecolor='black',\n",
    "    yTitle='count',\n",
    "    title='Review Word Count Distribution')"
   ]
  },
  {
   "cell_type": "markdown",
   "metadata": {},
   "source": [
    "### Number of comments per post"
   ]
  },
  {
   "cell_type": "code",
   "execution_count": 46,
   "metadata": {},
   "outputs": [
    {
     "data": {
      "application/vnd.plotly.v1+json": {
       "config": {
        "linkText": "Export to plot.ly",
        "plotlyServerURL": "https://plot.ly",
        "showLink": true
       },
       "data": [
        {
         "histfunc": "count",
         "histnorm": "",
         "marker": {
          "color": "rgba(255, 153, 51, 1.0)",
          "line": {
           "color": "#000000",
           "width": 1.3
          }
         },
         "name": "comms_num",
         "nbinsx": 100,
         "opacity": 0.8,
         "orientation": "v",
         "type": "histogram",
         "x": [
          1,
          17,
          0,
          38,
          67,
          4,
          2,
          50,
          6,
          133,
          7,
          14,
          15,
          36,
          11,
          27,
          7,
          42,
          4,
          98,
          0,
          33,
          44,
          33,
          260,
          83,
          2,
          3,
          237,
          8,
          45,
          9,
          7,
          5,
          2,
          3,
          200,
          221,
          281,
          45,
          134,
          55,
          115,
          41,
          24,
          24,
          10,
          76,
          46,
          4,
          33,
          43,
          14,
          78,
          56,
          33,
          4,
          63,
          69,
          9,
          23,
          18,
          15,
          45,
          9,
          122,
          6,
          9,
          37,
          11,
          2,
          27,
          41,
          10,
          106,
          18,
          11,
          36,
          19,
          9,
          10,
          4,
          27,
          12,
          16,
          20,
          63,
          27,
          37,
          386,
          72,
          0,
          48,
          1,
          18,
          75,
          10,
          66,
          19,
          4,
          4,
          63,
          14,
          37,
          4,
          8,
          8,
          32,
          16,
          9,
          3,
          8,
          7,
          10,
          14,
          3,
          15,
          212,
          78,
          40,
          15,
          13,
          99,
          0,
          0,
          35,
          102,
          4,
          12,
          52,
          118,
          1,
          62,
          5,
          2,
          25,
          0,
          20,
          10,
          1,
          4,
          2,
          2,
          10,
          14,
          2,
          6,
          1,
          15,
          22,
          1,
          2,
          16,
          1,
          2,
          106,
          105,
          8,
          10,
          3,
          7,
          0,
          22,
          0,
          9,
          7,
          39,
          6,
          0,
          2,
          0,
          64,
          11,
          0,
          3,
          4,
          9,
          13,
          46,
          0,
          19,
          289,
          15,
          4,
          9,
          2,
          11,
          0,
          2,
          17,
          6,
          39,
          15,
          80,
          11,
          0,
          9,
          3,
          296,
          10,
          25,
          15,
          1,
          106,
          4,
          181,
          45,
          7,
          8,
          8,
          5,
          2,
          11,
          2,
          9,
          6,
          8,
          257,
          26,
          32,
          13,
          12,
          8,
          0,
          13,
          32,
          25,
          8,
          6,
          0,
          23,
          52,
          23,
          17,
          1,
          95,
          3,
          78,
          63,
          21,
          15,
          177,
          17,
          4,
          24,
          269,
          220,
          6,
          0,
          4,
          5,
          35,
          29,
          1,
          17,
          11,
          1,
          32,
          0,
          0,
          30,
          65,
          8,
          3,
          109,
          4,
          2,
          17,
          5,
          13,
          7,
          2,
          2,
          2,
          19,
          2,
          4,
          17,
          26,
          11,
          58,
          8,
          14,
          2,
          1,
          3,
          1,
          9,
          168,
          11,
          1,
          1,
          0,
          202,
          2,
          1,
          8,
          19,
          134,
          1,
          10,
          131,
          105,
          1,
          59,
          84,
          90,
          0,
          14,
          65,
          74,
          1,
          30,
          68,
          44,
          25,
          4,
          43,
          51,
          61,
          35,
          5,
          33,
          26,
          37,
          11,
          14,
          8,
          32,
          1,
          16,
          4,
          21,
          77,
          6,
          11,
          6,
          53,
          8,
          35,
          2,
          2,
          71,
          43,
          2,
          3,
          3,
          12,
          26,
          1,
          96,
          0,
          9,
          31,
          14,
          6,
          2,
          39,
          0,
          120,
          50,
          16,
          6,
          68,
          61,
          15,
          6,
          89,
          34,
          16,
          9,
          2,
          364,
          12,
          8,
          3,
          4,
          231,
          14,
          72,
          46,
          7,
          18,
          1,
          3,
          0,
          20,
          9,
          9,
          2,
          7,
          0,
          2,
          14,
          54,
          6,
          0,
          1,
          14,
          25,
          13,
          1,
          27,
          16,
          12,
          55,
          32,
          0,
          1,
          12,
          30,
          6,
          13,
          12,
          31,
          20,
          9,
          27,
          12,
          1,
          0,
          138,
          3,
          11,
          2,
          8,
          12,
          35,
          36,
          44,
          3,
          52,
          2,
          5,
          18,
          2,
          21,
          15,
          2,
          1,
          0,
          44,
          4,
          29,
          32,
          160,
          1,
          61,
          8,
          9,
          0,
          16,
          1,
          0,
          2,
          6,
          38,
          35,
          24,
          3,
          0,
          10,
          0,
          16,
          107,
          5,
          110,
          3,
          42,
          14,
          53,
          48,
          7,
          5,
          23,
          64,
          146,
          1,
          39,
          25,
          29,
          17,
          18,
          0,
          2,
          1,
          7,
          2,
          4,
          57,
          4,
          1,
          7,
          5,
          27,
          54,
          3,
          28,
          1,
          14,
          3,
          7,
          3,
          1,
          6,
          3,
          1,
          3,
          18,
          20,
          5,
          17,
          3,
          12,
          1,
          2,
          6,
          59,
          51,
          91,
          53,
          30,
          39,
          80,
          33,
          112,
          55,
          67,
          51,
          38,
          82,
          62,
          55,
          17,
          17,
          13,
          37,
          10,
          72,
          14,
          11,
          72,
          244,
          12,
          17,
          29,
          14,
          22,
          56,
          37,
          15,
          5,
          7,
          49,
          19,
          24,
          58,
          31,
          20,
          33,
          42,
          18,
          55,
          38,
          14,
          15,
          36,
          68,
          13,
          13,
          61,
          68,
          16,
          6,
          14,
          6,
          44,
          25,
          41,
          25,
          21,
          32,
          30,
          68,
          17,
          11,
          23,
          9,
          66,
          40,
          16,
          27,
          28,
          10,
          7,
          5,
          23,
          40,
          20,
          1,
          5,
          23,
          153,
          138,
          21,
          9,
          9,
          91,
          4,
          3,
          46,
          43,
          25,
          25,
          32,
          55,
          6,
          3,
          2,
          116,
          11,
          5,
          13,
          2,
          4,
          6,
          6,
          28,
          2,
          3,
          2,
          1,
          1,
          17,
          1,
          1,
          39,
          54,
          1,
          39,
          2,
          2,
          1,
          2,
          9,
          138,
          5,
          5,
          1,
          20,
          6,
          2,
          2,
          2,
          1,
          0,
          3,
          1,
          13,
          13,
          49,
          9,
          18,
          4,
          4,
          1,
          29,
          10,
          11,
          19,
          4,
          72,
          766,
          74,
          67,
          81,
          178,
          4,
          159,
          118,
          95,
          24,
          168,
          6,
          46,
          1,
          2,
          25,
          133,
          15,
          77,
          8,
          9,
          9,
          2,
          13,
          29,
          141,
          47,
          23,
          84,
          22,
          97,
          1,
          76,
          3,
          0,
          93,
          68,
          10,
          0,
          21,
          60,
          4,
          10,
          1,
          54,
          2,
          59,
          13,
          53,
          46,
          15,
          124,
          11,
          45,
          1,
          90,
          118,
          136,
          13,
          24,
          0,
          2,
          73,
          54,
          5,
          10,
          14,
          21,
          62,
          83,
          24,
          8,
          72,
          5,
          6,
          1,
          63,
          1,
          37,
          49,
          18,
          17,
          1,
          1,
          2,
          1,
          30,
          1,
          1,
          19,
          0,
          17,
          1,
          2,
          26,
          12,
          1,
          2,
          6,
          1,
          2,
          3,
          6,
          76,
          4,
          3,
          19,
          14,
          2,
          52,
          10,
          17,
          40,
          1,
          26,
          8,
          2,
          19,
          1,
          43,
          34,
          2,
          23,
          24,
          34,
          2,
          2,
          4,
          53,
          33,
          13,
          1,
          1,
          14,
          1,
          17,
          1,
          27,
          1,
          1,
          3,
          12,
          10,
          2,
          1,
          142,
          42,
          81,
          88,
          27,
          43,
          44,
          8,
          13,
          55,
          272,
          3,
          30,
          74,
          41,
          8,
          119,
          31,
          5,
          3,
          17,
          1059,
          158,
          9,
          67,
          13,
          24,
          8,
          36,
          15,
          30,
          22,
          89,
          4,
          24,
          19,
          26,
          7,
          202,
          2,
          74,
          5,
          205,
          28,
          111,
          42,
          47,
          23,
          13,
          8,
          3,
          31,
          26,
          16,
          3,
          153,
          25,
          21,
          7,
          70,
          124,
          66,
          190,
          61,
          200,
          13,
          50,
          4,
          8,
          242,
          34,
          48,
          57,
          5,
          1,
          59,
          71,
          13,
          2,
          10,
          61,
          31,
          1,
          12,
          21,
          69,
          5,
          13,
          2,
          4,
          3,
          126,
          23,
          9,
          72,
          10,
          30,
          44,
          10,
          21,
          110,
          56,
          90,
          66,
          129,
          65,
          45,
          27,
          40,
          21,
          63,
          146,
          60,
          151,
          76,
          95,
          190,
          51,
          26,
          8,
          23,
          75,
          82,
          110,
          103,
          107,
          5,
          21,
          121,
          142,
          19,
          84,
          54,
          78,
          11,
          46,
          29,
          19,
          48,
          11,
          19,
          119,
          19,
          5,
          5,
          41,
          121,
          286,
          25,
          45,
          47,
          93,
          26,
          12,
          30,
          54,
          16,
          43,
          18,
          18,
          127,
          82,
          5,
          0,
          5,
          19,
          38,
          279,
          4,
          13,
          7,
          49,
          60,
          2,
          88,
          61,
          1,
          23,
          42,
          53,
          6,
          2,
          5,
          63,
          12,
          91,
          23,
          262,
          47,
          39,
          5,
          83,
          12,
          6,
          11,
          9,
          23,
          10,
          23,
          19,
          85,
          15,
          13,
          49,
          69,
          33,
          16,
          4,
          49,
          164,
          26,
          88,
          58,
          68,
          168,
          39,
          56,
          310,
          31,
          5,
          80,
          65,
          68,
          61,
          34,
          19,
          15,
          0,
          98,
          14,
          8,
          7,
          54,
          530,
          9,
          6,
          10,
          17,
          37,
          121,
          49,
          548,
          216,
          332,
          94,
          163,
          10,
          130,
          66,
          0,
          119,
          14,
          15,
          76,
          36,
          56,
          40,
          85,
          104,
          16,
          4,
          46,
          293,
          68,
          48,
          380,
          14,
          35,
          14,
          32,
          9,
          127,
          207,
          13,
          88,
          3,
          237,
          14,
          13,
          232,
          20,
          209,
          40,
          351,
          80,
          0,
          18,
          34,
          29,
          0,
          26,
          462,
          33,
          20,
          38,
          10,
          11,
          111,
          351,
          151
         ]
        }
       ],
       "layout": {
        "barmode": "overlay",
        "legend": {
         "bgcolor": "#F5F6F9",
         "font": {
          "color": "#4D5663"
         }
        },
        "paper_bgcolor": "#F5F6F9",
        "plot_bgcolor": "#F5F6F9",
        "template": {
         "data": {
          "bar": [
           {
            "error_x": {
             "color": "#2a3f5f"
            },
            "error_y": {
             "color": "#2a3f5f"
            },
            "marker": {
             "line": {
              "color": "#E5ECF6",
              "width": 0.5
             }
            },
            "type": "bar"
           }
          ],
          "barpolar": [
           {
            "marker": {
             "line": {
              "color": "#E5ECF6",
              "width": 0.5
             }
            },
            "type": "barpolar"
           }
          ],
          "carpet": [
           {
            "aaxis": {
             "endlinecolor": "#2a3f5f",
             "gridcolor": "white",
             "linecolor": "white",
             "minorgridcolor": "white",
             "startlinecolor": "#2a3f5f"
            },
            "baxis": {
             "endlinecolor": "#2a3f5f",
             "gridcolor": "white",
             "linecolor": "white",
             "minorgridcolor": "white",
             "startlinecolor": "#2a3f5f"
            },
            "type": "carpet"
           }
          ],
          "choropleth": [
           {
            "colorbar": {
             "outlinewidth": 0,
             "ticks": ""
            },
            "type": "choropleth"
           }
          ],
          "contour": [
           {
            "colorbar": {
             "outlinewidth": 0,
             "ticks": ""
            },
            "colorscale": [
             [
              0,
              "#0d0887"
             ],
             [
              0.1111111111111111,
              "#46039f"
             ],
             [
              0.2222222222222222,
              "#7201a8"
             ],
             [
              0.3333333333333333,
              "#9c179e"
             ],
             [
              0.4444444444444444,
              "#bd3786"
             ],
             [
              0.5555555555555556,
              "#d8576b"
             ],
             [
              0.6666666666666666,
              "#ed7953"
             ],
             [
              0.7777777777777778,
              "#fb9f3a"
             ],
             [
              0.8888888888888888,
              "#fdca26"
             ],
             [
              1,
              "#f0f921"
             ]
            ],
            "type": "contour"
           }
          ],
          "contourcarpet": [
           {
            "colorbar": {
             "outlinewidth": 0,
             "ticks": ""
            },
            "type": "contourcarpet"
           }
          ],
          "heatmap": [
           {
            "colorbar": {
             "outlinewidth": 0,
             "ticks": ""
            },
            "colorscale": [
             [
              0,
              "#0d0887"
             ],
             [
              0.1111111111111111,
              "#46039f"
             ],
             [
              0.2222222222222222,
              "#7201a8"
             ],
             [
              0.3333333333333333,
              "#9c179e"
             ],
             [
              0.4444444444444444,
              "#bd3786"
             ],
             [
              0.5555555555555556,
              "#d8576b"
             ],
             [
              0.6666666666666666,
              "#ed7953"
             ],
             [
              0.7777777777777778,
              "#fb9f3a"
             ],
             [
              0.8888888888888888,
              "#fdca26"
             ],
             [
              1,
              "#f0f921"
             ]
            ],
            "type": "heatmap"
           }
          ],
          "heatmapgl": [
           {
            "colorbar": {
             "outlinewidth": 0,
             "ticks": ""
            },
            "colorscale": [
             [
              0,
              "#0d0887"
             ],
             [
              0.1111111111111111,
              "#46039f"
             ],
             [
              0.2222222222222222,
              "#7201a8"
             ],
             [
              0.3333333333333333,
              "#9c179e"
             ],
             [
              0.4444444444444444,
              "#bd3786"
             ],
             [
              0.5555555555555556,
              "#d8576b"
             ],
             [
              0.6666666666666666,
              "#ed7953"
             ],
             [
              0.7777777777777778,
              "#fb9f3a"
             ],
             [
              0.8888888888888888,
              "#fdca26"
             ],
             [
              1,
              "#f0f921"
             ]
            ],
            "type": "heatmapgl"
           }
          ],
          "histogram": [
           {
            "marker": {
             "colorbar": {
              "outlinewidth": 0,
              "ticks": ""
             }
            },
            "type": "histogram"
           }
          ],
          "histogram2d": [
           {
            "colorbar": {
             "outlinewidth": 0,
             "ticks": ""
            },
            "colorscale": [
             [
              0,
              "#0d0887"
             ],
             [
              0.1111111111111111,
              "#46039f"
             ],
             [
              0.2222222222222222,
              "#7201a8"
             ],
             [
              0.3333333333333333,
              "#9c179e"
             ],
             [
              0.4444444444444444,
              "#bd3786"
             ],
             [
              0.5555555555555556,
              "#d8576b"
             ],
             [
              0.6666666666666666,
              "#ed7953"
             ],
             [
              0.7777777777777778,
              "#fb9f3a"
             ],
             [
              0.8888888888888888,
              "#fdca26"
             ],
             [
              1,
              "#f0f921"
             ]
            ],
            "type": "histogram2d"
           }
          ],
          "histogram2dcontour": [
           {
            "colorbar": {
             "outlinewidth": 0,
             "ticks": ""
            },
            "colorscale": [
             [
              0,
              "#0d0887"
             ],
             [
              0.1111111111111111,
              "#46039f"
             ],
             [
              0.2222222222222222,
              "#7201a8"
             ],
             [
              0.3333333333333333,
              "#9c179e"
             ],
             [
              0.4444444444444444,
              "#bd3786"
             ],
             [
              0.5555555555555556,
              "#d8576b"
             ],
             [
              0.6666666666666666,
              "#ed7953"
             ],
             [
              0.7777777777777778,
              "#fb9f3a"
             ],
             [
              0.8888888888888888,
              "#fdca26"
             ],
             [
              1,
              "#f0f921"
             ]
            ],
            "type": "histogram2dcontour"
           }
          ],
          "mesh3d": [
           {
            "colorbar": {
             "outlinewidth": 0,
             "ticks": ""
            },
            "type": "mesh3d"
           }
          ],
          "parcoords": [
           {
            "line": {
             "colorbar": {
              "outlinewidth": 0,
              "ticks": ""
             }
            },
            "type": "parcoords"
           }
          ],
          "pie": [
           {
            "automargin": true,
            "type": "pie"
           }
          ],
          "scatter": [
           {
            "marker": {
             "colorbar": {
              "outlinewidth": 0,
              "ticks": ""
             }
            },
            "type": "scatter"
           }
          ],
          "scatter3d": [
           {
            "line": {
             "colorbar": {
              "outlinewidth": 0,
              "ticks": ""
             }
            },
            "marker": {
             "colorbar": {
              "outlinewidth": 0,
              "ticks": ""
             }
            },
            "type": "scatter3d"
           }
          ],
          "scattercarpet": [
           {
            "marker": {
             "colorbar": {
              "outlinewidth": 0,
              "ticks": ""
             }
            },
            "type": "scattercarpet"
           }
          ],
          "scattergeo": [
           {
            "marker": {
             "colorbar": {
              "outlinewidth": 0,
              "ticks": ""
             }
            },
            "type": "scattergeo"
           }
          ],
          "scattergl": [
           {
            "marker": {
             "colorbar": {
              "outlinewidth": 0,
              "ticks": ""
             }
            },
            "type": "scattergl"
           }
          ],
          "scattermapbox": [
           {
            "marker": {
             "colorbar": {
              "outlinewidth": 0,
              "ticks": ""
             }
            },
            "type": "scattermapbox"
           }
          ],
          "scatterpolar": [
           {
            "marker": {
             "colorbar": {
              "outlinewidth": 0,
              "ticks": ""
             }
            },
            "type": "scatterpolar"
           }
          ],
          "scatterpolargl": [
           {
            "marker": {
             "colorbar": {
              "outlinewidth": 0,
              "ticks": ""
             }
            },
            "type": "scatterpolargl"
           }
          ],
          "scatterternary": [
           {
            "marker": {
             "colorbar": {
              "outlinewidth": 0,
              "ticks": ""
             }
            },
            "type": "scatterternary"
           }
          ],
          "surface": [
           {
            "colorbar": {
             "outlinewidth": 0,
             "ticks": ""
            },
            "colorscale": [
             [
              0,
              "#0d0887"
             ],
             [
              0.1111111111111111,
              "#46039f"
             ],
             [
              0.2222222222222222,
              "#7201a8"
             ],
             [
              0.3333333333333333,
              "#9c179e"
             ],
             [
              0.4444444444444444,
              "#bd3786"
             ],
             [
              0.5555555555555556,
              "#d8576b"
             ],
             [
              0.6666666666666666,
              "#ed7953"
             ],
             [
              0.7777777777777778,
              "#fb9f3a"
             ],
             [
              0.8888888888888888,
              "#fdca26"
             ],
             [
              1,
              "#f0f921"
             ]
            ],
            "type": "surface"
           }
          ],
          "table": [
           {
            "cells": {
             "fill": {
              "color": "#EBF0F8"
             },
             "line": {
              "color": "white"
             }
            },
            "header": {
             "fill": {
              "color": "#C8D4E3"
             },
             "line": {
              "color": "white"
             }
            },
            "type": "table"
           }
          ]
         },
         "layout": {
          "annotationdefaults": {
           "arrowcolor": "#2a3f5f",
           "arrowhead": 0,
           "arrowwidth": 1
          },
          "coloraxis": {
           "colorbar": {
            "outlinewidth": 0,
            "ticks": ""
           }
          },
          "colorscale": {
           "diverging": [
            [
             0,
             "#8e0152"
            ],
            [
             0.1,
             "#c51b7d"
            ],
            [
             0.2,
             "#de77ae"
            ],
            [
             0.3,
             "#f1b6da"
            ],
            [
             0.4,
             "#fde0ef"
            ],
            [
             0.5,
             "#f7f7f7"
            ],
            [
             0.6,
             "#e6f5d0"
            ],
            [
             0.7,
             "#b8e186"
            ],
            [
             0.8,
             "#7fbc41"
            ],
            [
             0.9,
             "#4d9221"
            ],
            [
             1,
             "#276419"
            ]
           ],
           "sequential": [
            [
             0,
             "#0d0887"
            ],
            [
             0.1111111111111111,
             "#46039f"
            ],
            [
             0.2222222222222222,
             "#7201a8"
            ],
            [
             0.3333333333333333,
             "#9c179e"
            ],
            [
             0.4444444444444444,
             "#bd3786"
            ],
            [
             0.5555555555555556,
             "#d8576b"
            ],
            [
             0.6666666666666666,
             "#ed7953"
            ],
            [
             0.7777777777777778,
             "#fb9f3a"
            ],
            [
             0.8888888888888888,
             "#fdca26"
            ],
            [
             1,
             "#f0f921"
            ]
           ],
           "sequentialminus": [
            [
             0,
             "#0d0887"
            ],
            [
             0.1111111111111111,
             "#46039f"
            ],
            [
             0.2222222222222222,
             "#7201a8"
            ],
            [
             0.3333333333333333,
             "#9c179e"
            ],
            [
             0.4444444444444444,
             "#bd3786"
            ],
            [
             0.5555555555555556,
             "#d8576b"
            ],
            [
             0.6666666666666666,
             "#ed7953"
            ],
            [
             0.7777777777777778,
             "#fb9f3a"
            ],
            [
             0.8888888888888888,
             "#fdca26"
            ],
            [
             1,
             "#f0f921"
            ]
           ]
          },
          "colorway": [
           "#636efa",
           "#EF553B",
           "#00cc96",
           "#ab63fa",
           "#FFA15A",
           "#19d3f3",
           "#FF6692",
           "#B6E880",
           "#FF97FF",
           "#FECB52"
          ],
          "font": {
           "color": "#2a3f5f"
          },
          "geo": {
           "bgcolor": "white",
           "lakecolor": "white",
           "landcolor": "#E5ECF6",
           "showlakes": true,
           "showland": true,
           "subunitcolor": "white"
          },
          "hoverlabel": {
           "align": "left"
          },
          "hovermode": "closest",
          "mapbox": {
           "style": "light"
          },
          "paper_bgcolor": "white",
          "plot_bgcolor": "#E5ECF6",
          "polar": {
           "angularaxis": {
            "gridcolor": "white",
            "linecolor": "white",
            "ticks": ""
           },
           "bgcolor": "#E5ECF6",
           "radialaxis": {
            "gridcolor": "white",
            "linecolor": "white",
            "ticks": ""
           }
          },
          "scene": {
           "xaxis": {
            "backgroundcolor": "#E5ECF6",
            "gridcolor": "white",
            "gridwidth": 2,
            "linecolor": "white",
            "showbackground": true,
            "ticks": "",
            "zerolinecolor": "white"
           },
           "yaxis": {
            "backgroundcolor": "#E5ECF6",
            "gridcolor": "white",
            "gridwidth": 2,
            "linecolor": "white",
            "showbackground": true,
            "ticks": "",
            "zerolinecolor": "white"
           },
           "zaxis": {
            "backgroundcolor": "#E5ECF6",
            "gridcolor": "white",
            "gridwidth": 2,
            "linecolor": "white",
            "showbackground": true,
            "ticks": "",
            "zerolinecolor": "white"
           }
          },
          "shapedefaults": {
           "line": {
            "color": "#2a3f5f"
           }
          },
          "ternary": {
           "aaxis": {
            "gridcolor": "white",
            "linecolor": "white",
            "ticks": ""
           },
           "baxis": {
            "gridcolor": "white",
            "linecolor": "white",
            "ticks": ""
           },
           "bgcolor": "#E5ECF6",
           "caxis": {
            "gridcolor": "white",
            "linecolor": "white",
            "ticks": ""
           }
          },
          "title": {
           "x": 0.05
          },
          "xaxis": {
           "automargin": true,
           "gridcolor": "white",
           "linecolor": "white",
           "ticks": "",
           "title": {
            "standoff": 15
           },
           "zerolinecolor": "white",
           "zerolinewidth": 2
          },
          "yaxis": {
           "automargin": true,
           "gridcolor": "white",
           "linecolor": "white",
           "ticks": "",
           "title": {
            "standoff": 15
           },
           "zerolinecolor": "white",
           "zerolinewidth": 2
          }
         }
        },
        "title": {
         "font": {
          "color": "#4D5663"
         },
         "text": "number of comments Count Distribution"
        },
        "xaxis": {
         "gridcolor": "#E1E5ED",
         "linecolor": "black",
         "showgrid": true,
         "tickfont": {
          "color": "#4D5663"
         },
         "title": {
          "font": {
           "color": "#4D5663"
          },
          "text": "word count"
         },
         "zerolinecolor": "#E1E5ED"
        },
        "yaxis": {
         "gridcolor": "#E1E5ED",
         "linecolor": "black",
         "showgrid": true,
         "tickfont": {
          "color": "#4D5663"
         },
         "title": {
          "font": {
           "color": "#4D5663"
          },
          "text": "count"
         },
         "zerolinecolor": "#E1E5ED"
        }
       }
      },
      "text/html": [
       "<div>\n",
       "        \n",
       "        \n",
       "            <div id=\"efec783f-e748-4f78-8ae1-2a0352d5ae80\" class=\"plotly-graph-div\" style=\"height:525px; width:100%;\"></div>\n",
       "            <script type=\"text/javascript\">\n",
       "                require([\"plotly\"], function(Plotly) {\n",
       "                    window.PLOTLYENV=window.PLOTLYENV || {};\n",
       "                    window.PLOTLYENV.BASE_URL='https://plot.ly';\n",
       "                    \n",
       "                if (document.getElementById(\"efec783f-e748-4f78-8ae1-2a0352d5ae80\")) {\n",
       "                    Plotly.newPlot(\n",
       "                        'efec783f-e748-4f78-8ae1-2a0352d5ae80',\n",
       "                        [{\"histfunc\": \"count\", \"histnorm\": \"\", \"marker\": {\"color\": \"rgba(255, 153, 51, 1.0)\", \"line\": {\"color\": \"#000000\", \"width\": 1.3}}, \"name\": \"comms_num\", \"nbinsx\": 100, \"opacity\": 0.8, \"orientation\": \"v\", \"type\": \"histogram\", \"x\": [1, 17, 0, 38, 67, 4, 2, 50, 6, 133, 7, 14, 15, 36, 11, 27, 7, 42, 4, 98, 0, 33, 44, 33, 260, 83, 2, 3, 237, 8, 45, 9, 7, 5, 2, 3, 200, 221, 281, 45, 134, 55, 115, 41, 24, 24, 10, 76, 46, 4, 33, 43, 14, 78, 56, 33, 4, 63, 69, 9, 23, 18, 15, 45, 9, 122, 6, 9, 37, 11, 2, 27, 41, 10, 106, 18, 11, 36, 19, 9, 10, 4, 27, 12, 16, 20, 63, 27, 37, 386, 72, 0, 48, 1, 18, 75, 10, 66, 19, 4, 4, 63, 14, 37, 4, 8, 8, 32, 16, 9, 3, 8, 7, 10, 14, 3, 15, 212, 78, 40, 15, 13, 99, 0, 0, 35, 102, 4, 12, 52, 118, 1, 62, 5, 2, 25, 0, 20, 10, 1, 4, 2, 2, 10, 14, 2, 6, 1, 15, 22, 1, 2, 16, 1, 2, 106, 105, 8, 10, 3, 7, 0, 22, 0, 9, 7, 39, 6, 0, 2, 0, 64, 11, 0, 3, 4, 9, 13, 46, 0, 19, 289, 15, 4, 9, 2, 11, 0, 2, 17, 6, 39, 15, 80, 11, 0, 9, 3, 296, 10, 25, 15, 1, 106, 4, 181, 45, 7, 8, 8, 5, 2, 11, 2, 9, 6, 8, 257, 26, 32, 13, 12, 8, 0, 13, 32, 25, 8, 6, 0, 23, 52, 23, 17, 1, 95, 3, 78, 63, 21, 15, 177, 17, 4, 24, 269, 220, 6, 0, 4, 5, 35, 29, 1, 17, 11, 1, 32, 0, 0, 30, 65, 8, 3, 109, 4, 2, 17, 5, 13, 7, 2, 2, 2, 19, 2, 4, 17, 26, 11, 58, 8, 14, 2, 1, 3, 1, 9, 168, 11, 1, 1, 0, 202, 2, 1, 8, 19, 134, 1, 10, 131, 105, 1, 59, 84, 90, 0, 14, 65, 74, 1, 30, 68, 44, 25, 4, 43, 51, 61, 35, 5, 33, 26, 37, 11, 14, 8, 32, 1, 16, 4, 21, 77, 6, 11, 6, 53, 8, 35, 2, 2, 71, 43, 2, 3, 3, 12, 26, 1, 96, 0, 9, 31, 14, 6, 2, 39, 0, 120, 50, 16, 6, 68, 61, 15, 6, 89, 34, 16, 9, 2, 364, 12, 8, 3, 4, 231, 14, 72, 46, 7, 18, 1, 3, 0, 20, 9, 9, 2, 7, 0, 2, 14, 54, 6, 0, 1, 14, 25, 13, 1, 27, 16, 12, 55, 32, 0, 1, 12, 30, 6, 13, 12, 31, 20, 9, 27, 12, 1, 0, 138, 3, 11, 2, 8, 12, 35, 36, 44, 3, 52, 2, 5, 18, 2, 21, 15, 2, 1, 0, 44, 4, 29, 32, 160, 1, 61, 8, 9, 0, 16, 1, 0, 2, 6, 38, 35, 24, 3, 0, 10, 0, 16, 107, 5, 110, 3, 42, 14, 53, 48, 7, 5, 23, 64, 146, 1, 39, 25, 29, 17, 18, 0, 2, 1, 7, 2, 4, 57, 4, 1, 7, 5, 27, 54, 3, 28, 1, 14, 3, 7, 3, 1, 6, 3, 1, 3, 18, 20, 5, 17, 3, 12, 1, 2, 6, 59, 51, 91, 53, 30, 39, 80, 33, 112, 55, 67, 51, 38, 82, 62, 55, 17, 17, 13, 37, 10, 72, 14, 11, 72, 244, 12, 17, 29, 14, 22, 56, 37, 15, 5, 7, 49, 19, 24, 58, 31, 20, 33, 42, 18, 55, 38, 14, 15, 36, 68, 13, 13, 61, 68, 16, 6, 14, 6, 44, 25, 41, 25, 21, 32, 30, 68, 17, 11, 23, 9, 66, 40, 16, 27, 28, 10, 7, 5, 23, 40, 20, 1, 5, 23, 153, 138, 21, 9, 9, 91, 4, 3, 46, 43, 25, 25, 32, 55, 6, 3, 2, 116, 11, 5, 13, 2, 4, 6, 6, 28, 2, 3, 2, 1, 1, 17, 1, 1, 39, 54, 1, 39, 2, 2, 1, 2, 9, 138, 5, 5, 1, 20, 6, 2, 2, 2, 1, 0, 3, 1, 13, 13, 49, 9, 18, 4, 4, 1, 29, 10, 11, 19, 4, 72, 766, 74, 67, 81, 178, 4, 159, 118, 95, 24, 168, 6, 46, 1, 2, 25, 133, 15, 77, 8, 9, 9, 2, 13, 29, 141, 47, 23, 84, 22, 97, 1, 76, 3, 0, 93, 68, 10, 0, 21, 60, 4, 10, 1, 54, 2, 59, 13, 53, 46, 15, 124, 11, 45, 1, 90, 118, 136, 13, 24, 0, 2, 73, 54, 5, 10, 14, 21, 62, 83, 24, 8, 72, 5, 6, 1, 63, 1, 37, 49, 18, 17, 1, 1, 2, 1, 30, 1, 1, 19, 0, 17, 1, 2, 26, 12, 1, 2, 6, 1, 2, 3, 6, 76, 4, 3, 19, 14, 2, 52, 10, 17, 40, 1, 26, 8, 2, 19, 1, 43, 34, 2, 23, 24, 34, 2, 2, 4, 53, 33, 13, 1, 1, 14, 1, 17, 1, 27, 1, 1, 3, 12, 10, 2, 1, 142, 42, 81, 88, 27, 43, 44, 8, 13, 55, 272, 3, 30, 74, 41, 8, 119, 31, 5, 3, 17, 1059, 158, 9, 67, 13, 24, 8, 36, 15, 30, 22, 89, 4, 24, 19, 26, 7, 202, 2, 74, 5, 205, 28, 111, 42, 47, 23, 13, 8, 3, 31, 26, 16, 3, 153, 25, 21, 7, 70, 124, 66, 190, 61, 200, 13, 50, 4, 8, 242, 34, 48, 57, 5, 1, 59, 71, 13, 2, 10, 61, 31, 1, 12, 21, 69, 5, 13, 2, 4, 3, 126, 23, 9, 72, 10, 30, 44, 10, 21, 110, 56, 90, 66, 129, 65, 45, 27, 40, 21, 63, 146, 60, 151, 76, 95, 190, 51, 26, 8, 23, 75, 82, 110, 103, 107, 5, 21, 121, 142, 19, 84, 54, 78, 11, 46, 29, 19, 48, 11, 19, 119, 19, 5, 5, 41, 121, 286, 25, 45, 47, 93, 26, 12, 30, 54, 16, 43, 18, 18, 127, 82, 5, 0, 5, 19, 38, 279, 4, 13, 7, 49, 60, 2, 88, 61, 1, 23, 42, 53, 6, 2, 5, 63, 12, 91, 23, 262, 47, 39, 5, 83, 12, 6, 11, 9, 23, 10, 23, 19, 85, 15, 13, 49, 69, 33, 16, 4, 49, 164, 26, 88, 58, 68, 168, 39, 56, 310, 31, 5, 80, 65, 68, 61, 34, 19, 15, 0, 98, 14, 8, 7, 54, 530, 9, 6, 10, 17, 37, 121, 49, 548, 216, 332, 94, 163, 10, 130, 66, 0, 119, 14, 15, 76, 36, 56, 40, 85, 104, 16, 4, 46, 293, 68, 48, 380, 14, 35, 14, 32, 9, 127, 207, 13, 88, 3, 237, 14, 13, 232, 20, 209, 40, 351, 80, 0, 18, 34, 29, 0, 26, 462, 33, 20, 38, 10, 11, 111, 351, 151]}],\n",
       "                        {\"barmode\": \"overlay\", \"legend\": {\"bgcolor\": \"#F5F6F9\", \"font\": {\"color\": \"#4D5663\"}}, \"paper_bgcolor\": \"#F5F6F9\", \"plot_bgcolor\": \"#F5F6F9\", \"template\": {\"data\": {\"bar\": [{\"error_x\": {\"color\": \"#2a3f5f\"}, \"error_y\": {\"color\": \"#2a3f5f\"}, \"marker\": {\"line\": {\"color\": \"#E5ECF6\", \"width\": 0.5}}, \"type\": \"bar\"}], \"barpolar\": [{\"marker\": {\"line\": {\"color\": \"#E5ECF6\", \"width\": 0.5}}, \"type\": \"barpolar\"}], \"carpet\": [{\"aaxis\": {\"endlinecolor\": \"#2a3f5f\", \"gridcolor\": \"white\", \"linecolor\": \"white\", \"minorgridcolor\": \"white\", \"startlinecolor\": \"#2a3f5f\"}, \"baxis\": {\"endlinecolor\": \"#2a3f5f\", \"gridcolor\": \"white\", \"linecolor\": \"white\", \"minorgridcolor\": \"white\", \"startlinecolor\": \"#2a3f5f\"}, \"type\": \"carpet\"}], \"choropleth\": [{\"colorbar\": {\"outlinewidth\": 0, \"ticks\": \"\"}, \"type\": \"choropleth\"}], \"contour\": [{\"colorbar\": {\"outlinewidth\": 0, \"ticks\": \"\"}, \"colorscale\": [[0.0, \"#0d0887\"], [0.1111111111111111, \"#46039f\"], [0.2222222222222222, \"#7201a8\"], [0.3333333333333333, \"#9c179e\"], [0.4444444444444444, \"#bd3786\"], [0.5555555555555556, \"#d8576b\"], [0.6666666666666666, \"#ed7953\"], [0.7777777777777778, \"#fb9f3a\"], [0.8888888888888888, \"#fdca26\"], [1.0, \"#f0f921\"]], \"type\": \"contour\"}], \"contourcarpet\": [{\"colorbar\": {\"outlinewidth\": 0, \"ticks\": \"\"}, \"type\": \"contourcarpet\"}], \"heatmap\": [{\"colorbar\": {\"outlinewidth\": 0, \"ticks\": \"\"}, \"colorscale\": [[0.0, \"#0d0887\"], [0.1111111111111111, \"#46039f\"], [0.2222222222222222, \"#7201a8\"], [0.3333333333333333, \"#9c179e\"], [0.4444444444444444, \"#bd3786\"], [0.5555555555555556, \"#d8576b\"], [0.6666666666666666, \"#ed7953\"], [0.7777777777777778, \"#fb9f3a\"], [0.8888888888888888, \"#fdca26\"], [1.0, \"#f0f921\"]], \"type\": \"heatmap\"}], \"heatmapgl\": [{\"colorbar\": {\"outlinewidth\": 0, \"ticks\": \"\"}, \"colorscale\": [[0.0, \"#0d0887\"], [0.1111111111111111, \"#46039f\"], [0.2222222222222222, \"#7201a8\"], [0.3333333333333333, \"#9c179e\"], [0.4444444444444444, \"#bd3786\"], [0.5555555555555556, \"#d8576b\"], [0.6666666666666666, \"#ed7953\"], [0.7777777777777778, \"#fb9f3a\"], [0.8888888888888888, \"#fdca26\"], [1.0, \"#f0f921\"]], \"type\": \"heatmapgl\"}], \"histogram\": [{\"marker\": {\"colorbar\": {\"outlinewidth\": 0, \"ticks\": \"\"}}, \"type\": \"histogram\"}], \"histogram2d\": [{\"colorbar\": {\"outlinewidth\": 0, \"ticks\": \"\"}, \"colorscale\": [[0.0, \"#0d0887\"], [0.1111111111111111, \"#46039f\"], [0.2222222222222222, \"#7201a8\"], [0.3333333333333333, \"#9c179e\"], [0.4444444444444444, \"#bd3786\"], [0.5555555555555556, \"#d8576b\"], [0.6666666666666666, \"#ed7953\"], [0.7777777777777778, \"#fb9f3a\"], [0.8888888888888888, \"#fdca26\"], [1.0, \"#f0f921\"]], \"type\": \"histogram2d\"}], \"histogram2dcontour\": [{\"colorbar\": {\"outlinewidth\": 0, \"ticks\": \"\"}, \"colorscale\": [[0.0, \"#0d0887\"], [0.1111111111111111, \"#46039f\"], [0.2222222222222222, \"#7201a8\"], [0.3333333333333333, \"#9c179e\"], [0.4444444444444444, \"#bd3786\"], [0.5555555555555556, \"#d8576b\"], [0.6666666666666666, \"#ed7953\"], [0.7777777777777778, \"#fb9f3a\"], [0.8888888888888888, \"#fdca26\"], [1.0, \"#f0f921\"]], \"type\": \"histogram2dcontour\"}], \"mesh3d\": [{\"colorbar\": {\"outlinewidth\": 0, \"ticks\": \"\"}, \"type\": \"mesh3d\"}], \"parcoords\": [{\"line\": {\"colorbar\": {\"outlinewidth\": 0, \"ticks\": \"\"}}, \"type\": \"parcoords\"}], \"pie\": [{\"automargin\": true, \"type\": \"pie\"}], \"scatter\": [{\"marker\": {\"colorbar\": {\"outlinewidth\": 0, \"ticks\": \"\"}}, \"type\": \"scatter\"}], \"scatter3d\": [{\"line\": {\"colorbar\": {\"outlinewidth\": 0, \"ticks\": \"\"}}, \"marker\": {\"colorbar\": {\"outlinewidth\": 0, \"ticks\": \"\"}}, \"type\": \"scatter3d\"}], \"scattercarpet\": [{\"marker\": {\"colorbar\": {\"outlinewidth\": 0, \"ticks\": \"\"}}, \"type\": \"scattercarpet\"}], \"scattergeo\": [{\"marker\": {\"colorbar\": {\"outlinewidth\": 0, \"ticks\": \"\"}}, \"type\": \"scattergeo\"}], \"scattergl\": [{\"marker\": {\"colorbar\": {\"outlinewidth\": 0, \"ticks\": \"\"}}, \"type\": \"scattergl\"}], \"scattermapbox\": [{\"marker\": {\"colorbar\": {\"outlinewidth\": 0, \"ticks\": \"\"}}, \"type\": \"scattermapbox\"}], \"scatterpolar\": [{\"marker\": {\"colorbar\": {\"outlinewidth\": 0, \"ticks\": \"\"}}, \"type\": \"scatterpolar\"}], \"scatterpolargl\": [{\"marker\": {\"colorbar\": {\"outlinewidth\": 0, \"ticks\": \"\"}}, \"type\": \"scatterpolargl\"}], \"scatterternary\": [{\"marker\": {\"colorbar\": {\"outlinewidth\": 0, \"ticks\": \"\"}}, \"type\": \"scatterternary\"}], \"surface\": [{\"colorbar\": {\"outlinewidth\": 0, \"ticks\": \"\"}, \"colorscale\": [[0.0, \"#0d0887\"], [0.1111111111111111, \"#46039f\"], [0.2222222222222222, \"#7201a8\"], [0.3333333333333333, \"#9c179e\"], [0.4444444444444444, \"#bd3786\"], [0.5555555555555556, \"#d8576b\"], [0.6666666666666666, \"#ed7953\"], [0.7777777777777778, \"#fb9f3a\"], [0.8888888888888888, \"#fdca26\"], [1.0, \"#f0f921\"]], \"type\": \"surface\"}], \"table\": [{\"cells\": {\"fill\": {\"color\": \"#EBF0F8\"}, \"line\": {\"color\": \"white\"}}, \"header\": {\"fill\": {\"color\": \"#C8D4E3\"}, \"line\": {\"color\": \"white\"}}, \"type\": \"table\"}]}, \"layout\": {\"annotationdefaults\": {\"arrowcolor\": \"#2a3f5f\", \"arrowhead\": 0, \"arrowwidth\": 1}, \"coloraxis\": {\"colorbar\": {\"outlinewidth\": 0, \"ticks\": \"\"}}, \"colorscale\": {\"diverging\": [[0, \"#8e0152\"], [0.1, \"#c51b7d\"], [0.2, \"#de77ae\"], [0.3, \"#f1b6da\"], [0.4, \"#fde0ef\"], [0.5, \"#f7f7f7\"], [0.6, \"#e6f5d0\"], [0.7, \"#b8e186\"], [0.8, \"#7fbc41\"], [0.9, \"#4d9221\"], [1, \"#276419\"]], \"sequential\": [[0.0, \"#0d0887\"], [0.1111111111111111, \"#46039f\"], [0.2222222222222222, \"#7201a8\"], [0.3333333333333333, \"#9c179e\"], [0.4444444444444444, \"#bd3786\"], [0.5555555555555556, \"#d8576b\"], [0.6666666666666666, \"#ed7953\"], [0.7777777777777778, \"#fb9f3a\"], [0.8888888888888888, \"#fdca26\"], [1.0, \"#f0f921\"]], \"sequentialminus\": [[0.0, \"#0d0887\"], [0.1111111111111111, \"#46039f\"], [0.2222222222222222, \"#7201a8\"], [0.3333333333333333, \"#9c179e\"], [0.4444444444444444, \"#bd3786\"], [0.5555555555555556, \"#d8576b\"], [0.6666666666666666, \"#ed7953\"], [0.7777777777777778, \"#fb9f3a\"], [0.8888888888888888, \"#fdca26\"], [1.0, \"#f0f921\"]]}, \"colorway\": [\"#636efa\", \"#EF553B\", \"#00cc96\", \"#ab63fa\", \"#FFA15A\", \"#19d3f3\", \"#FF6692\", \"#B6E880\", \"#FF97FF\", \"#FECB52\"], \"font\": {\"color\": \"#2a3f5f\"}, \"geo\": {\"bgcolor\": \"white\", \"lakecolor\": \"white\", \"landcolor\": \"#E5ECF6\", \"showlakes\": true, \"showland\": true, \"subunitcolor\": \"white\"}, \"hoverlabel\": {\"align\": \"left\"}, \"hovermode\": \"closest\", \"mapbox\": {\"style\": \"light\"}, \"paper_bgcolor\": \"white\", \"plot_bgcolor\": \"#E5ECF6\", \"polar\": {\"angularaxis\": {\"gridcolor\": \"white\", \"linecolor\": \"white\", \"ticks\": \"\"}, \"bgcolor\": \"#E5ECF6\", \"radialaxis\": {\"gridcolor\": \"white\", \"linecolor\": \"white\", \"ticks\": \"\"}}, \"scene\": {\"xaxis\": {\"backgroundcolor\": \"#E5ECF6\", \"gridcolor\": \"white\", \"gridwidth\": 2, \"linecolor\": \"white\", \"showbackground\": true, \"ticks\": \"\", \"zerolinecolor\": \"white\"}, \"yaxis\": {\"backgroundcolor\": \"#E5ECF6\", \"gridcolor\": \"white\", \"gridwidth\": 2, \"linecolor\": \"white\", \"showbackground\": true, \"ticks\": \"\", \"zerolinecolor\": \"white\"}, \"zaxis\": {\"backgroundcolor\": \"#E5ECF6\", \"gridcolor\": \"white\", \"gridwidth\": 2, \"linecolor\": \"white\", \"showbackground\": true, \"ticks\": \"\", \"zerolinecolor\": \"white\"}}, \"shapedefaults\": {\"line\": {\"color\": \"#2a3f5f\"}}, \"ternary\": {\"aaxis\": {\"gridcolor\": \"white\", \"linecolor\": \"white\", \"ticks\": \"\"}, \"baxis\": {\"gridcolor\": \"white\", \"linecolor\": \"white\", \"ticks\": \"\"}, \"bgcolor\": \"#E5ECF6\", \"caxis\": {\"gridcolor\": \"white\", \"linecolor\": \"white\", \"ticks\": \"\"}}, \"title\": {\"x\": 0.05}, \"xaxis\": {\"automargin\": true, \"gridcolor\": \"white\", \"linecolor\": \"white\", \"ticks\": \"\", \"title\": {\"standoff\": 15}, \"zerolinecolor\": \"white\", \"zerolinewidth\": 2}, \"yaxis\": {\"automargin\": true, \"gridcolor\": \"white\", \"linecolor\": \"white\", \"ticks\": \"\", \"title\": {\"standoff\": 15}, \"zerolinecolor\": \"white\", \"zerolinewidth\": 2}}}, \"title\": {\"font\": {\"color\": \"#4D5663\"}, \"text\": \"number of comments Count Distribution\"}, \"xaxis\": {\"gridcolor\": \"#E1E5ED\", \"linecolor\": \"black\", \"showgrid\": true, \"tickfont\": {\"color\": \"#4D5663\"}, \"title\": {\"font\": {\"color\": \"#4D5663\"}, \"text\": \"word count\"}, \"zerolinecolor\": \"#E1E5ED\"}, \"yaxis\": {\"gridcolor\": \"#E1E5ED\", \"linecolor\": \"black\", \"showgrid\": true, \"tickfont\": {\"color\": \"#4D5663\"}, \"title\": {\"font\": {\"color\": \"#4D5663\"}, \"text\": \"count\"}, \"zerolinecolor\": \"#E1E5ED\"}},\n",
       "                        {\"showLink\": true, \"linkText\": \"Export to plot.ly\", \"plotlyServerURL\": \"https://plot.ly\", \"responsive\": true}\n",
       "                    ).then(function(){\n",
       "                            \n",
       "var gd = document.getElementById('efec783f-e748-4f78-8ae1-2a0352d5ae80');\n",
       "var x = new MutationObserver(function (mutations, observer) {{\n",
       "        var display = window.getComputedStyle(gd).display;\n",
       "        if (!display || display === 'none') {{\n",
       "            console.log([gd, 'removed!']);\n",
       "            Plotly.purge(gd);\n",
       "            observer.disconnect();\n",
       "        }}\n",
       "}});\n",
       "\n",
       "// Listen for the removal of the full notebook cells\n",
       "var notebookContainer = gd.closest('#notebook-container');\n",
       "if (notebookContainer) {{\n",
       "    x.observe(notebookContainer, {childList: true});\n",
       "}}\n",
       "\n",
       "// Listen for the clearing of the current output cell\n",
       "var outputEl = gd.closest('.output');\n",
       "if (outputEl) {{\n",
       "    x.observe(outputEl, {childList: true});\n",
       "}}\n",
       "\n",
       "                        })\n",
       "                };\n",
       "                });\n",
       "            </script>\n",
       "        </div>"
      ]
     },
     "metadata": {},
     "output_type": "display_data"
    }
   ],
   "source": [
    "ncom = topics_data['comms_num']\n",
    "ncom.iplot(\n",
    "    kind='hist',\n",
    "    bins=100,\n",
    "    xTitle='word count',\n",
    "    linecolor='black',\n",
    "    yTitle='count',\n",
    "    title='number of comments Count Distribution')"
   ]
  },
  {
   "cell_type": "markdown",
   "metadata": {},
   "source": [
    "### Word count of comments"
   ]
  },
  {
   "cell_type": "code",
   "execution_count": 47,
   "metadata": {},
   "outputs": [
    {
     "data": {
      "application/vnd.plotly.v1+json": {
       "config": {
        "linkText": "Export to plot.ly",
        "plotlyServerURL": "https://plot.ly",
        "showLink": true
       },
       "data": [
        {
         "histfunc": "count",
         "histnorm": "",
         "marker": {
          "color": "rgba(255, 153, 51, 1.0)",
          "line": {
           "color": "#000000",
           "width": 1.3
          }
         },
         "name": "comments",
         "nbinsx": 100,
         "opacity": 0.8,
         "orientation": "v",
         "type": "histogram",
         "x": [
          42,
          942,
          1,
          349,
          561,
          15,
          55,
          262,
          40,
          310,
          13,
          503,
          85,
          128,
          147,
          144,
          16,
          310,
          182,
          439,
          1,
          92,
          238,
          265,
          880,
          1154,
          18,
          116,
          1503,
          71,
          158,
          12,
          64,
          49,
          12,
          123,
          746,
          245,
          1216,
          366,
          1841,
          220,
          313,
          135,
          208,
          229,
          158,
          193,
          141,
          35,
          468,
          164,
          295,
          447,
          330,
          401,
          54,
          504,
          1395,
          17,
          99,
          128,
          104,
          357,
          227,
          660,
          47,
          73,
          172,
          303,
          20,
          152,
          617,
          74,
          1405,
          48,
          115,
          60,
          86,
          159,
          283,
          27,
          195,
          63,
          132,
          35,
          1617,
          505,
          186,
          1492,
          855,
          1,
          272,
          8,
          42,
          874,
          12,
          141,
          82,
          62,
          33,
          235,
          96,
          67,
          26,
          14,
          113,
          463,
          190,
          70,
          7,
          310,
          89,
          35,
          88,
          4,
          78,
          710,
          124,
          117,
          141,
          51,
          270,
          1,
          1,
          93,
          488,
          28,
          15,
          55,
          701,
          20,
          216,
          59,
          4,
          161,
          1,
          122,
          230,
          1,
          11,
          16,
          3,
          231,
          87,
          7,
          40,
          11,
          101,
          190,
          9,
          131,
          154,
          22,
          2,
          403,
          1093,
          72,
          28,
          247,
          35,
          1,
          108,
          1,
          49,
          36,
          298,
          44,
          1,
          15,
          1,
          300,
          59,
          1,
          38,
          30,
          20,
          85,
          550,
          1,
          229,
          493,
          86,
          14,
          57,
          16,
          81,
          1,
          109,
          50,
          51,
          102,
          55,
          410,
          90,
          1,
          49,
          4,
          400,
          108,
          218,
          83,
          185,
          281,
          16,
          756,
          174,
          70,
          86,
          115,
          100,
          221,
          225,
          103,
          136,
          71,
          108,
          410,
          101,
          84,
          123,
          63,
          60,
          1,
          94,
          150,
          310,
          24,
          22,
          1,
          156,
          243,
          52,
          67,
          1,
          443,
          20,
          652,
          525,
          72,
          248,
          1039,
          88,
          65,
          104,
          1472,
          824,
          17,
          1,
          453,
          336,
          186,
          322,
          78,
          320,
          21,
          8,
          430,
          1,
          1,
          386,
          150,
          252,
          22,
          262,
          198,
          31,
          286,
          306,
          404,
          319,
          104,
          517,
          250,
          426,
          261,
          351,
          96,
          202,
          534,
          166,
          47,
          300,
          329,
          427,
          12,
          499,
          243,
          797,
          231,
          255,
          239,
          1,
          936,
          164,
          200,
          245,
          205,
          871,
          566,
          288,
          886,
          538,
          325,
          67,
          399,
          347,
          1,
          83,
          366,
          243,
          180,
          492,
          448,
          252,
          97,
          206,
          72,
          214,
          64,
          98,
          27,
          109,
          51,
          172,
          15,
          81,
          123,
          188,
          61,
          63,
          6,
          24,
          122,
          10,
          48,
          11,
          126,
          85,
          128,
          13,
          7,
          144,
          181,
          2,
          13,
          6,
          64,
          146,
          6,
          213,
          1,
          127,
          106,
          52,
          48,
          39,
          90,
          1,
          411,
          132,
          34,
          9,
          175,
          228,
          192,
          41,
          488,
          373,
          141,
          26,
          12,
          283,
          20,
          119,
          178,
          120,
          370,
          73,
          251,
          123,
          153,
          94,
          7,
          194,
          1,
          265,
          35,
          105,
          639,
          386,
          1,
          498,
          122,
          343,
          13,
          1,
          116,
          64,
          217,
          46,
          2,
          197,
          82,
          33,
          53,
          83,
          1,
          7,
          39,
          195,
          87,
          88,
          36,
          25,
          35,
          124,
          43,
          93,
          209,
          1,
          518,
          116,
          270,
          176,
          180,
          28,
          176,
          207,
          743,
          205,
          284,
          11,
          41,
          300,
          17,
          106,
          102,
          92,
          50,
          1,
          573,
          151,
          212,
          146,
          704,
          101,
          232,
          61,
          65,
          1,
          246,
          419,
          1,
          13,
          557,
          458,
          224,
          200,
          359,
          1,
          285,
          1,
          68,
          431,
          166,
          727,
          32,
          359,
          67,
          534,
          278,
          179,
          710,
          413,
          300,
          558,
          148,
          577,
          227,
          89,
          224,
          161,
          1,
          655,
          307,
          201,
          22,
          312,
          399,
          393,
          56,
          281,
          472,
          189,
          299,
          19,
          61,
          134,
          461,
          149,
          152,
          244,
          234,
          178,
          129,
          145,
          174,
          151,
          179,
          70,
          24,
          7,
          34,
          114,
          241,
          184,
          286,
          249,
          273,
          307,
          52,
          103,
          223,
          428,
          313,
          125,
          162,
          185,
          105,
          233,
          174,
          171,
          437,
          55,
          83,
          337,
          36,
          456,
          88,
          68,
          336,
          898,
          38,
          564,
          332,
          113,
          128,
          92,
          233,
          116,
          97,
          148,
          345,
          103,
          75,
          518,
          473,
          131,
          199,
          102,
          69,
          579,
          191,
          121,
          26,
          86,
          910,
          81,
          94,
          273,
          314,
          192,
          111,
          183,
          275,
          121,
          255,
          230,
          144,
          224,
          167,
          114,
          216,
          67,
          24,
          88,
          46,
          156,
          90,
          164,
          330,
          104,
          47,
          23,
          218,
          75,
          131,
          24,
          30,
          24,
          330,
          880,
          771,
          46,
          12,
          64,
          339,
          38,
          23,
          996,
          109,
          97,
          131,
          50,
          217,
          38,
          412,
          682,
          760,
          147,
          92,
          197,
          538,
          14,
          29,
          168,
          382,
          476,
          666,
          975,
          766,
          440,
          272,
          328,
          390,
          119,
          153,
          324,
          490,
          563,
          371,
          337,
          601,
          122,
          143,
          363,
          141,
          183,
          131,
          121,
          136,
          225,
          98,
          5,
          1,
          13,
          4,
          330,
          171,
          199,
          73,
          296,
          33,
          16,
          8,
          297,
          389,
          1114,
          128,
          80,
          550,
          2158,
          195,
          784,
          397,
          523,
          19,
          1255,
          701,
          534,
          490,
          1336,
          39,
          200,
          11,
          131,
          155,
          310,
          53,
          281,
          390,
          22,
          47,
          48,
          218,
          507,
          809,
          782,
          121,
          1438,
          221,
          780,
          1,
          195,
          12,
          1,
          2165,
          844,
          55,
          1,
          483,
          626,
          200,
          51,
          2,
          216,
          41,
          235,
          95,
          138,
          63,
          427,
          360,
          80,
          464,
          1,
          780,
          653,
          60,
          16,
          665,
          1,
          470,
          142,
          405,
          248,
          457,
          193,
          407,
          657,
          1154,
          389,
          502,
          485,
          14,
          459,
          463,
          155,
          1,
          1206,
          1064,
          688,
          821,
          490,
          679,
          584,
          7,
          335,
          456,
          344,
          219,
          1,
          249,
          490,
          556,
          297,
          233,
          301,
          572,
          614,
          481,
          619,
          485,
          263,
          185,
          171,
          616,
          251,
          221,
          547,
          194,
          99,
          137,
          74,
          785,
          107,
          236,
          578,
          194,
          202,
          954,
          431,
          371,
          94,
          50,
          236,
          452,
          487,
          288,
          360,
          101,
          75,
          828,
          155,
          21,
          109,
          1140,
          182,
          59,
          165,
          109,
          261,
          68,
          48,
          230,
          10,
          245,
          50,
          265,
          396,
          377,
          127,
          266,
          10,
          145,
          88,
          1404,
          66,
          142,
          135,
          155,
          59,
          337,
          517,
          19,
          6,
          245,
          6844,
          714,
          41,
          378,
          60,
          44,
          48,
          80,
          81,
          115,
          207,
          320,
          23,
          119,
          26,
          120,
          36,
          763,
          11,
          325,
          15,
          908,
          54,
          395,
          147,
          141,
          142,
          50,
          16,
          4,
          111,
          100,
          53,
          201,
          428,
          80,
          257,
          29,
          257,
          502,
          99,
          515,
          97,
          2666,
          211,
          177,
          6,
          80,
          1380,
          677,
          330,
          649,
          96,
          11,
          128,
          502,
          595,
          36,
          391,
          141,
          128,
          44,
          25,
          94,
          735,
          31,
          45,
          10,
          45,
          104,
          203,
          28,
          185,
          1206,
          242,
          144,
          134,
          74,
          441,
          240,
          150,
          347,
          104,
          204,
          250,
          250,
          145,
          285,
          88,
          151,
          323,
          189,
          342,
          224,
          242,
          498,
          390,
          235,
          81,
          130,
          210,
          408,
          186,
          181,
          446,
          98,
          85,
          486,
          115,
          49,
          283,
          574,
          313,
          71,
          673,
          124,
          297,
          78,
          29,
          63,
          322,
          50,
          56,
          18,
          190,
          948,
          640,
          170,
          243,
          255,
          300,
          302,
          192,
          328,
          266,
          93,
          77,
          97,
          201,
          749,
          57,
          32,
          1,
          30,
          77,
          91,
          602,
          27,
          41,
          65,
          221,
          348,
          1,
          157,
          255,
          8,
          70,
          144,
          434,
          40,
          5,
          111,
          230,
          64,
          775,
          182,
          3557,
          248,
          161,
          7,
          684,
          234,
          54,
          83,
          61,
          340,
          193,
          337,
          160,
          246,
          31,
          21,
          254,
          64,
          85,
          49,
          59,
          61,
          462,
          69,
          305,
          240,
          228,
          174,
          115,
          351,
          1066,
          82,
          27,
          147,
          93,
          547,
          104,
          158,
          31,
          32,
          1,
          545,
          18,
          36,
          4,
          168,
          3651,
          31,
          16,
          101,
          25,
          48,
          483,
          159,
          1277,
          1123,
          1320,
          1147,
          430,
          47,
          270,
          1706,
          1,
          145,
          52,
          80,
          95,
          70,
          470,
          102,
          321,
          333,
          44,
          13,
          152,
          803,
          112,
          83,
          2173,
          150,
          62,
          45,
          60,
          46,
          139,
          425,
          69,
          857,
          1,
          1119,
          53,
          57,
          830,
          424,
          1178,
          153,
          3116,
          396,
          1,
          65,
          192,
          140,
          1,
          183,
          3896,
          55,
          328,
          175,
          201,
          40,
          255,
          4359,
          1162
         ]
        }
       ],
       "layout": {
        "barmode": "overlay",
        "legend": {
         "bgcolor": "#F5F6F9",
         "font": {
          "color": "#4D5663"
         }
        },
        "paper_bgcolor": "#F5F6F9",
        "plot_bgcolor": "#F5F6F9",
        "template": {
         "data": {
          "bar": [
           {
            "error_x": {
             "color": "#2a3f5f"
            },
            "error_y": {
             "color": "#2a3f5f"
            },
            "marker": {
             "line": {
              "color": "#E5ECF6",
              "width": 0.5
             }
            },
            "type": "bar"
           }
          ],
          "barpolar": [
           {
            "marker": {
             "line": {
              "color": "#E5ECF6",
              "width": 0.5
             }
            },
            "type": "barpolar"
           }
          ],
          "carpet": [
           {
            "aaxis": {
             "endlinecolor": "#2a3f5f",
             "gridcolor": "white",
             "linecolor": "white",
             "minorgridcolor": "white",
             "startlinecolor": "#2a3f5f"
            },
            "baxis": {
             "endlinecolor": "#2a3f5f",
             "gridcolor": "white",
             "linecolor": "white",
             "minorgridcolor": "white",
             "startlinecolor": "#2a3f5f"
            },
            "type": "carpet"
           }
          ],
          "choropleth": [
           {
            "colorbar": {
             "outlinewidth": 0,
             "ticks": ""
            },
            "type": "choropleth"
           }
          ],
          "contour": [
           {
            "colorbar": {
             "outlinewidth": 0,
             "ticks": ""
            },
            "colorscale": [
             [
              0,
              "#0d0887"
             ],
             [
              0.1111111111111111,
              "#46039f"
             ],
             [
              0.2222222222222222,
              "#7201a8"
             ],
             [
              0.3333333333333333,
              "#9c179e"
             ],
             [
              0.4444444444444444,
              "#bd3786"
             ],
             [
              0.5555555555555556,
              "#d8576b"
             ],
             [
              0.6666666666666666,
              "#ed7953"
             ],
             [
              0.7777777777777778,
              "#fb9f3a"
             ],
             [
              0.8888888888888888,
              "#fdca26"
             ],
             [
              1,
              "#f0f921"
             ]
            ],
            "type": "contour"
           }
          ],
          "contourcarpet": [
           {
            "colorbar": {
             "outlinewidth": 0,
             "ticks": ""
            },
            "type": "contourcarpet"
           }
          ],
          "heatmap": [
           {
            "colorbar": {
             "outlinewidth": 0,
             "ticks": ""
            },
            "colorscale": [
             [
              0,
              "#0d0887"
             ],
             [
              0.1111111111111111,
              "#46039f"
             ],
             [
              0.2222222222222222,
              "#7201a8"
             ],
             [
              0.3333333333333333,
              "#9c179e"
             ],
             [
              0.4444444444444444,
              "#bd3786"
             ],
             [
              0.5555555555555556,
              "#d8576b"
             ],
             [
              0.6666666666666666,
              "#ed7953"
             ],
             [
              0.7777777777777778,
              "#fb9f3a"
             ],
             [
              0.8888888888888888,
              "#fdca26"
             ],
             [
              1,
              "#f0f921"
             ]
            ],
            "type": "heatmap"
           }
          ],
          "heatmapgl": [
           {
            "colorbar": {
             "outlinewidth": 0,
             "ticks": ""
            },
            "colorscale": [
             [
              0,
              "#0d0887"
             ],
             [
              0.1111111111111111,
              "#46039f"
             ],
             [
              0.2222222222222222,
              "#7201a8"
             ],
             [
              0.3333333333333333,
              "#9c179e"
             ],
             [
              0.4444444444444444,
              "#bd3786"
             ],
             [
              0.5555555555555556,
              "#d8576b"
             ],
             [
              0.6666666666666666,
              "#ed7953"
             ],
             [
              0.7777777777777778,
              "#fb9f3a"
             ],
             [
              0.8888888888888888,
              "#fdca26"
             ],
             [
              1,
              "#f0f921"
             ]
            ],
            "type": "heatmapgl"
           }
          ],
          "histogram": [
           {
            "marker": {
             "colorbar": {
              "outlinewidth": 0,
              "ticks": ""
             }
            },
            "type": "histogram"
           }
          ],
          "histogram2d": [
           {
            "colorbar": {
             "outlinewidth": 0,
             "ticks": ""
            },
            "colorscale": [
             [
              0,
              "#0d0887"
             ],
             [
              0.1111111111111111,
              "#46039f"
             ],
             [
              0.2222222222222222,
              "#7201a8"
             ],
             [
              0.3333333333333333,
              "#9c179e"
             ],
             [
              0.4444444444444444,
              "#bd3786"
             ],
             [
              0.5555555555555556,
              "#d8576b"
             ],
             [
              0.6666666666666666,
              "#ed7953"
             ],
             [
              0.7777777777777778,
              "#fb9f3a"
             ],
             [
              0.8888888888888888,
              "#fdca26"
             ],
             [
              1,
              "#f0f921"
             ]
            ],
            "type": "histogram2d"
           }
          ],
          "histogram2dcontour": [
           {
            "colorbar": {
             "outlinewidth": 0,
             "ticks": ""
            },
            "colorscale": [
             [
              0,
              "#0d0887"
             ],
             [
              0.1111111111111111,
              "#46039f"
             ],
             [
              0.2222222222222222,
              "#7201a8"
             ],
             [
              0.3333333333333333,
              "#9c179e"
             ],
             [
              0.4444444444444444,
              "#bd3786"
             ],
             [
              0.5555555555555556,
              "#d8576b"
             ],
             [
              0.6666666666666666,
              "#ed7953"
             ],
             [
              0.7777777777777778,
              "#fb9f3a"
             ],
             [
              0.8888888888888888,
              "#fdca26"
             ],
             [
              1,
              "#f0f921"
             ]
            ],
            "type": "histogram2dcontour"
           }
          ],
          "mesh3d": [
           {
            "colorbar": {
             "outlinewidth": 0,
             "ticks": ""
            },
            "type": "mesh3d"
           }
          ],
          "parcoords": [
           {
            "line": {
             "colorbar": {
              "outlinewidth": 0,
              "ticks": ""
             }
            },
            "type": "parcoords"
           }
          ],
          "pie": [
           {
            "automargin": true,
            "type": "pie"
           }
          ],
          "scatter": [
           {
            "marker": {
             "colorbar": {
              "outlinewidth": 0,
              "ticks": ""
             }
            },
            "type": "scatter"
           }
          ],
          "scatter3d": [
           {
            "line": {
             "colorbar": {
              "outlinewidth": 0,
              "ticks": ""
             }
            },
            "marker": {
             "colorbar": {
              "outlinewidth": 0,
              "ticks": ""
             }
            },
            "type": "scatter3d"
           }
          ],
          "scattercarpet": [
           {
            "marker": {
             "colorbar": {
              "outlinewidth": 0,
              "ticks": ""
             }
            },
            "type": "scattercarpet"
           }
          ],
          "scattergeo": [
           {
            "marker": {
             "colorbar": {
              "outlinewidth": 0,
              "ticks": ""
             }
            },
            "type": "scattergeo"
           }
          ],
          "scattergl": [
           {
            "marker": {
             "colorbar": {
              "outlinewidth": 0,
              "ticks": ""
             }
            },
            "type": "scattergl"
           }
          ],
          "scattermapbox": [
           {
            "marker": {
             "colorbar": {
              "outlinewidth": 0,
              "ticks": ""
             }
            },
            "type": "scattermapbox"
           }
          ],
          "scatterpolar": [
           {
            "marker": {
             "colorbar": {
              "outlinewidth": 0,
              "ticks": ""
             }
            },
            "type": "scatterpolar"
           }
          ],
          "scatterpolargl": [
           {
            "marker": {
             "colorbar": {
              "outlinewidth": 0,
              "ticks": ""
             }
            },
            "type": "scatterpolargl"
           }
          ],
          "scatterternary": [
           {
            "marker": {
             "colorbar": {
              "outlinewidth": 0,
              "ticks": ""
             }
            },
            "type": "scatterternary"
           }
          ],
          "surface": [
           {
            "colorbar": {
             "outlinewidth": 0,
             "ticks": ""
            },
            "colorscale": [
             [
              0,
              "#0d0887"
             ],
             [
              0.1111111111111111,
              "#46039f"
             ],
             [
              0.2222222222222222,
              "#7201a8"
             ],
             [
              0.3333333333333333,
              "#9c179e"
             ],
             [
              0.4444444444444444,
              "#bd3786"
             ],
             [
              0.5555555555555556,
              "#d8576b"
             ],
             [
              0.6666666666666666,
              "#ed7953"
             ],
             [
              0.7777777777777778,
              "#fb9f3a"
             ],
             [
              0.8888888888888888,
              "#fdca26"
             ],
             [
              1,
              "#f0f921"
             ]
            ],
            "type": "surface"
           }
          ],
          "table": [
           {
            "cells": {
             "fill": {
              "color": "#EBF0F8"
             },
             "line": {
              "color": "white"
             }
            },
            "header": {
             "fill": {
              "color": "#C8D4E3"
             },
             "line": {
              "color": "white"
             }
            },
            "type": "table"
           }
          ]
         },
         "layout": {
          "annotationdefaults": {
           "arrowcolor": "#2a3f5f",
           "arrowhead": 0,
           "arrowwidth": 1
          },
          "coloraxis": {
           "colorbar": {
            "outlinewidth": 0,
            "ticks": ""
           }
          },
          "colorscale": {
           "diverging": [
            [
             0,
             "#8e0152"
            ],
            [
             0.1,
             "#c51b7d"
            ],
            [
             0.2,
             "#de77ae"
            ],
            [
             0.3,
             "#f1b6da"
            ],
            [
             0.4,
             "#fde0ef"
            ],
            [
             0.5,
             "#f7f7f7"
            ],
            [
             0.6,
             "#e6f5d0"
            ],
            [
             0.7,
             "#b8e186"
            ],
            [
             0.8,
             "#7fbc41"
            ],
            [
             0.9,
             "#4d9221"
            ],
            [
             1,
             "#276419"
            ]
           ],
           "sequential": [
            [
             0,
             "#0d0887"
            ],
            [
             0.1111111111111111,
             "#46039f"
            ],
            [
             0.2222222222222222,
             "#7201a8"
            ],
            [
             0.3333333333333333,
             "#9c179e"
            ],
            [
             0.4444444444444444,
             "#bd3786"
            ],
            [
             0.5555555555555556,
             "#d8576b"
            ],
            [
             0.6666666666666666,
             "#ed7953"
            ],
            [
             0.7777777777777778,
             "#fb9f3a"
            ],
            [
             0.8888888888888888,
             "#fdca26"
            ],
            [
             1,
             "#f0f921"
            ]
           ],
           "sequentialminus": [
            [
             0,
             "#0d0887"
            ],
            [
             0.1111111111111111,
             "#46039f"
            ],
            [
             0.2222222222222222,
             "#7201a8"
            ],
            [
             0.3333333333333333,
             "#9c179e"
            ],
            [
             0.4444444444444444,
             "#bd3786"
            ],
            [
             0.5555555555555556,
             "#d8576b"
            ],
            [
             0.6666666666666666,
             "#ed7953"
            ],
            [
             0.7777777777777778,
             "#fb9f3a"
            ],
            [
             0.8888888888888888,
             "#fdca26"
            ],
            [
             1,
             "#f0f921"
            ]
           ]
          },
          "colorway": [
           "#636efa",
           "#EF553B",
           "#00cc96",
           "#ab63fa",
           "#FFA15A",
           "#19d3f3",
           "#FF6692",
           "#B6E880",
           "#FF97FF",
           "#FECB52"
          ],
          "font": {
           "color": "#2a3f5f"
          },
          "geo": {
           "bgcolor": "white",
           "lakecolor": "white",
           "landcolor": "#E5ECF6",
           "showlakes": true,
           "showland": true,
           "subunitcolor": "white"
          },
          "hoverlabel": {
           "align": "left"
          },
          "hovermode": "closest",
          "mapbox": {
           "style": "light"
          },
          "paper_bgcolor": "white",
          "plot_bgcolor": "#E5ECF6",
          "polar": {
           "angularaxis": {
            "gridcolor": "white",
            "linecolor": "white",
            "ticks": ""
           },
           "bgcolor": "#E5ECF6",
           "radialaxis": {
            "gridcolor": "white",
            "linecolor": "white",
            "ticks": ""
           }
          },
          "scene": {
           "xaxis": {
            "backgroundcolor": "#E5ECF6",
            "gridcolor": "white",
            "gridwidth": 2,
            "linecolor": "white",
            "showbackground": true,
            "ticks": "",
            "zerolinecolor": "white"
           },
           "yaxis": {
            "backgroundcolor": "#E5ECF6",
            "gridcolor": "white",
            "gridwidth": 2,
            "linecolor": "white",
            "showbackground": true,
            "ticks": "",
            "zerolinecolor": "white"
           },
           "zaxis": {
            "backgroundcolor": "#E5ECF6",
            "gridcolor": "white",
            "gridwidth": 2,
            "linecolor": "white",
            "showbackground": true,
            "ticks": "",
            "zerolinecolor": "white"
           }
          },
          "shapedefaults": {
           "line": {
            "color": "#2a3f5f"
           }
          },
          "ternary": {
           "aaxis": {
            "gridcolor": "white",
            "linecolor": "white",
            "ticks": ""
           },
           "baxis": {
            "gridcolor": "white",
            "linecolor": "white",
            "ticks": ""
           },
           "bgcolor": "#E5ECF6",
           "caxis": {
            "gridcolor": "white",
            "linecolor": "white",
            "ticks": ""
           }
          },
          "title": {
           "x": 0.05
          },
          "xaxis": {
           "automargin": true,
           "gridcolor": "white",
           "linecolor": "white",
           "ticks": "",
           "title": {
            "standoff": 15
           },
           "zerolinecolor": "white",
           "zerolinewidth": 2
          },
          "yaxis": {
           "automargin": true,
           "gridcolor": "white",
           "linecolor": "white",
           "ticks": "",
           "title": {
            "standoff": 15
           },
           "zerolinecolor": "white",
           "zerolinewidth": 2
          }
         }
        },
        "title": {
         "font": {
          "color": "#4D5663"
         },
         "text": "Comments Word Count Distribution"
        },
        "xaxis": {
         "gridcolor": "#E1E5ED",
         "linecolor": "black",
         "showgrid": true,
         "tickfont": {
          "color": "#4D5663"
         },
         "title": {
          "font": {
           "color": "#4D5663"
          },
          "text": "word count"
         },
         "zerolinecolor": "#E1E5ED"
        },
        "yaxis": {
         "gridcolor": "#E1E5ED",
         "linecolor": "black",
         "showgrid": true,
         "tickfont": {
          "color": "#4D5663"
         },
         "title": {
          "font": {
           "color": "#4D5663"
          },
          "text": "count"
         },
         "zerolinecolor": "#E1E5ED"
        }
       }
      },
      "text/html": [
       "<div>\n",
       "        \n",
       "        \n",
       "            <div id=\"4e3ba257-7552-42d9-bd76-671c4f75bd37\" class=\"plotly-graph-div\" style=\"height:525px; width:100%;\"></div>\n",
       "            <script type=\"text/javascript\">\n",
       "                require([\"plotly\"], function(Plotly) {\n",
       "                    window.PLOTLYENV=window.PLOTLYENV || {};\n",
       "                    window.PLOTLYENV.BASE_URL='https://plot.ly';\n",
       "                    \n",
       "                if (document.getElementById(\"4e3ba257-7552-42d9-bd76-671c4f75bd37\")) {\n",
       "                    Plotly.newPlot(\n",
       "                        '4e3ba257-7552-42d9-bd76-671c4f75bd37',\n",
       "                        [{\"histfunc\": \"count\", \"histnorm\": \"\", \"marker\": {\"color\": \"rgba(255, 153, 51, 1.0)\", \"line\": {\"color\": \"#000000\", \"width\": 1.3}}, \"name\": \"comments\", \"nbinsx\": 100, \"opacity\": 0.8, \"orientation\": \"v\", \"type\": \"histogram\", \"x\": [42, 942, 1, 349, 561, 15, 55, 262, 40, 310, 13, 503, 85, 128, 147, 144, 16, 310, 182, 439, 1, 92, 238, 265, 880, 1154, 18, 116, 1503, 71, 158, 12, 64, 49, 12, 123, 746, 245, 1216, 366, 1841, 220, 313, 135, 208, 229, 158, 193, 141, 35, 468, 164, 295, 447, 330, 401, 54, 504, 1395, 17, 99, 128, 104, 357, 227, 660, 47, 73, 172, 303, 20, 152, 617, 74, 1405, 48, 115, 60, 86, 159, 283, 27, 195, 63, 132, 35, 1617, 505, 186, 1492, 855, 1, 272, 8, 42, 874, 12, 141, 82, 62, 33, 235, 96, 67, 26, 14, 113, 463, 190, 70, 7, 310, 89, 35, 88, 4, 78, 710, 124, 117, 141, 51, 270, 1, 1, 93, 488, 28, 15, 55, 701, 20, 216, 59, 4, 161, 1, 122, 230, 1, 11, 16, 3, 231, 87, 7, 40, 11, 101, 190, 9, 131, 154, 22, 2, 403, 1093, 72, 28, 247, 35, 1, 108, 1, 49, 36, 298, 44, 1, 15, 1, 300, 59, 1, 38, 30, 20, 85, 550, 1, 229, 493, 86, 14, 57, 16, 81, 1, 109, 50, 51, 102, 55, 410, 90, 1, 49, 4, 400, 108, 218, 83, 185, 281, 16, 756, 174, 70, 86, 115, 100, 221, 225, 103, 136, 71, 108, 410, 101, 84, 123, 63, 60, 1, 94, 150, 310, 24, 22, 1, 156, 243, 52, 67, 1, 443, 20, 652, 525, 72, 248, 1039, 88, 65, 104, 1472, 824, 17, 1, 453, 336, 186, 322, 78, 320, 21, 8, 430, 1, 1, 386, 150, 252, 22, 262, 198, 31, 286, 306, 404, 319, 104, 517, 250, 426, 261, 351, 96, 202, 534, 166, 47, 300, 329, 427, 12, 499, 243, 797, 231, 255, 239, 1, 936, 164, 200, 245, 205, 871, 566, 288, 886, 538, 325, 67, 399, 347, 1, 83, 366, 243, 180, 492, 448, 252, 97, 206, 72, 214, 64, 98, 27, 109, 51, 172, 15, 81, 123, 188, 61, 63, 6, 24, 122, 10, 48, 11, 126, 85, 128, 13, 7, 144, 181, 2, 13, 6, 64, 146, 6, 213, 1, 127, 106, 52, 48, 39, 90, 1, 411, 132, 34, 9, 175, 228, 192, 41, 488, 373, 141, 26, 12, 283, 20, 119, 178, 120, 370, 73, 251, 123, 153, 94, 7, 194, 1, 265, 35, 105, 639, 386, 1, 498, 122, 343, 13, 1, 116, 64, 217, 46, 2, 197, 82, 33, 53, 83, 1, 7, 39, 195, 87, 88, 36, 25, 35, 124, 43, 93, 209, 1, 518, 116, 270, 176, 180, 28, 176, 207, 743, 205, 284, 11, 41, 300, 17, 106, 102, 92, 50, 1, 573, 151, 212, 146, 704, 101, 232, 61, 65, 1, 246, 419, 1, 13, 557, 458, 224, 200, 359, 1, 285, 1, 68, 431, 166, 727, 32, 359, 67, 534, 278, 179, 710, 413, 300, 558, 148, 577, 227, 89, 224, 161, 1, 655, 307, 201, 22, 312, 399, 393, 56, 281, 472, 189, 299, 19, 61, 134, 461, 149, 152, 244, 234, 178, 129, 145, 174, 151, 179, 70, 24, 7, 34, 114, 241, 184, 286, 249, 273, 307, 52, 103, 223, 428, 313, 125, 162, 185, 105, 233, 174, 171, 437, 55, 83, 337, 36, 456, 88, 68, 336, 898, 38, 564, 332, 113, 128, 92, 233, 116, 97, 148, 345, 103, 75, 518, 473, 131, 199, 102, 69, 579, 191, 121, 26, 86, 910, 81, 94, 273, 314, 192, 111, 183, 275, 121, 255, 230, 144, 224, 167, 114, 216, 67, 24, 88, 46, 156, 90, 164, 330, 104, 47, 23, 218, 75, 131, 24, 30, 24, 330, 880, 771, 46, 12, 64, 339, 38, 23, 996, 109, 97, 131, 50, 217, 38, 412, 682, 760, 147, 92, 197, 538, 14, 29, 168, 382, 476, 666, 975, 766, 440, 272, 328, 390, 119, 153, 324, 490, 563, 371, 337, 601, 122, 143, 363, 141, 183, 131, 121, 136, 225, 98, 5, 1, 13, 4, 330, 171, 199, 73, 296, 33, 16, 8, 297, 389, 1114, 128, 80, 550, 2158, 195, 784, 397, 523, 19, 1255, 701, 534, 490, 1336, 39, 200, 11, 131, 155, 310, 53, 281, 390, 22, 47, 48, 218, 507, 809, 782, 121, 1438, 221, 780, 1, 195, 12, 1, 2165, 844, 55, 1, 483, 626, 200, 51, 2, 216, 41, 235, 95, 138, 63, 427, 360, 80, 464, 1, 780, 653, 60, 16, 665, 1, 470, 142, 405, 248, 457, 193, 407, 657, 1154, 389, 502, 485, 14, 459, 463, 155, 1, 1206, 1064, 688, 821, 490, 679, 584, 7, 335, 456, 344, 219, 1, 249, 490, 556, 297, 233, 301, 572, 614, 481, 619, 485, 263, 185, 171, 616, 251, 221, 547, 194, 99, 137, 74, 785, 107, 236, 578, 194, 202, 954, 431, 371, 94, 50, 236, 452, 487, 288, 360, 101, 75, 828, 155, 21, 109, 1140, 182, 59, 165, 109, 261, 68, 48, 230, 10, 245, 50, 265, 396, 377, 127, 266, 10, 145, 88, 1404, 66, 142, 135, 155, 59, 337, 517, 19, 6, 245, 6844, 714, 41, 378, 60, 44, 48, 80, 81, 115, 207, 320, 23, 119, 26, 120, 36, 763, 11, 325, 15, 908, 54, 395, 147, 141, 142, 50, 16, 4, 111, 100, 53, 201, 428, 80, 257, 29, 257, 502, 99, 515, 97, 2666, 211, 177, 6, 80, 1380, 677, 330, 649, 96, 11, 128, 502, 595, 36, 391, 141, 128, 44, 25, 94, 735, 31, 45, 10, 45, 104, 203, 28, 185, 1206, 242, 144, 134, 74, 441, 240, 150, 347, 104, 204, 250, 250, 145, 285, 88, 151, 323, 189, 342, 224, 242, 498, 390, 235, 81, 130, 210, 408, 186, 181, 446, 98, 85, 486, 115, 49, 283, 574, 313, 71, 673, 124, 297, 78, 29, 63, 322, 50, 56, 18, 190, 948, 640, 170, 243, 255, 300, 302, 192, 328, 266, 93, 77, 97, 201, 749, 57, 32, 1, 30, 77, 91, 602, 27, 41, 65, 221, 348, 1, 157, 255, 8, 70, 144, 434, 40, 5, 111, 230, 64, 775, 182, 3557, 248, 161, 7, 684, 234, 54, 83, 61, 340, 193, 337, 160, 246, 31, 21, 254, 64, 85, 49, 59, 61, 462, 69, 305, 240, 228, 174, 115, 351, 1066, 82, 27, 147, 93, 547, 104, 158, 31, 32, 1, 545, 18, 36, 4, 168, 3651, 31, 16, 101, 25, 48, 483, 159, 1277, 1123, 1320, 1147, 430, 47, 270, 1706, 1, 145, 52, 80, 95, 70, 470, 102, 321, 333, 44, 13, 152, 803, 112, 83, 2173, 150, 62, 45, 60, 46, 139, 425, 69, 857, 1, 1119, 53, 57, 830, 424, 1178, 153, 3116, 396, 1, 65, 192, 140, 1, 183, 3896, 55, 328, 175, 201, 40, 255, 4359, 1162]}],\n",
       "                        {\"barmode\": \"overlay\", \"legend\": {\"bgcolor\": \"#F5F6F9\", \"font\": {\"color\": \"#4D5663\"}}, \"paper_bgcolor\": \"#F5F6F9\", \"plot_bgcolor\": \"#F5F6F9\", \"template\": {\"data\": {\"bar\": [{\"error_x\": {\"color\": \"#2a3f5f\"}, \"error_y\": {\"color\": \"#2a3f5f\"}, \"marker\": {\"line\": {\"color\": \"#E5ECF6\", \"width\": 0.5}}, \"type\": \"bar\"}], \"barpolar\": [{\"marker\": {\"line\": {\"color\": \"#E5ECF6\", \"width\": 0.5}}, \"type\": \"barpolar\"}], \"carpet\": [{\"aaxis\": {\"endlinecolor\": \"#2a3f5f\", \"gridcolor\": \"white\", \"linecolor\": \"white\", \"minorgridcolor\": \"white\", \"startlinecolor\": \"#2a3f5f\"}, \"baxis\": {\"endlinecolor\": \"#2a3f5f\", \"gridcolor\": \"white\", \"linecolor\": \"white\", \"minorgridcolor\": \"white\", \"startlinecolor\": \"#2a3f5f\"}, \"type\": \"carpet\"}], \"choropleth\": [{\"colorbar\": {\"outlinewidth\": 0, \"ticks\": \"\"}, \"type\": \"choropleth\"}], \"contour\": [{\"colorbar\": {\"outlinewidth\": 0, \"ticks\": \"\"}, \"colorscale\": [[0.0, \"#0d0887\"], [0.1111111111111111, \"#46039f\"], [0.2222222222222222, \"#7201a8\"], [0.3333333333333333, \"#9c179e\"], [0.4444444444444444, \"#bd3786\"], [0.5555555555555556, \"#d8576b\"], [0.6666666666666666, \"#ed7953\"], [0.7777777777777778, \"#fb9f3a\"], [0.8888888888888888, \"#fdca26\"], [1.0, \"#f0f921\"]], \"type\": \"contour\"}], \"contourcarpet\": [{\"colorbar\": {\"outlinewidth\": 0, \"ticks\": \"\"}, \"type\": \"contourcarpet\"}], \"heatmap\": [{\"colorbar\": {\"outlinewidth\": 0, \"ticks\": \"\"}, \"colorscale\": [[0.0, \"#0d0887\"], [0.1111111111111111, \"#46039f\"], [0.2222222222222222, \"#7201a8\"], [0.3333333333333333, \"#9c179e\"], [0.4444444444444444, \"#bd3786\"], [0.5555555555555556, \"#d8576b\"], [0.6666666666666666, \"#ed7953\"], [0.7777777777777778, \"#fb9f3a\"], [0.8888888888888888, \"#fdca26\"], [1.0, \"#f0f921\"]], \"type\": \"heatmap\"}], \"heatmapgl\": [{\"colorbar\": {\"outlinewidth\": 0, \"ticks\": \"\"}, \"colorscale\": [[0.0, \"#0d0887\"], [0.1111111111111111, \"#46039f\"], [0.2222222222222222, \"#7201a8\"], [0.3333333333333333, \"#9c179e\"], [0.4444444444444444, \"#bd3786\"], [0.5555555555555556, \"#d8576b\"], [0.6666666666666666, \"#ed7953\"], [0.7777777777777778, \"#fb9f3a\"], [0.8888888888888888, \"#fdca26\"], [1.0, \"#f0f921\"]], \"type\": \"heatmapgl\"}], \"histogram\": [{\"marker\": {\"colorbar\": {\"outlinewidth\": 0, \"ticks\": \"\"}}, \"type\": \"histogram\"}], \"histogram2d\": [{\"colorbar\": {\"outlinewidth\": 0, \"ticks\": \"\"}, \"colorscale\": [[0.0, \"#0d0887\"], [0.1111111111111111, \"#46039f\"], [0.2222222222222222, \"#7201a8\"], [0.3333333333333333, \"#9c179e\"], [0.4444444444444444, \"#bd3786\"], [0.5555555555555556, \"#d8576b\"], [0.6666666666666666, \"#ed7953\"], [0.7777777777777778, \"#fb9f3a\"], [0.8888888888888888, \"#fdca26\"], [1.0, \"#f0f921\"]], \"type\": \"histogram2d\"}], \"histogram2dcontour\": [{\"colorbar\": {\"outlinewidth\": 0, \"ticks\": \"\"}, \"colorscale\": [[0.0, \"#0d0887\"], [0.1111111111111111, \"#46039f\"], [0.2222222222222222, \"#7201a8\"], [0.3333333333333333, \"#9c179e\"], [0.4444444444444444, \"#bd3786\"], [0.5555555555555556, \"#d8576b\"], [0.6666666666666666, \"#ed7953\"], [0.7777777777777778, \"#fb9f3a\"], [0.8888888888888888, \"#fdca26\"], [1.0, \"#f0f921\"]], \"type\": \"histogram2dcontour\"}], \"mesh3d\": [{\"colorbar\": {\"outlinewidth\": 0, \"ticks\": \"\"}, \"type\": \"mesh3d\"}], \"parcoords\": [{\"line\": {\"colorbar\": {\"outlinewidth\": 0, \"ticks\": \"\"}}, \"type\": \"parcoords\"}], \"pie\": [{\"automargin\": true, \"type\": \"pie\"}], \"scatter\": [{\"marker\": {\"colorbar\": {\"outlinewidth\": 0, \"ticks\": \"\"}}, \"type\": \"scatter\"}], \"scatter3d\": [{\"line\": {\"colorbar\": {\"outlinewidth\": 0, \"ticks\": \"\"}}, \"marker\": {\"colorbar\": {\"outlinewidth\": 0, \"ticks\": \"\"}}, \"type\": \"scatter3d\"}], \"scattercarpet\": [{\"marker\": {\"colorbar\": {\"outlinewidth\": 0, \"ticks\": \"\"}}, \"type\": \"scattercarpet\"}], \"scattergeo\": [{\"marker\": {\"colorbar\": {\"outlinewidth\": 0, \"ticks\": \"\"}}, \"type\": \"scattergeo\"}], \"scattergl\": [{\"marker\": {\"colorbar\": {\"outlinewidth\": 0, \"ticks\": \"\"}}, \"type\": \"scattergl\"}], \"scattermapbox\": [{\"marker\": {\"colorbar\": {\"outlinewidth\": 0, \"ticks\": \"\"}}, \"type\": \"scattermapbox\"}], \"scatterpolar\": [{\"marker\": {\"colorbar\": {\"outlinewidth\": 0, \"ticks\": \"\"}}, \"type\": \"scatterpolar\"}], \"scatterpolargl\": [{\"marker\": {\"colorbar\": {\"outlinewidth\": 0, \"ticks\": \"\"}}, \"type\": \"scatterpolargl\"}], \"scatterternary\": [{\"marker\": {\"colorbar\": {\"outlinewidth\": 0, \"ticks\": \"\"}}, \"type\": \"scatterternary\"}], \"surface\": [{\"colorbar\": {\"outlinewidth\": 0, \"ticks\": \"\"}, \"colorscale\": [[0.0, \"#0d0887\"], [0.1111111111111111, \"#46039f\"], [0.2222222222222222, \"#7201a8\"], [0.3333333333333333, \"#9c179e\"], [0.4444444444444444, \"#bd3786\"], [0.5555555555555556, \"#d8576b\"], [0.6666666666666666, \"#ed7953\"], [0.7777777777777778, \"#fb9f3a\"], [0.8888888888888888, \"#fdca26\"], [1.0, \"#f0f921\"]], \"type\": \"surface\"}], \"table\": [{\"cells\": {\"fill\": {\"color\": \"#EBF0F8\"}, \"line\": {\"color\": \"white\"}}, \"header\": {\"fill\": {\"color\": \"#C8D4E3\"}, \"line\": {\"color\": \"white\"}}, \"type\": \"table\"}]}, \"layout\": {\"annotationdefaults\": {\"arrowcolor\": \"#2a3f5f\", \"arrowhead\": 0, \"arrowwidth\": 1}, \"coloraxis\": {\"colorbar\": {\"outlinewidth\": 0, \"ticks\": \"\"}}, \"colorscale\": {\"diverging\": [[0, \"#8e0152\"], [0.1, \"#c51b7d\"], [0.2, \"#de77ae\"], [0.3, \"#f1b6da\"], [0.4, \"#fde0ef\"], [0.5, \"#f7f7f7\"], [0.6, \"#e6f5d0\"], [0.7, \"#b8e186\"], [0.8, \"#7fbc41\"], [0.9, \"#4d9221\"], [1, \"#276419\"]], \"sequential\": [[0.0, \"#0d0887\"], [0.1111111111111111, \"#46039f\"], [0.2222222222222222, \"#7201a8\"], [0.3333333333333333, \"#9c179e\"], [0.4444444444444444, \"#bd3786\"], [0.5555555555555556, \"#d8576b\"], [0.6666666666666666, \"#ed7953\"], [0.7777777777777778, \"#fb9f3a\"], [0.8888888888888888, \"#fdca26\"], [1.0, \"#f0f921\"]], \"sequentialminus\": [[0.0, \"#0d0887\"], [0.1111111111111111, \"#46039f\"], [0.2222222222222222, \"#7201a8\"], [0.3333333333333333, \"#9c179e\"], [0.4444444444444444, \"#bd3786\"], [0.5555555555555556, \"#d8576b\"], [0.6666666666666666, \"#ed7953\"], [0.7777777777777778, \"#fb9f3a\"], [0.8888888888888888, \"#fdca26\"], [1.0, \"#f0f921\"]]}, \"colorway\": [\"#636efa\", \"#EF553B\", \"#00cc96\", \"#ab63fa\", \"#FFA15A\", \"#19d3f3\", \"#FF6692\", \"#B6E880\", \"#FF97FF\", \"#FECB52\"], \"font\": {\"color\": \"#2a3f5f\"}, \"geo\": {\"bgcolor\": \"white\", \"lakecolor\": \"white\", \"landcolor\": \"#E5ECF6\", \"showlakes\": true, \"showland\": true, \"subunitcolor\": \"white\"}, \"hoverlabel\": {\"align\": \"left\"}, \"hovermode\": \"closest\", \"mapbox\": {\"style\": \"light\"}, \"paper_bgcolor\": \"white\", \"plot_bgcolor\": \"#E5ECF6\", \"polar\": {\"angularaxis\": {\"gridcolor\": \"white\", \"linecolor\": \"white\", \"ticks\": \"\"}, \"bgcolor\": \"#E5ECF6\", \"radialaxis\": {\"gridcolor\": \"white\", \"linecolor\": \"white\", \"ticks\": \"\"}}, \"scene\": {\"xaxis\": {\"backgroundcolor\": \"#E5ECF6\", \"gridcolor\": \"white\", \"gridwidth\": 2, \"linecolor\": \"white\", \"showbackground\": true, \"ticks\": \"\", \"zerolinecolor\": \"white\"}, \"yaxis\": {\"backgroundcolor\": \"#E5ECF6\", \"gridcolor\": \"white\", \"gridwidth\": 2, \"linecolor\": \"white\", \"showbackground\": true, \"ticks\": \"\", \"zerolinecolor\": \"white\"}, \"zaxis\": {\"backgroundcolor\": \"#E5ECF6\", \"gridcolor\": \"white\", \"gridwidth\": 2, \"linecolor\": \"white\", \"showbackground\": true, \"ticks\": \"\", \"zerolinecolor\": \"white\"}}, \"shapedefaults\": {\"line\": {\"color\": \"#2a3f5f\"}}, \"ternary\": {\"aaxis\": {\"gridcolor\": \"white\", \"linecolor\": \"white\", \"ticks\": \"\"}, \"baxis\": {\"gridcolor\": \"white\", \"linecolor\": \"white\", \"ticks\": \"\"}, \"bgcolor\": \"#E5ECF6\", \"caxis\": {\"gridcolor\": \"white\", \"linecolor\": \"white\", \"ticks\": \"\"}}, \"title\": {\"x\": 0.05}, \"xaxis\": {\"automargin\": true, \"gridcolor\": \"white\", \"linecolor\": \"white\", \"ticks\": \"\", \"title\": {\"standoff\": 15}, \"zerolinecolor\": \"white\", \"zerolinewidth\": 2}, \"yaxis\": {\"automargin\": true, \"gridcolor\": \"white\", \"linecolor\": \"white\", \"ticks\": \"\", \"title\": {\"standoff\": 15}, \"zerolinecolor\": \"white\", \"zerolinewidth\": 2}}}, \"title\": {\"font\": {\"color\": \"#4D5663\"}, \"text\": \"Comments Word Count Distribution\"}, \"xaxis\": {\"gridcolor\": \"#E1E5ED\", \"linecolor\": \"black\", \"showgrid\": true, \"tickfont\": {\"color\": \"#4D5663\"}, \"title\": {\"font\": {\"color\": \"#4D5663\"}, \"text\": \"word count\"}, \"zerolinecolor\": \"#E1E5ED\"}, \"yaxis\": {\"gridcolor\": \"#E1E5ED\", \"linecolor\": \"black\", \"showgrid\": true, \"tickfont\": {\"color\": \"#4D5663\"}, \"title\": {\"font\": {\"color\": \"#4D5663\"}, \"text\": \"count\"}, \"zerolinecolor\": \"#E1E5ED\"}},\n",
       "                        {\"showLink\": true, \"linkText\": \"Export to plot.ly\", \"plotlyServerURL\": \"https://plot.ly\", \"responsive\": true}\n",
       "                    ).then(function(){\n",
       "                            \n",
       "var gd = document.getElementById('4e3ba257-7552-42d9-bd76-671c4f75bd37');\n",
       "var x = new MutationObserver(function (mutations, observer) {{\n",
       "        var display = window.getComputedStyle(gd).display;\n",
       "        if (!display || display === 'none') {{\n",
       "            console.log([gd, 'removed!']);\n",
       "            Plotly.purge(gd);\n",
       "            observer.disconnect();\n",
       "        }}\n",
       "}});\n",
       "\n",
       "// Listen for the removal of the full notebook cells\n",
       "var notebookContainer = gd.closest('#notebook-container');\n",
       "if (notebookContainer) {{\n",
       "    x.observe(notebookContainer, {childList: true});\n",
       "}}\n",
       "\n",
       "// Listen for the clearing of the current output cell\n",
       "var outputEl = gd.closest('.output');\n",
       "if (outputEl) {{\n",
       "    x.observe(outputEl, {childList: true});\n",
       "}}\n",
       "\n",
       "                        })\n",
       "                };\n",
       "                });\n",
       "            </script>\n",
       "        </div>"
      ]
     },
     "metadata": {},
     "output_type": "display_data"
    }
   ],
   "source": [
    "word_count = topics_data['comments'].apply(lambda x: len(str(x).split()))\n",
    "word_count.iplot(\n",
    "    kind='hist',\n",
    "    bins=100,\n",
    "    xTitle='word count',\n",
    "    linecolor='black',\n",
    "    yTitle='count',\n",
    "    title='Comments Word Count Distribution')"
   ]
  },
  {
   "cell_type": "markdown",
   "metadata": {},
   "source": [
    "### Word count of combined feature"
   ]
  },
  {
   "cell_type": "code",
   "execution_count": 48,
   "metadata": {},
   "outputs": [
    {
     "data": {
      "application/vnd.plotly.v1+json": {
       "config": {
        "linkText": "Export to plot.ly",
        "plotlyServerURL": "https://plot.ly",
        "showLink": true
       },
       "data": [
        {
         "histfunc": "count",
         "histnorm": "",
         "marker": {
          "color": "rgba(255, 153, 51, 1.0)",
          "line": {
           "color": "#000000",
           "width": 1.3
          }
         },
         "name": "feature_combine",
         "nbinsx": 100,
         "opacity": 0.8,
         "orientation": "v",
         "type": "histogram",
         "x": [
          48,
          946,
          4,
          349,
          569,
          25,
          60,
          265,
          49,
          313,
          24,
          511,
          103,
          133,
          158,
          151,
          20,
          316,
          184,
          443,
          2,
          97,
          242,
          272,
          885,
          1158,
          26,
          120,
          1511,
          82,
          161,
          14,
          71,
          52,
          21,
          128,
          749,
          248,
          1222,
          373,
          1847,
          223,
          319,
          142,
          226,
          234,
          176,
          196,
          146,
          38,
          476,
          179,
          299,
          453,
          335,
          407,
          61,
          510,
          1401,
          23,
          104,
          132,
          110,
          367,
          231,
          675,
          51,
          78,
          182,
          309,
          25,
          155,
          625,
          78,
          1412,
          53,
          120,
          69,
          95,
          166,
          285,
          42,
          197,
          67,
          138,
          43,
          1621,
          513,
          199,
          1496,
          863,
          5,
          277,
          18,
          55,
          881,
          24,
          148,
          90,
          69,
          40,
          244,
          120,
          69,
          37,
          18,
          133,
          470,
          194,
          75,
          16,
          313,
          111,
          43,
          91,
          7,
          81,
          716,
          133,
          120,
          152,
          57,
          275,
          18,
          11,
          95,
          499,
          34,
          24,
          58,
          718,
          30,
          219,
          63,
          15,
          170,
          11,
          127,
          234,
          9,
          19,
          24,
          11,
          251,
          93,
          14,
          51,
          20,
          109,
          208,
          19,
          140,
          157,
          28,
          8,
          408,
          1101,
          77,
          40,
          256,
          41,
          6,
          115,
          5,
          65,
          40,
          305,
          49,
          8,
          20,
          7,
          301,
          61,
          14,
          50,
          35,
          21,
          93,
          557,
          8,
          238,
          504,
          105,
          17,
          62,
          22,
          91,
          6,
          113,
          55,
          56,
          104,
          57,
          414,
          100,
          16,
          54,
          13,
          412,
          124,
          231,
          93,
          194,
          285,
          32,
          768,
          204,
          80,
          91,
          124,
          107,
          230,
          227,
          111,
          140,
          78,
          111,
          414,
          110,
          89,
          133,
          71,
          87,
          11,
          99,
          167,
          318,
          31,
          31,
          8,
          168,
          249,
          58,
          93,
          16,
          447,
          31,
          679,
          527,
          83,
          256,
          1046,
          101,
          74,
          106,
          1478,
          835,
          21,
          11,
          458,
          344,
          192,
          347,
          87,
          331,
          23,
          9,
          437,
          11,
          26,
          396,
          157,
          261,
          33,
          273,
          205,
          35,
          296,
          316,
          416,
          345,
          111,
          525,
          257,
          434,
          265,
          364,
          96,
          206,
          544,
          175,
          54,
          306,
          341,
          436,
          18,
          501,
          253,
          804,
          237,
          263,
          251,
          11,
          943,
          171,
          206,
          253,
          210,
          878,
          574,
          294,
          892,
          545,
          336,
          74,
          406,
          355,
          10,
          86,
          372,
          251,
          186,
          502,
          455,
          258,
          110,
          214,
          76,
          238,
          73,
          106,
          31,
          110,
          60,
          180,
          21,
          93,
          127,
          193,
          81,
          78,
          11,
          33,
          124,
          17,
          55,
          19,
          131,
          88,
          136,
          16,
          8,
          147,
          183,
          4,
          20,
          14,
          69,
          152,
          11,
          217,
          5,
          131,
          118,
          64,
          56,
          39,
          93,
          5,
          413,
          140,
          53,
          12,
          183,
          233,
          195,
          43,
          494,
          387,
          151,
          28,
          22,
          294,
          27,
          122,
          181,
          125,
          378,
          78,
          261,
          140,
          159,
          105,
          18,
          201,
          7,
          270,
          46,
          111,
          644,
          392,
          2,
          508,
          129,
          345,
          18,
          6,
          118,
          65,
          229,
          47,
          5,
          201,
          100,
          37,
          58,
          86,
          3,
          10,
          49,
          200,
          93,
          95,
          43,
          30,
          40,
          130,
          49,
          110,
          216,
          9,
          524,
          126,
          276,
          181,
          194,
          40,
          181,
          210,
          746,
          208,
          303,
          17,
          46,
          307,
          23,
          115,
          104,
          102,
          53,
          3,
          578,
          155,
          222,
          153,
          714,
          106,
          253,
          69,
          68,
          8,
          251,
          431,
          8,
          18,
          564,
          464,
          233,
          208,
          366,
          9,
          290,
          6,
          74,
          434,
          171,
          736,
          39,
          365,
          74,
          540,
          287,
          187,
          713,
          417,
          301,
          566,
          157,
          584,
          236,
          98,
          241,
          165,
          10,
          660,
          315,
          207,
          37,
          320,
          409,
          402,
          67,
          290,
          476,
          201,
          315,
          26,
          79,
          142,
          469,
          164,
          156,
          252,
          244,
          186,
          135,
          152,
          179,
          162,
          187,
          71,
          33,
          13,
          49,
          120,
          248,
          186,
          291,
          260,
          289,
          322,
          56,
          109,
          230,
          437,
          319,
          128,
          164,
          207,
          108,
          239,
          188,
          178,
          448,
          62,
          88,
          359,
          42,
          463,
          91,
          72,
          341,
          904,
          45,
          568,
          335,
          116,
          135,
          99,
          241,
          125,
          99,
          157,
          354,
          113,
          83,
          533,
          486,
          139,
          209,
          112,
          82,
          586,
          201,
          125,
          31,
          95,
          910,
          85,
          99,
          286,
          320,
          201,
          118,
          187,
          278,
          124,
          259,
          258,
          152,
          235,
          175,
          123,
          228,
          105,
          46,
          98,
          54,
          159,
          116,
          169,
          332,
          110,
          54,
          33,
          234,
          77,
          138,
          35,
          38,
          31,
          337,
          885,
          781,
          58,
          33,
          73,
          345,
          39,
          28,
          1000,
          119,
          105,
          139,
          58,
          226,
          45,
          420,
          690,
          766,
          153,
          96,
          208,
          544,
          19,
          42,
          195,
          392,
          485,
          674,
          981,
          774,
          447,
          285,
          337,
          395,
          130,
          161,
          329,
          494,
          569,
          377,
          344,
          606,
          124,
          148,
          370,
          145,
          188,
          132,
          129,
          165,
          231,
          120,
          19,
          17,
          18,
          22,
          332,
          174,
          219,
          78,
          299,
          50,
          29,
          12,
          300,
          394,
          1123,
          141,
          86,
          559,
          2163,
          195,
          799,
          403,
          526,
          26,
          1256,
          718,
          541,
          493,
          1345,
          44,
          212,
          20,
          137,
          155,
          313,
          56,
          288,
          399,
          28,
          54,
          57,
          226,
          516,
          811,
          789,
          126,
          1441,
          226,
          781,
          5,
          200,
          15,
          12,
          2168,
          852,
          62,
          10,
          490,
          634,
          211,
          58,
          9,
          224,
          46,
          239,
          104,
          147,
          69,
          436,
          366,
          89,
          474,
          11,
          786,
          663,
          64,
          20,
          672,
          11,
          474,
          151,
          418,
          256,
          478,
          201,
          415,
          662,
          1158,
          394,
          508,
          492,
          26,
          467,
          466,
          169,
          13,
          1213,
          1074,
          690,
          839,
          495,
          697,
          591,
          24,
          340,
          459,
          353,
          227,
          7,
          255,
          495,
          559,
          308,
          235,
          308,
          578,
          622,
          485,
          623,
          494,
          271,
          190,
          179,
          628,
          259,
          226,
          556,
          199,
          101,
          148,
          85,
          793,
          119,
          245,
          590,
          214,
          210,
          959,
          436,
          377,
          98,
          53,
          242,
          460,
          493,
          289,
          369,
          108,
          84,
          834,
          162,
          26,
          115,
          1153,
          191,
          66,
          171,
          115,
          267,
          76,
          55,
          236,
          20,
          247,
          54,
          268,
          419,
          379,
          131,
          279,
          17,
          153,
          90,
          1414,
          70,
          158,
          157,
          164,
          63,
          345,
          519,
          25,
          12,
          259,
          6847,
          741,
          44,
          389,
          64,
          48,
          52,
          89,
          89,
          117,
          218,
          327,
          31,
          123,
          28,
          128,
          39,
          769,
          16,
          330,
          27,
          922,
          83,
          402,
          156,
          144,
          150,
          58,
          22,
          22,
          115,
          109,
          58,
          228,
          438,
          85,
          262,
          34,
          264,
          511,
          108,
          539,
          108,
          2675,
          215,
          186,
          18,
          95,
          1388,
          689,
          338,
          655,
          123,
          20,
          131,
          511,
          599,
          43,
          399,
          162,
          136,
          49,
          32,
          101,
          740,
          36,
          63,
          20,
          57,
          114,
          222,
          30,
          191,
          1214,
          247,
          150,
          141,
          84,
          452,
          242,
          156,
          351,
          113,
          220,
          255,
          255,
          149,
          313,
          94,
          167,
          336,
          206,
          345,
          230,
          248,
          510,
          411,
          239,
          97,
          143,
          215,
          413,
          191,
          189,
          450,
          109,
          87,
          489,
          118,
          52,
          289,
          576,
          324,
          84,
          673,
          131,
          303,
          81,
          42,
          74,
          330,
          54,
          64,
          24,
          192,
          949,
          650,
          179,
          255,
          263,
          302,
          308,
          201,
          352,
          272,
          105,
          90,
          105,
          211,
          768,
          63,
          40,
          13,
          33,
          85,
          98,
          605,
          42,
          48,
          76,
          230,
          350,
          8,
          157,
          259,
          13,
          95,
          145,
          444,
          54,
          13,
          112,
          237,
          67,
          777,
          183,
          3567,
          257,
          176,
          15,
          694,
          239,
          63,
          86,
          75,
          343,
          198,
          341,
          162,
          256,
          59,
          29,
          274,
          70,
          91,
          59,
          93,
          70,
          467,
          71,
          314,
          247,
          243,
          187,
          117,
          381,
          1075,
          91,
          57,
          149,
          94,
          552,
          105,
          168,
          45,
          48,
          9,
          574,
          41,
          44,
          13,
          177,
          3657,
          35,
          18,
          131,
          30,
          52,
          491,
          164,
          1281,
          1133,
          1325,
          1149,
          443,
          59,
          273,
          1707,
          14,
          149,
          71,
          83,
          98,
          75,
          492,
          106,
          327,
          348,
          51,
          15,
          155,
          807,
          118,
          92,
          2178,
          154,
          68,
          49,
          66,
          56,
          150,
          427,
          81,
          864,
          4,
          1122,
          55,
          69,
          833,
          432,
          1195,
          160,
          3123,
          421,
          13,
          68,
          194,
          149,
          15,
          189,
          3916,
          59,
          333,
          184,
          212,
          49,
          267,
          4373,
          1178
         ]
        }
       ],
       "layout": {
        "barmode": "overlay",
        "legend": {
         "bgcolor": "#F5F6F9",
         "font": {
          "color": "#4D5663"
         }
        },
        "paper_bgcolor": "#F5F6F9",
        "plot_bgcolor": "#F5F6F9",
        "template": {
         "data": {
          "bar": [
           {
            "error_x": {
             "color": "#2a3f5f"
            },
            "error_y": {
             "color": "#2a3f5f"
            },
            "marker": {
             "line": {
              "color": "#E5ECF6",
              "width": 0.5
             }
            },
            "type": "bar"
           }
          ],
          "barpolar": [
           {
            "marker": {
             "line": {
              "color": "#E5ECF6",
              "width": 0.5
             }
            },
            "type": "barpolar"
           }
          ],
          "carpet": [
           {
            "aaxis": {
             "endlinecolor": "#2a3f5f",
             "gridcolor": "white",
             "linecolor": "white",
             "minorgridcolor": "white",
             "startlinecolor": "#2a3f5f"
            },
            "baxis": {
             "endlinecolor": "#2a3f5f",
             "gridcolor": "white",
             "linecolor": "white",
             "minorgridcolor": "white",
             "startlinecolor": "#2a3f5f"
            },
            "type": "carpet"
           }
          ],
          "choropleth": [
           {
            "colorbar": {
             "outlinewidth": 0,
             "ticks": ""
            },
            "type": "choropleth"
           }
          ],
          "contour": [
           {
            "colorbar": {
             "outlinewidth": 0,
             "ticks": ""
            },
            "colorscale": [
             [
              0,
              "#0d0887"
             ],
             [
              0.1111111111111111,
              "#46039f"
             ],
             [
              0.2222222222222222,
              "#7201a8"
             ],
             [
              0.3333333333333333,
              "#9c179e"
             ],
             [
              0.4444444444444444,
              "#bd3786"
             ],
             [
              0.5555555555555556,
              "#d8576b"
             ],
             [
              0.6666666666666666,
              "#ed7953"
             ],
             [
              0.7777777777777778,
              "#fb9f3a"
             ],
             [
              0.8888888888888888,
              "#fdca26"
             ],
             [
              1,
              "#f0f921"
             ]
            ],
            "type": "contour"
           }
          ],
          "contourcarpet": [
           {
            "colorbar": {
             "outlinewidth": 0,
             "ticks": ""
            },
            "type": "contourcarpet"
           }
          ],
          "heatmap": [
           {
            "colorbar": {
             "outlinewidth": 0,
             "ticks": ""
            },
            "colorscale": [
             [
              0,
              "#0d0887"
             ],
             [
              0.1111111111111111,
              "#46039f"
             ],
             [
              0.2222222222222222,
              "#7201a8"
             ],
             [
              0.3333333333333333,
              "#9c179e"
             ],
             [
              0.4444444444444444,
              "#bd3786"
             ],
             [
              0.5555555555555556,
              "#d8576b"
             ],
             [
              0.6666666666666666,
              "#ed7953"
             ],
             [
              0.7777777777777778,
              "#fb9f3a"
             ],
             [
              0.8888888888888888,
              "#fdca26"
             ],
             [
              1,
              "#f0f921"
             ]
            ],
            "type": "heatmap"
           }
          ],
          "heatmapgl": [
           {
            "colorbar": {
             "outlinewidth": 0,
             "ticks": ""
            },
            "colorscale": [
             [
              0,
              "#0d0887"
             ],
             [
              0.1111111111111111,
              "#46039f"
             ],
             [
              0.2222222222222222,
              "#7201a8"
             ],
             [
              0.3333333333333333,
              "#9c179e"
             ],
             [
              0.4444444444444444,
              "#bd3786"
             ],
             [
              0.5555555555555556,
              "#d8576b"
             ],
             [
              0.6666666666666666,
              "#ed7953"
             ],
             [
              0.7777777777777778,
              "#fb9f3a"
             ],
             [
              0.8888888888888888,
              "#fdca26"
             ],
             [
              1,
              "#f0f921"
             ]
            ],
            "type": "heatmapgl"
           }
          ],
          "histogram": [
           {
            "marker": {
             "colorbar": {
              "outlinewidth": 0,
              "ticks": ""
             }
            },
            "type": "histogram"
           }
          ],
          "histogram2d": [
           {
            "colorbar": {
             "outlinewidth": 0,
             "ticks": ""
            },
            "colorscale": [
             [
              0,
              "#0d0887"
             ],
             [
              0.1111111111111111,
              "#46039f"
             ],
             [
              0.2222222222222222,
              "#7201a8"
             ],
             [
              0.3333333333333333,
              "#9c179e"
             ],
             [
              0.4444444444444444,
              "#bd3786"
             ],
             [
              0.5555555555555556,
              "#d8576b"
             ],
             [
              0.6666666666666666,
              "#ed7953"
             ],
             [
              0.7777777777777778,
              "#fb9f3a"
             ],
             [
              0.8888888888888888,
              "#fdca26"
             ],
             [
              1,
              "#f0f921"
             ]
            ],
            "type": "histogram2d"
           }
          ],
          "histogram2dcontour": [
           {
            "colorbar": {
             "outlinewidth": 0,
             "ticks": ""
            },
            "colorscale": [
             [
              0,
              "#0d0887"
             ],
             [
              0.1111111111111111,
              "#46039f"
             ],
             [
              0.2222222222222222,
              "#7201a8"
             ],
             [
              0.3333333333333333,
              "#9c179e"
             ],
             [
              0.4444444444444444,
              "#bd3786"
             ],
             [
              0.5555555555555556,
              "#d8576b"
             ],
             [
              0.6666666666666666,
              "#ed7953"
             ],
             [
              0.7777777777777778,
              "#fb9f3a"
             ],
             [
              0.8888888888888888,
              "#fdca26"
             ],
             [
              1,
              "#f0f921"
             ]
            ],
            "type": "histogram2dcontour"
           }
          ],
          "mesh3d": [
           {
            "colorbar": {
             "outlinewidth": 0,
             "ticks": ""
            },
            "type": "mesh3d"
           }
          ],
          "parcoords": [
           {
            "line": {
             "colorbar": {
              "outlinewidth": 0,
              "ticks": ""
             }
            },
            "type": "parcoords"
           }
          ],
          "pie": [
           {
            "automargin": true,
            "type": "pie"
           }
          ],
          "scatter": [
           {
            "marker": {
             "colorbar": {
              "outlinewidth": 0,
              "ticks": ""
             }
            },
            "type": "scatter"
           }
          ],
          "scatter3d": [
           {
            "line": {
             "colorbar": {
              "outlinewidth": 0,
              "ticks": ""
             }
            },
            "marker": {
             "colorbar": {
              "outlinewidth": 0,
              "ticks": ""
             }
            },
            "type": "scatter3d"
           }
          ],
          "scattercarpet": [
           {
            "marker": {
             "colorbar": {
              "outlinewidth": 0,
              "ticks": ""
             }
            },
            "type": "scattercarpet"
           }
          ],
          "scattergeo": [
           {
            "marker": {
             "colorbar": {
              "outlinewidth": 0,
              "ticks": ""
             }
            },
            "type": "scattergeo"
           }
          ],
          "scattergl": [
           {
            "marker": {
             "colorbar": {
              "outlinewidth": 0,
              "ticks": ""
             }
            },
            "type": "scattergl"
           }
          ],
          "scattermapbox": [
           {
            "marker": {
             "colorbar": {
              "outlinewidth": 0,
              "ticks": ""
             }
            },
            "type": "scattermapbox"
           }
          ],
          "scatterpolar": [
           {
            "marker": {
             "colorbar": {
              "outlinewidth": 0,
              "ticks": ""
             }
            },
            "type": "scatterpolar"
           }
          ],
          "scatterpolargl": [
           {
            "marker": {
             "colorbar": {
              "outlinewidth": 0,
              "ticks": ""
             }
            },
            "type": "scatterpolargl"
           }
          ],
          "scatterternary": [
           {
            "marker": {
             "colorbar": {
              "outlinewidth": 0,
              "ticks": ""
             }
            },
            "type": "scatterternary"
           }
          ],
          "surface": [
           {
            "colorbar": {
             "outlinewidth": 0,
             "ticks": ""
            },
            "colorscale": [
             [
              0,
              "#0d0887"
             ],
             [
              0.1111111111111111,
              "#46039f"
             ],
             [
              0.2222222222222222,
              "#7201a8"
             ],
             [
              0.3333333333333333,
              "#9c179e"
             ],
             [
              0.4444444444444444,
              "#bd3786"
             ],
             [
              0.5555555555555556,
              "#d8576b"
             ],
             [
              0.6666666666666666,
              "#ed7953"
             ],
             [
              0.7777777777777778,
              "#fb9f3a"
             ],
             [
              0.8888888888888888,
              "#fdca26"
             ],
             [
              1,
              "#f0f921"
             ]
            ],
            "type": "surface"
           }
          ],
          "table": [
           {
            "cells": {
             "fill": {
              "color": "#EBF0F8"
             },
             "line": {
              "color": "white"
             }
            },
            "header": {
             "fill": {
              "color": "#C8D4E3"
             },
             "line": {
              "color": "white"
             }
            },
            "type": "table"
           }
          ]
         },
         "layout": {
          "annotationdefaults": {
           "arrowcolor": "#2a3f5f",
           "arrowhead": 0,
           "arrowwidth": 1
          },
          "coloraxis": {
           "colorbar": {
            "outlinewidth": 0,
            "ticks": ""
           }
          },
          "colorscale": {
           "diverging": [
            [
             0,
             "#8e0152"
            ],
            [
             0.1,
             "#c51b7d"
            ],
            [
             0.2,
             "#de77ae"
            ],
            [
             0.3,
             "#f1b6da"
            ],
            [
             0.4,
             "#fde0ef"
            ],
            [
             0.5,
             "#f7f7f7"
            ],
            [
             0.6,
             "#e6f5d0"
            ],
            [
             0.7,
             "#b8e186"
            ],
            [
             0.8,
             "#7fbc41"
            ],
            [
             0.9,
             "#4d9221"
            ],
            [
             1,
             "#276419"
            ]
           ],
           "sequential": [
            [
             0,
             "#0d0887"
            ],
            [
             0.1111111111111111,
             "#46039f"
            ],
            [
             0.2222222222222222,
             "#7201a8"
            ],
            [
             0.3333333333333333,
             "#9c179e"
            ],
            [
             0.4444444444444444,
             "#bd3786"
            ],
            [
             0.5555555555555556,
             "#d8576b"
            ],
            [
             0.6666666666666666,
             "#ed7953"
            ],
            [
             0.7777777777777778,
             "#fb9f3a"
            ],
            [
             0.8888888888888888,
             "#fdca26"
            ],
            [
             1,
             "#f0f921"
            ]
           ],
           "sequentialminus": [
            [
             0,
             "#0d0887"
            ],
            [
             0.1111111111111111,
             "#46039f"
            ],
            [
             0.2222222222222222,
             "#7201a8"
            ],
            [
             0.3333333333333333,
             "#9c179e"
            ],
            [
             0.4444444444444444,
             "#bd3786"
            ],
            [
             0.5555555555555556,
             "#d8576b"
            ],
            [
             0.6666666666666666,
             "#ed7953"
            ],
            [
             0.7777777777777778,
             "#fb9f3a"
            ],
            [
             0.8888888888888888,
             "#fdca26"
            ],
            [
             1,
             "#f0f921"
            ]
           ]
          },
          "colorway": [
           "#636efa",
           "#EF553B",
           "#00cc96",
           "#ab63fa",
           "#FFA15A",
           "#19d3f3",
           "#FF6692",
           "#B6E880",
           "#FF97FF",
           "#FECB52"
          ],
          "font": {
           "color": "#2a3f5f"
          },
          "geo": {
           "bgcolor": "white",
           "lakecolor": "white",
           "landcolor": "#E5ECF6",
           "showlakes": true,
           "showland": true,
           "subunitcolor": "white"
          },
          "hoverlabel": {
           "align": "left"
          },
          "hovermode": "closest",
          "mapbox": {
           "style": "light"
          },
          "paper_bgcolor": "white",
          "plot_bgcolor": "#E5ECF6",
          "polar": {
           "angularaxis": {
            "gridcolor": "white",
            "linecolor": "white",
            "ticks": ""
           },
           "bgcolor": "#E5ECF6",
           "radialaxis": {
            "gridcolor": "white",
            "linecolor": "white",
            "ticks": ""
           }
          },
          "scene": {
           "xaxis": {
            "backgroundcolor": "#E5ECF6",
            "gridcolor": "white",
            "gridwidth": 2,
            "linecolor": "white",
            "showbackground": true,
            "ticks": "",
            "zerolinecolor": "white"
           },
           "yaxis": {
            "backgroundcolor": "#E5ECF6",
            "gridcolor": "white",
            "gridwidth": 2,
            "linecolor": "white",
            "showbackground": true,
            "ticks": "",
            "zerolinecolor": "white"
           },
           "zaxis": {
            "backgroundcolor": "#E5ECF6",
            "gridcolor": "white",
            "gridwidth": 2,
            "linecolor": "white",
            "showbackground": true,
            "ticks": "",
            "zerolinecolor": "white"
           }
          },
          "shapedefaults": {
           "line": {
            "color": "#2a3f5f"
           }
          },
          "ternary": {
           "aaxis": {
            "gridcolor": "white",
            "linecolor": "white",
            "ticks": ""
           },
           "baxis": {
            "gridcolor": "white",
            "linecolor": "white",
            "ticks": ""
           },
           "bgcolor": "#E5ECF6",
           "caxis": {
            "gridcolor": "white",
            "linecolor": "white",
            "ticks": ""
           }
          },
          "title": {
           "x": 0.05
          },
          "xaxis": {
           "automargin": true,
           "gridcolor": "white",
           "linecolor": "white",
           "ticks": "",
           "title": {
            "standoff": 15
           },
           "zerolinecolor": "white",
           "zerolinewidth": 2
          },
          "yaxis": {
           "automargin": true,
           "gridcolor": "white",
           "linecolor": "white",
           "ticks": "",
           "title": {
            "standoff": 15
           },
           "zerolinecolor": "white",
           "zerolinewidth": 2
          }
         }
        },
        "title": {
         "font": {
          "color": "#4D5663"
         },
         "text": "combined feature Word Count Distribution"
        },
        "xaxis": {
         "gridcolor": "#E1E5ED",
         "linecolor": "black",
         "showgrid": true,
         "tickfont": {
          "color": "#4D5663"
         },
         "title": {
          "font": {
           "color": "#4D5663"
          },
          "text": "word count"
         },
         "zerolinecolor": "#E1E5ED"
        },
        "yaxis": {
         "gridcolor": "#E1E5ED",
         "linecolor": "black",
         "showgrid": true,
         "tickfont": {
          "color": "#4D5663"
         },
         "title": {
          "font": {
           "color": "#4D5663"
          },
          "text": "count"
         },
         "zerolinecolor": "#E1E5ED"
        }
       }
      },
      "text/html": [
       "<div>\n",
       "        \n",
       "        \n",
       "            <div id=\"2c2335c1-a750-49a8-a0a1-f212484a55ca\" class=\"plotly-graph-div\" style=\"height:525px; width:100%;\"></div>\n",
       "            <script type=\"text/javascript\">\n",
       "                require([\"plotly\"], function(Plotly) {\n",
       "                    window.PLOTLYENV=window.PLOTLYENV || {};\n",
       "                    window.PLOTLYENV.BASE_URL='https://plot.ly';\n",
       "                    \n",
       "                if (document.getElementById(\"2c2335c1-a750-49a8-a0a1-f212484a55ca\")) {\n",
       "                    Plotly.newPlot(\n",
       "                        '2c2335c1-a750-49a8-a0a1-f212484a55ca',\n",
       "                        [{\"histfunc\": \"count\", \"histnorm\": \"\", \"marker\": {\"color\": \"rgba(255, 153, 51, 1.0)\", \"line\": {\"color\": \"#000000\", \"width\": 1.3}}, \"name\": \"feature_combine\", \"nbinsx\": 100, \"opacity\": 0.8, \"orientation\": \"v\", \"type\": \"histogram\", \"x\": [48, 946, 4, 349, 569, 25, 60, 265, 49, 313, 24, 511, 103, 133, 158, 151, 20, 316, 184, 443, 2, 97, 242, 272, 885, 1158, 26, 120, 1511, 82, 161, 14, 71, 52, 21, 128, 749, 248, 1222, 373, 1847, 223, 319, 142, 226, 234, 176, 196, 146, 38, 476, 179, 299, 453, 335, 407, 61, 510, 1401, 23, 104, 132, 110, 367, 231, 675, 51, 78, 182, 309, 25, 155, 625, 78, 1412, 53, 120, 69, 95, 166, 285, 42, 197, 67, 138, 43, 1621, 513, 199, 1496, 863, 5, 277, 18, 55, 881, 24, 148, 90, 69, 40, 244, 120, 69, 37, 18, 133, 470, 194, 75, 16, 313, 111, 43, 91, 7, 81, 716, 133, 120, 152, 57, 275, 18, 11, 95, 499, 34, 24, 58, 718, 30, 219, 63, 15, 170, 11, 127, 234, 9, 19, 24, 11, 251, 93, 14, 51, 20, 109, 208, 19, 140, 157, 28, 8, 408, 1101, 77, 40, 256, 41, 6, 115, 5, 65, 40, 305, 49, 8, 20, 7, 301, 61, 14, 50, 35, 21, 93, 557, 8, 238, 504, 105, 17, 62, 22, 91, 6, 113, 55, 56, 104, 57, 414, 100, 16, 54, 13, 412, 124, 231, 93, 194, 285, 32, 768, 204, 80, 91, 124, 107, 230, 227, 111, 140, 78, 111, 414, 110, 89, 133, 71, 87, 11, 99, 167, 318, 31, 31, 8, 168, 249, 58, 93, 16, 447, 31, 679, 527, 83, 256, 1046, 101, 74, 106, 1478, 835, 21, 11, 458, 344, 192, 347, 87, 331, 23, 9, 437, 11, 26, 396, 157, 261, 33, 273, 205, 35, 296, 316, 416, 345, 111, 525, 257, 434, 265, 364, 96, 206, 544, 175, 54, 306, 341, 436, 18, 501, 253, 804, 237, 263, 251, 11, 943, 171, 206, 253, 210, 878, 574, 294, 892, 545, 336, 74, 406, 355, 10, 86, 372, 251, 186, 502, 455, 258, 110, 214, 76, 238, 73, 106, 31, 110, 60, 180, 21, 93, 127, 193, 81, 78, 11, 33, 124, 17, 55, 19, 131, 88, 136, 16, 8, 147, 183, 4, 20, 14, 69, 152, 11, 217, 5, 131, 118, 64, 56, 39, 93, 5, 413, 140, 53, 12, 183, 233, 195, 43, 494, 387, 151, 28, 22, 294, 27, 122, 181, 125, 378, 78, 261, 140, 159, 105, 18, 201, 7, 270, 46, 111, 644, 392, 2, 508, 129, 345, 18, 6, 118, 65, 229, 47, 5, 201, 100, 37, 58, 86, 3, 10, 49, 200, 93, 95, 43, 30, 40, 130, 49, 110, 216, 9, 524, 126, 276, 181, 194, 40, 181, 210, 746, 208, 303, 17, 46, 307, 23, 115, 104, 102, 53, 3, 578, 155, 222, 153, 714, 106, 253, 69, 68, 8, 251, 431, 8, 18, 564, 464, 233, 208, 366, 9, 290, 6, 74, 434, 171, 736, 39, 365, 74, 540, 287, 187, 713, 417, 301, 566, 157, 584, 236, 98, 241, 165, 10, 660, 315, 207, 37, 320, 409, 402, 67, 290, 476, 201, 315, 26, 79, 142, 469, 164, 156, 252, 244, 186, 135, 152, 179, 162, 187, 71, 33, 13, 49, 120, 248, 186, 291, 260, 289, 322, 56, 109, 230, 437, 319, 128, 164, 207, 108, 239, 188, 178, 448, 62, 88, 359, 42, 463, 91, 72, 341, 904, 45, 568, 335, 116, 135, 99, 241, 125, 99, 157, 354, 113, 83, 533, 486, 139, 209, 112, 82, 586, 201, 125, 31, 95, 910, 85, 99, 286, 320, 201, 118, 187, 278, 124, 259, 258, 152, 235, 175, 123, 228, 105, 46, 98, 54, 159, 116, 169, 332, 110, 54, 33, 234, 77, 138, 35, 38, 31, 337, 885, 781, 58, 33, 73, 345, 39, 28, 1000, 119, 105, 139, 58, 226, 45, 420, 690, 766, 153, 96, 208, 544, 19, 42, 195, 392, 485, 674, 981, 774, 447, 285, 337, 395, 130, 161, 329, 494, 569, 377, 344, 606, 124, 148, 370, 145, 188, 132, 129, 165, 231, 120, 19, 17, 18, 22, 332, 174, 219, 78, 299, 50, 29, 12, 300, 394, 1123, 141, 86, 559, 2163, 195, 799, 403, 526, 26, 1256, 718, 541, 493, 1345, 44, 212, 20, 137, 155, 313, 56, 288, 399, 28, 54, 57, 226, 516, 811, 789, 126, 1441, 226, 781, 5, 200, 15, 12, 2168, 852, 62, 10, 490, 634, 211, 58, 9, 224, 46, 239, 104, 147, 69, 436, 366, 89, 474, 11, 786, 663, 64, 20, 672, 11, 474, 151, 418, 256, 478, 201, 415, 662, 1158, 394, 508, 492, 26, 467, 466, 169, 13, 1213, 1074, 690, 839, 495, 697, 591, 24, 340, 459, 353, 227, 7, 255, 495, 559, 308, 235, 308, 578, 622, 485, 623, 494, 271, 190, 179, 628, 259, 226, 556, 199, 101, 148, 85, 793, 119, 245, 590, 214, 210, 959, 436, 377, 98, 53, 242, 460, 493, 289, 369, 108, 84, 834, 162, 26, 115, 1153, 191, 66, 171, 115, 267, 76, 55, 236, 20, 247, 54, 268, 419, 379, 131, 279, 17, 153, 90, 1414, 70, 158, 157, 164, 63, 345, 519, 25, 12, 259, 6847, 741, 44, 389, 64, 48, 52, 89, 89, 117, 218, 327, 31, 123, 28, 128, 39, 769, 16, 330, 27, 922, 83, 402, 156, 144, 150, 58, 22, 22, 115, 109, 58, 228, 438, 85, 262, 34, 264, 511, 108, 539, 108, 2675, 215, 186, 18, 95, 1388, 689, 338, 655, 123, 20, 131, 511, 599, 43, 399, 162, 136, 49, 32, 101, 740, 36, 63, 20, 57, 114, 222, 30, 191, 1214, 247, 150, 141, 84, 452, 242, 156, 351, 113, 220, 255, 255, 149, 313, 94, 167, 336, 206, 345, 230, 248, 510, 411, 239, 97, 143, 215, 413, 191, 189, 450, 109, 87, 489, 118, 52, 289, 576, 324, 84, 673, 131, 303, 81, 42, 74, 330, 54, 64, 24, 192, 949, 650, 179, 255, 263, 302, 308, 201, 352, 272, 105, 90, 105, 211, 768, 63, 40, 13, 33, 85, 98, 605, 42, 48, 76, 230, 350, 8, 157, 259, 13, 95, 145, 444, 54, 13, 112, 237, 67, 777, 183, 3567, 257, 176, 15, 694, 239, 63, 86, 75, 343, 198, 341, 162, 256, 59, 29, 274, 70, 91, 59, 93, 70, 467, 71, 314, 247, 243, 187, 117, 381, 1075, 91, 57, 149, 94, 552, 105, 168, 45, 48, 9, 574, 41, 44, 13, 177, 3657, 35, 18, 131, 30, 52, 491, 164, 1281, 1133, 1325, 1149, 443, 59, 273, 1707, 14, 149, 71, 83, 98, 75, 492, 106, 327, 348, 51, 15, 155, 807, 118, 92, 2178, 154, 68, 49, 66, 56, 150, 427, 81, 864, 4, 1122, 55, 69, 833, 432, 1195, 160, 3123, 421, 13, 68, 194, 149, 15, 189, 3916, 59, 333, 184, 212, 49, 267, 4373, 1178]}],\n",
       "                        {\"barmode\": \"overlay\", \"legend\": {\"bgcolor\": \"#F5F6F9\", \"font\": {\"color\": \"#4D5663\"}}, \"paper_bgcolor\": \"#F5F6F9\", \"plot_bgcolor\": \"#F5F6F9\", \"template\": {\"data\": {\"bar\": [{\"error_x\": {\"color\": \"#2a3f5f\"}, \"error_y\": {\"color\": \"#2a3f5f\"}, \"marker\": {\"line\": {\"color\": \"#E5ECF6\", \"width\": 0.5}}, \"type\": \"bar\"}], \"barpolar\": [{\"marker\": {\"line\": {\"color\": \"#E5ECF6\", \"width\": 0.5}}, \"type\": \"barpolar\"}], \"carpet\": [{\"aaxis\": {\"endlinecolor\": \"#2a3f5f\", \"gridcolor\": \"white\", \"linecolor\": \"white\", \"minorgridcolor\": \"white\", \"startlinecolor\": \"#2a3f5f\"}, \"baxis\": {\"endlinecolor\": \"#2a3f5f\", \"gridcolor\": \"white\", \"linecolor\": \"white\", \"minorgridcolor\": \"white\", \"startlinecolor\": \"#2a3f5f\"}, \"type\": \"carpet\"}], \"choropleth\": [{\"colorbar\": {\"outlinewidth\": 0, \"ticks\": \"\"}, \"type\": \"choropleth\"}], \"contour\": [{\"colorbar\": {\"outlinewidth\": 0, \"ticks\": \"\"}, \"colorscale\": [[0.0, \"#0d0887\"], [0.1111111111111111, \"#46039f\"], [0.2222222222222222, \"#7201a8\"], [0.3333333333333333, \"#9c179e\"], [0.4444444444444444, \"#bd3786\"], [0.5555555555555556, \"#d8576b\"], [0.6666666666666666, \"#ed7953\"], [0.7777777777777778, \"#fb9f3a\"], [0.8888888888888888, \"#fdca26\"], [1.0, \"#f0f921\"]], \"type\": \"contour\"}], \"contourcarpet\": [{\"colorbar\": {\"outlinewidth\": 0, \"ticks\": \"\"}, \"type\": \"contourcarpet\"}], \"heatmap\": [{\"colorbar\": {\"outlinewidth\": 0, \"ticks\": \"\"}, \"colorscale\": [[0.0, \"#0d0887\"], [0.1111111111111111, \"#46039f\"], [0.2222222222222222, \"#7201a8\"], [0.3333333333333333, \"#9c179e\"], [0.4444444444444444, \"#bd3786\"], [0.5555555555555556, \"#d8576b\"], [0.6666666666666666, \"#ed7953\"], [0.7777777777777778, \"#fb9f3a\"], [0.8888888888888888, \"#fdca26\"], [1.0, \"#f0f921\"]], \"type\": \"heatmap\"}], \"heatmapgl\": [{\"colorbar\": {\"outlinewidth\": 0, \"ticks\": \"\"}, \"colorscale\": [[0.0, \"#0d0887\"], [0.1111111111111111, \"#46039f\"], [0.2222222222222222, \"#7201a8\"], [0.3333333333333333, \"#9c179e\"], [0.4444444444444444, \"#bd3786\"], [0.5555555555555556, \"#d8576b\"], [0.6666666666666666, \"#ed7953\"], [0.7777777777777778, \"#fb9f3a\"], [0.8888888888888888, \"#fdca26\"], [1.0, \"#f0f921\"]], \"type\": \"heatmapgl\"}], \"histogram\": [{\"marker\": {\"colorbar\": {\"outlinewidth\": 0, \"ticks\": \"\"}}, \"type\": \"histogram\"}], \"histogram2d\": [{\"colorbar\": {\"outlinewidth\": 0, \"ticks\": \"\"}, \"colorscale\": [[0.0, \"#0d0887\"], [0.1111111111111111, \"#46039f\"], [0.2222222222222222, \"#7201a8\"], [0.3333333333333333, \"#9c179e\"], [0.4444444444444444, \"#bd3786\"], [0.5555555555555556, \"#d8576b\"], [0.6666666666666666, \"#ed7953\"], [0.7777777777777778, \"#fb9f3a\"], [0.8888888888888888, \"#fdca26\"], [1.0, \"#f0f921\"]], \"type\": \"histogram2d\"}], \"histogram2dcontour\": [{\"colorbar\": {\"outlinewidth\": 0, \"ticks\": \"\"}, \"colorscale\": [[0.0, \"#0d0887\"], [0.1111111111111111, \"#46039f\"], [0.2222222222222222, \"#7201a8\"], [0.3333333333333333, \"#9c179e\"], [0.4444444444444444, \"#bd3786\"], [0.5555555555555556, \"#d8576b\"], [0.6666666666666666, \"#ed7953\"], [0.7777777777777778, \"#fb9f3a\"], [0.8888888888888888, \"#fdca26\"], [1.0, \"#f0f921\"]], \"type\": \"histogram2dcontour\"}], \"mesh3d\": [{\"colorbar\": {\"outlinewidth\": 0, \"ticks\": \"\"}, \"type\": \"mesh3d\"}], \"parcoords\": [{\"line\": {\"colorbar\": {\"outlinewidth\": 0, \"ticks\": \"\"}}, \"type\": \"parcoords\"}], \"pie\": [{\"automargin\": true, \"type\": \"pie\"}], \"scatter\": [{\"marker\": {\"colorbar\": {\"outlinewidth\": 0, \"ticks\": \"\"}}, \"type\": \"scatter\"}], \"scatter3d\": [{\"line\": {\"colorbar\": {\"outlinewidth\": 0, \"ticks\": \"\"}}, \"marker\": {\"colorbar\": {\"outlinewidth\": 0, \"ticks\": \"\"}}, \"type\": \"scatter3d\"}], \"scattercarpet\": [{\"marker\": {\"colorbar\": {\"outlinewidth\": 0, \"ticks\": \"\"}}, \"type\": \"scattercarpet\"}], \"scattergeo\": [{\"marker\": {\"colorbar\": {\"outlinewidth\": 0, \"ticks\": \"\"}}, \"type\": \"scattergeo\"}], \"scattergl\": [{\"marker\": {\"colorbar\": {\"outlinewidth\": 0, \"ticks\": \"\"}}, \"type\": \"scattergl\"}], \"scattermapbox\": [{\"marker\": {\"colorbar\": {\"outlinewidth\": 0, \"ticks\": \"\"}}, \"type\": \"scattermapbox\"}], \"scatterpolar\": [{\"marker\": {\"colorbar\": {\"outlinewidth\": 0, \"ticks\": \"\"}}, \"type\": \"scatterpolar\"}], \"scatterpolargl\": [{\"marker\": {\"colorbar\": {\"outlinewidth\": 0, \"ticks\": \"\"}}, \"type\": \"scatterpolargl\"}], \"scatterternary\": [{\"marker\": {\"colorbar\": {\"outlinewidth\": 0, \"ticks\": \"\"}}, \"type\": \"scatterternary\"}], \"surface\": [{\"colorbar\": {\"outlinewidth\": 0, \"ticks\": \"\"}, \"colorscale\": [[0.0, \"#0d0887\"], [0.1111111111111111, \"#46039f\"], [0.2222222222222222, \"#7201a8\"], [0.3333333333333333, \"#9c179e\"], [0.4444444444444444, \"#bd3786\"], [0.5555555555555556, \"#d8576b\"], [0.6666666666666666, \"#ed7953\"], [0.7777777777777778, \"#fb9f3a\"], [0.8888888888888888, \"#fdca26\"], [1.0, \"#f0f921\"]], \"type\": \"surface\"}], \"table\": [{\"cells\": {\"fill\": {\"color\": \"#EBF0F8\"}, \"line\": {\"color\": \"white\"}}, \"header\": {\"fill\": {\"color\": \"#C8D4E3\"}, \"line\": {\"color\": \"white\"}}, \"type\": \"table\"}]}, \"layout\": {\"annotationdefaults\": {\"arrowcolor\": \"#2a3f5f\", \"arrowhead\": 0, \"arrowwidth\": 1}, \"coloraxis\": {\"colorbar\": {\"outlinewidth\": 0, \"ticks\": \"\"}}, \"colorscale\": {\"diverging\": [[0, \"#8e0152\"], [0.1, \"#c51b7d\"], [0.2, \"#de77ae\"], [0.3, \"#f1b6da\"], [0.4, \"#fde0ef\"], [0.5, \"#f7f7f7\"], [0.6, \"#e6f5d0\"], [0.7, \"#b8e186\"], [0.8, \"#7fbc41\"], [0.9, \"#4d9221\"], [1, \"#276419\"]], \"sequential\": [[0.0, \"#0d0887\"], [0.1111111111111111, \"#46039f\"], [0.2222222222222222, \"#7201a8\"], [0.3333333333333333, \"#9c179e\"], [0.4444444444444444, \"#bd3786\"], [0.5555555555555556, \"#d8576b\"], [0.6666666666666666, \"#ed7953\"], [0.7777777777777778, \"#fb9f3a\"], [0.8888888888888888, \"#fdca26\"], [1.0, \"#f0f921\"]], \"sequentialminus\": [[0.0, \"#0d0887\"], [0.1111111111111111, \"#46039f\"], [0.2222222222222222, \"#7201a8\"], [0.3333333333333333, \"#9c179e\"], [0.4444444444444444, \"#bd3786\"], [0.5555555555555556, \"#d8576b\"], [0.6666666666666666, \"#ed7953\"], [0.7777777777777778, \"#fb9f3a\"], [0.8888888888888888, \"#fdca26\"], [1.0, \"#f0f921\"]]}, \"colorway\": [\"#636efa\", \"#EF553B\", \"#00cc96\", \"#ab63fa\", \"#FFA15A\", \"#19d3f3\", \"#FF6692\", \"#B6E880\", \"#FF97FF\", \"#FECB52\"], \"font\": {\"color\": \"#2a3f5f\"}, \"geo\": {\"bgcolor\": \"white\", \"lakecolor\": \"white\", \"landcolor\": \"#E5ECF6\", \"showlakes\": true, \"showland\": true, \"subunitcolor\": \"white\"}, \"hoverlabel\": {\"align\": \"left\"}, \"hovermode\": \"closest\", \"mapbox\": {\"style\": \"light\"}, \"paper_bgcolor\": \"white\", \"plot_bgcolor\": \"#E5ECF6\", \"polar\": {\"angularaxis\": {\"gridcolor\": \"white\", \"linecolor\": \"white\", \"ticks\": \"\"}, \"bgcolor\": \"#E5ECF6\", \"radialaxis\": {\"gridcolor\": \"white\", \"linecolor\": \"white\", \"ticks\": \"\"}}, \"scene\": {\"xaxis\": {\"backgroundcolor\": \"#E5ECF6\", \"gridcolor\": \"white\", \"gridwidth\": 2, \"linecolor\": \"white\", \"showbackground\": true, \"ticks\": \"\", \"zerolinecolor\": \"white\"}, \"yaxis\": {\"backgroundcolor\": \"#E5ECF6\", \"gridcolor\": \"white\", \"gridwidth\": 2, \"linecolor\": \"white\", \"showbackground\": true, \"ticks\": \"\", \"zerolinecolor\": \"white\"}, \"zaxis\": {\"backgroundcolor\": \"#E5ECF6\", \"gridcolor\": \"white\", \"gridwidth\": 2, \"linecolor\": \"white\", \"showbackground\": true, \"ticks\": \"\", \"zerolinecolor\": \"white\"}}, \"shapedefaults\": {\"line\": {\"color\": \"#2a3f5f\"}}, \"ternary\": {\"aaxis\": {\"gridcolor\": \"white\", \"linecolor\": \"white\", \"ticks\": \"\"}, \"baxis\": {\"gridcolor\": \"white\", \"linecolor\": \"white\", \"ticks\": \"\"}, \"bgcolor\": \"#E5ECF6\", \"caxis\": {\"gridcolor\": \"white\", \"linecolor\": \"white\", \"ticks\": \"\"}}, \"title\": {\"x\": 0.05}, \"xaxis\": {\"automargin\": true, \"gridcolor\": \"white\", \"linecolor\": \"white\", \"ticks\": \"\", \"title\": {\"standoff\": 15}, \"zerolinecolor\": \"white\", \"zerolinewidth\": 2}, \"yaxis\": {\"automargin\": true, \"gridcolor\": \"white\", \"linecolor\": \"white\", \"ticks\": \"\", \"title\": {\"standoff\": 15}, \"zerolinecolor\": \"white\", \"zerolinewidth\": 2}}}, \"title\": {\"font\": {\"color\": \"#4D5663\"}, \"text\": \"combined feature Word Count Distribution\"}, \"xaxis\": {\"gridcolor\": \"#E1E5ED\", \"linecolor\": \"black\", \"showgrid\": true, \"tickfont\": {\"color\": \"#4D5663\"}, \"title\": {\"font\": {\"color\": \"#4D5663\"}, \"text\": \"word count\"}, \"zerolinecolor\": \"#E1E5ED\"}, \"yaxis\": {\"gridcolor\": \"#E1E5ED\", \"linecolor\": \"black\", \"showgrid\": true, \"tickfont\": {\"color\": \"#4D5663\"}, \"title\": {\"font\": {\"color\": \"#4D5663\"}, \"text\": \"count\"}, \"zerolinecolor\": \"#E1E5ED\"}},\n",
       "                        {\"showLink\": true, \"linkText\": \"Export to plot.ly\", \"plotlyServerURL\": \"https://plot.ly\", \"responsive\": true}\n",
       "                    ).then(function(){\n",
       "                            \n",
       "var gd = document.getElementById('2c2335c1-a750-49a8-a0a1-f212484a55ca');\n",
       "var x = new MutationObserver(function (mutations, observer) {{\n",
       "        var display = window.getComputedStyle(gd).display;\n",
       "        if (!display || display === 'none') {{\n",
       "            console.log([gd, 'removed!']);\n",
       "            Plotly.purge(gd);\n",
       "            observer.disconnect();\n",
       "        }}\n",
       "}});\n",
       "\n",
       "// Listen for the removal of the full notebook cells\n",
       "var notebookContainer = gd.closest('#notebook-container');\n",
       "if (notebookContainer) {{\n",
       "    x.observe(notebookContainer, {childList: true});\n",
       "}}\n",
       "\n",
       "// Listen for the clearing of the current output cell\n",
       "var outputEl = gd.closest('.output');\n",
       "if (outputEl) {{\n",
       "    x.observe(outputEl, {childList: true});\n",
       "}}\n",
       "\n",
       "                        })\n",
       "                };\n",
       "                });\n",
       "            </script>\n",
       "        </div>"
      ]
     },
     "metadata": {},
     "output_type": "display_data"
    }
   ],
   "source": [
    "word_count = topics_data['feature_combine'].apply(lambda x: len(str(x).split()))\n",
    "word_count.iplot(\n",
    "    kind='hist',\n",
    "    bins=100,\n",
    "    xTitle='word count',\n",
    "    linecolor='black',\n",
    "    yTitle='count',\n",
    "    title='combined feature Word Count Distribution')"
   ]
  },
  {
   "cell_type": "markdown",
   "metadata": {},
   "source": [
    "### Word count of title"
   ]
  },
  {
   "cell_type": "code",
   "execution_count": 36,
   "metadata": {},
   "outputs": [
    {
     "data": {
      "application/vnd.plotly.v1+json": {
       "config": {
        "linkText": "Export to plot.ly",
        "plotlyServerURL": "https://plot.ly",
        "showLink": true
       },
       "data": [
        {
         "histfunc": "count",
         "histnorm": "",
         "marker": {
          "color": "rgba(255, 153, 51, 1.0)",
          "line": {
           "color": "#000000",
           "width": 1.3
          }
         },
         "name": "title",
         "nbinsx": 100,
         "opacity": 0.8,
         "orientation": "v",
         "type": "histogram",
         "x": [
          7,
          5,
          4,
          1,
          9,
          11,
          6,
          4,
          10,
          4,
          12,
          9,
          19,
          6,
          12,
          8,
          5,
          7,
          3,
          5,
          2,
          6,
          5,
          8,
          6,
          5,
          9,
          5,
          9,
          12,
          4,
          3,
          8,
          4,
          10,
          6,
          4,
          4,
          7,
          8,
          7,
          4,
          7,
          8,
          19,
          6,
          19,
          4,
          6,
          4,
          9,
          16,
          5,
          7,
          6,
          7,
          8,
          7,
          7,
          7,
          6,
          5,
          7,
          11,
          5,
          16,
          5,
          6,
          11,
          7,
          6,
          4,
          9,
          5,
          8,
          6,
          6,
          10,
          10,
          8,
          3,
          16,
          3,
          5,
          7,
          9,
          5,
          9,
          14,
          5,
          9,
          5,
          6,
          11,
          14,
          8,
          13,
          8,
          9,
          8,
          8,
          10,
          25,
          3,
          12,
          5,
          21,
          8,
          5,
          6,
          10,
          4,
          23,
          9,
          4,
          4,
          4,
          7,
          10,
          4,
          12,
          7,
          6,
          18,
          11,
          3,
          12,
          7,
          10,
          4,
          18,
          11,
          4,
          5,
          12,
          10,
          11,
          6,
          5,
          9,
          9,
          9,
          9,
          21,
          7,
          8,
          12,
          10,
          9,
          19,
          11,
          10,
          4,
          7,
          7,
          6,
          9,
          6,
          13,
          10,
          7,
          6,
          8,
          5,
          17,
          5,
          8,
          6,
          8,
          6,
          7,
          2,
          3,
          14,
          13,
          6,
          2,
          9,
          8,
          8,
          10,
          12,
          20,
          4,
          6,
          7,
          11,
          6,
          5,
          6,
          6,
          3,
          3,
          5,
          11,
          16,
          6,
          10,
          13,
          17,
          14,
          11,
          10,
          5,
          17,
          13,
          31,
          11,
          6,
          10,
          8,
          10,
          3,
          9,
          5,
          8,
          4,
          5,
          10,
          6,
          11,
          9,
          28,
          11,
          6,
          18,
          9,
          8,
          10,
          8,
          13,
          7,
          7,
          27,
          16,
          5,
          12,
          28,
          3,
          12,
          9,
          8,
          14,
          10,
          3,
          7,
          12,
          5,
          11,
          6,
          9,
          7,
          26,
          10,
          12,
          3,
          2,
          8,
          11,
          26,
          11,
          8,
          10,
          12,
          12,
          8,
          5,
          11,
          11,
          13,
          27,
          8,
          9,
          8,
          9,
          5,
          14,
          1,
          5,
          11,
          10,
          8,
          7,
          13,
          10,
          7,
          3,
          11,
          8,
          7,
          9,
          13,
          11,
          8,
          8,
          7,
          9,
          6,
          8,
          9,
          7,
          7,
          8,
          12,
          8,
          8,
          9,
          10,
          4,
          7,
          9,
          7,
          11,
          8,
          7,
          14,
          9,
          5,
          25,
          10,
          9,
          5,
          2,
          10,
          9,
          7,
          13,
          5,
          6,
          21,
          16,
          6,
          10,
          3,
          8,
          8,
          9,
          6,
          4,
          9,
          4,
          2,
          4,
          3,
          3,
          8,
          9,
          6,
          7,
          6,
          5,
          5,
          5,
          13,
          13,
          9,
          1,
          4,
          5,
          3,
          9,
          20,
          4,
          9,
          6,
          4,
          3,
          7,
          15,
          11,
          3,
          11,
          12,
          8,
          4,
          4,
          6,
          9,
          6,
          11,
          18,
          7,
          12,
          12,
          8,
          7,
          6,
          12,
          7,
          6,
          7,
          2,
          11,
          8,
          3,
          6,
          6,
          3,
          2,
          13,
          2,
          4,
          5,
          19,
          5,
          6,
          4,
          3,
          4,
          11,
          6,
          7,
          8,
          8,
          6,
          6,
          7,
          7,
          18,
          8,
          9,
          7,
          11,
          7,
          6,
          15,
          13,
          6,
          4,
          4,
          4,
          20,
          7,
          6,
          8,
          7,
          10,
          3,
          11,
          4,
          3,
          6,
          5,
          11,
          8,
          11,
          6,
          22,
          9,
          4,
          8,
          6,
          13,
          8,
          6,
          8,
          7,
          10,
          9,
          8,
          9,
          6,
          6,
          7,
          4,
          6,
          10,
          8,
          7,
          8,
          7,
          10,
          9,
          4,
          5,
          2,
          9,
          10,
          8,
          10,
          10,
          18,
          5,
          10,
          6,
          9,
          7,
          16,
          9,
          11,
          10,
          12,
          10,
          5,
          13,
          17,
          8,
          19,
          9,
          9,
          16,
          5,
          9,
          11,
          9,
          7,
          8,
          6,
          12,
          9,
          2,
          10,
          7,
          16,
          7,
          8,
          3,
          6,
          12,
          17,
          16,
          5,
          7,
          8,
          10,
          7,
          4,
          3,
          23,
          4,
          7,
          15,
          8,
          12,
          8,
          6,
          23,
          7,
          8,
          4,
          5,
          6,
          7,
          8,
          5,
          4,
          4,
          8,
          8,
          9,
          10,
          3,
          10,
          10,
          11,
          9,
          16,
          14,
          9,
          11,
          11,
          14,
          8,
          11,
          5,
          6,
          10,
          1,
          5,
          6,
          14,
          7,
          10,
          8,
          5,
          4,
          4,
          5,
          29,
          9,
          12,
          9,
          10,
          13,
          9,
          23,
          11,
          9,
          4,
          27,
          6,
          3,
          7,
          8,
          11,
          17,
          3,
          8,
          12,
          9,
          8,
          8,
          6,
          11,
          13,
          22,
          10,
          7,
          2,
          6,
          5,
          11,
          9,
          9,
          9,
          10,
          8,
          9,
          9,
          7,
          7,
          5,
          12,
          7,
          6,
          14,
          28,
          11,
          10,
          9,
          7,
          9,
          8,
          14,
          10,
          6,
          12,
          9,
          6,
          5,
          7,
          7,
          8,
          6,
          3,
          6,
          8,
          5,
          6,
          2,
          9,
          30,
          7,
          23,
          15,
          17,
          6,
          19,
          3,
          4,
          21,
          6,
          4,
          18,
          14,
          5,
          4,
          6,
          10,
          14,
          7,
          10,
          6,
          1,
          16,
          7,
          4,
          8,
          2,
          18,
          8,
          4,
          10,
          6,
          13,
          10,
          7,
          1,
          4,
          4,
          8,
          10,
          7,
          8,
          10,
          9,
          10,
          3,
          8,
          6,
          4,
          6,
          2,
          5,
          6,
          4,
          12,
          4,
          9,
          8,
          10,
          8,
          9,
          12,
          8,
          8,
          9,
          6,
          5,
          10,
          10,
          7,
          10,
          7,
          10,
          11,
          11,
          7,
          11,
          5,
          5,
          8,
          11,
          5,
          10,
          14,
          9,
          22,
          9,
          9,
          6,
          5,
          6,
          7,
          8,
          13,
          9,
          4,
          15,
          13,
          8,
          11,
          3,
          19,
          6,
          19,
          8,
          18,
          6,
          4,
          10,
          9,
          7,
          7,
          6,
          4,
          12,
          3,
          8,
          7,
          9,
          5,
          5,
          10,
          9,
          6,
          9,
          13,
          9,
          6,
          10,
          6,
          3,
          12,
          12,
          9,
          13,
          10,
          13,
          21,
          9,
          6,
          6,
          7,
          5,
          4,
          7,
          9,
          7,
          2,
          10,
          8,
          10,
          7,
          8,
          6,
          7,
          14,
          10,
          8,
          7,
          7,
          7,
          9,
          8,
          7,
          11,
          3,
          5,
          4,
          24,
          3,
          5,
          14,
          8,
          9,
          3,
          11,
          5,
          17,
          23,
          10,
          5,
          9,
          3,
          7,
          7,
          15,
          4,
          28,
          4,
          12,
          5,
          5,
          5,
          10,
          9,
          3,
          12,
          8,
          9,
          5,
          3,
          9,
          4,
          7,
          6,
          6,
          13,
          15,
          30,
          8,
          10,
          4,
          9,
          9,
          7,
          19,
          5,
          10,
          6,
          28,
          11,
          6,
          6,
          6,
          8,
          10,
          10,
          25,
          12,
          10,
          5,
          10,
          13,
          16,
          9,
          13,
          9,
          7,
          28,
          10,
          4,
          10,
          5,
          8,
          9,
          22,
          9,
          6,
          8,
          8,
          6,
          6,
          19,
          11,
          13,
          11,
          20,
          3,
          7,
          9,
          6,
          7,
          8,
          11,
          12,
          3,
          7,
          5,
          10,
          17,
          6,
          6,
          5,
          29,
          7,
          17,
          14,
          18,
          4,
          7,
          7,
          13,
          22,
          5,
          17,
          14,
          6,
          6,
          6,
          9,
          5,
          12,
          3,
          4,
          4,
          4,
          7,
          3,
          12,
          14,
          1,
          8,
          7,
          4,
          14,
          12,
          9,
          5,
          9,
          7,
          3,
          2,
          11,
          10,
          13,
          9,
          3,
          7,
          10,
          25,
          7,
          13,
          14,
          9,
          11,
          20,
          7,
          9,
          13,
          4,
          9,
          8,
          4,
          16,
          8,
          12,
          10,
          3,
          8,
          1,
          5,
          6,
          26,
          2,
          11,
          15,
          9,
          2,
          8,
          4,
          3,
          2,
          11,
          10,
          16,
          9,
          11,
          6,
          10,
          4,
          15,
          4,
          6,
          5,
          3,
          11,
          29,
          9,
          21,
          7,
          7,
          11,
          35,
          10,
          6,
          3,
          10,
          8,
          16,
          14,
          3,
          31,
          10,
          10,
          31,
          3,
          2,
          6,
          2,
          11,
          15,
          17,
          9,
          30,
          24,
          9,
          10,
          10,
          7,
          5,
          3,
          31,
          6,
          5,
          9,
          6,
          5,
          11,
          6,
          3,
          14,
          13,
          4,
          2,
          14,
          5,
          20,
          4,
          4,
          6,
          23,
          5,
          7,
          16,
          8,
          3,
          4,
          5,
          7,
          10,
          6,
          5,
          7,
          5,
          7,
          11,
          12,
          3,
          13,
          8,
          4,
          4,
          3,
          13,
          4,
          9,
          18,
          8,
          8,
          26,
          13,
          4,
          3,
          10,
          15,
          7,
          21,
          5,
          6,
          10,
          12,
          10,
          13,
          15,
          17
         ]
        }
       ],
       "layout": {
        "barmode": "overlay",
        "legend": {
         "bgcolor": "#F5F6F9",
         "font": {
          "color": "#4D5663"
         }
        },
        "paper_bgcolor": "#F5F6F9",
        "plot_bgcolor": "#F5F6F9",
        "template": {
         "data": {
          "bar": [
           {
            "error_x": {
             "color": "#2a3f5f"
            },
            "error_y": {
             "color": "#2a3f5f"
            },
            "marker": {
             "line": {
              "color": "#E5ECF6",
              "width": 0.5
             }
            },
            "type": "bar"
           }
          ],
          "barpolar": [
           {
            "marker": {
             "line": {
              "color": "#E5ECF6",
              "width": 0.5
             }
            },
            "type": "barpolar"
           }
          ],
          "carpet": [
           {
            "aaxis": {
             "endlinecolor": "#2a3f5f",
             "gridcolor": "white",
             "linecolor": "white",
             "minorgridcolor": "white",
             "startlinecolor": "#2a3f5f"
            },
            "baxis": {
             "endlinecolor": "#2a3f5f",
             "gridcolor": "white",
             "linecolor": "white",
             "minorgridcolor": "white",
             "startlinecolor": "#2a3f5f"
            },
            "type": "carpet"
           }
          ],
          "choropleth": [
           {
            "colorbar": {
             "outlinewidth": 0,
             "ticks": ""
            },
            "type": "choropleth"
           }
          ],
          "contour": [
           {
            "colorbar": {
             "outlinewidth": 0,
             "ticks": ""
            },
            "colorscale": [
             [
              0,
              "#0d0887"
             ],
             [
              0.1111111111111111,
              "#46039f"
             ],
             [
              0.2222222222222222,
              "#7201a8"
             ],
             [
              0.3333333333333333,
              "#9c179e"
             ],
             [
              0.4444444444444444,
              "#bd3786"
             ],
             [
              0.5555555555555556,
              "#d8576b"
             ],
             [
              0.6666666666666666,
              "#ed7953"
             ],
             [
              0.7777777777777778,
              "#fb9f3a"
             ],
             [
              0.8888888888888888,
              "#fdca26"
             ],
             [
              1,
              "#f0f921"
             ]
            ],
            "type": "contour"
           }
          ],
          "contourcarpet": [
           {
            "colorbar": {
             "outlinewidth": 0,
             "ticks": ""
            },
            "type": "contourcarpet"
           }
          ],
          "heatmap": [
           {
            "colorbar": {
             "outlinewidth": 0,
             "ticks": ""
            },
            "colorscale": [
             [
              0,
              "#0d0887"
             ],
             [
              0.1111111111111111,
              "#46039f"
             ],
             [
              0.2222222222222222,
              "#7201a8"
             ],
             [
              0.3333333333333333,
              "#9c179e"
             ],
             [
              0.4444444444444444,
              "#bd3786"
             ],
             [
              0.5555555555555556,
              "#d8576b"
             ],
             [
              0.6666666666666666,
              "#ed7953"
             ],
             [
              0.7777777777777778,
              "#fb9f3a"
             ],
             [
              0.8888888888888888,
              "#fdca26"
             ],
             [
              1,
              "#f0f921"
             ]
            ],
            "type": "heatmap"
           }
          ],
          "heatmapgl": [
           {
            "colorbar": {
             "outlinewidth": 0,
             "ticks": ""
            },
            "colorscale": [
             [
              0,
              "#0d0887"
             ],
             [
              0.1111111111111111,
              "#46039f"
             ],
             [
              0.2222222222222222,
              "#7201a8"
             ],
             [
              0.3333333333333333,
              "#9c179e"
             ],
             [
              0.4444444444444444,
              "#bd3786"
             ],
             [
              0.5555555555555556,
              "#d8576b"
             ],
             [
              0.6666666666666666,
              "#ed7953"
             ],
             [
              0.7777777777777778,
              "#fb9f3a"
             ],
             [
              0.8888888888888888,
              "#fdca26"
             ],
             [
              1,
              "#f0f921"
             ]
            ],
            "type": "heatmapgl"
           }
          ],
          "histogram": [
           {
            "marker": {
             "colorbar": {
              "outlinewidth": 0,
              "ticks": ""
             }
            },
            "type": "histogram"
           }
          ],
          "histogram2d": [
           {
            "colorbar": {
             "outlinewidth": 0,
             "ticks": ""
            },
            "colorscale": [
             [
              0,
              "#0d0887"
             ],
             [
              0.1111111111111111,
              "#46039f"
             ],
             [
              0.2222222222222222,
              "#7201a8"
             ],
             [
              0.3333333333333333,
              "#9c179e"
             ],
             [
              0.4444444444444444,
              "#bd3786"
             ],
             [
              0.5555555555555556,
              "#d8576b"
             ],
             [
              0.6666666666666666,
              "#ed7953"
             ],
             [
              0.7777777777777778,
              "#fb9f3a"
             ],
             [
              0.8888888888888888,
              "#fdca26"
             ],
             [
              1,
              "#f0f921"
             ]
            ],
            "type": "histogram2d"
           }
          ],
          "histogram2dcontour": [
           {
            "colorbar": {
             "outlinewidth": 0,
             "ticks": ""
            },
            "colorscale": [
             [
              0,
              "#0d0887"
             ],
             [
              0.1111111111111111,
              "#46039f"
             ],
             [
              0.2222222222222222,
              "#7201a8"
             ],
             [
              0.3333333333333333,
              "#9c179e"
             ],
             [
              0.4444444444444444,
              "#bd3786"
             ],
             [
              0.5555555555555556,
              "#d8576b"
             ],
             [
              0.6666666666666666,
              "#ed7953"
             ],
             [
              0.7777777777777778,
              "#fb9f3a"
             ],
             [
              0.8888888888888888,
              "#fdca26"
             ],
             [
              1,
              "#f0f921"
             ]
            ],
            "type": "histogram2dcontour"
           }
          ],
          "mesh3d": [
           {
            "colorbar": {
             "outlinewidth": 0,
             "ticks": ""
            },
            "type": "mesh3d"
           }
          ],
          "parcoords": [
           {
            "line": {
             "colorbar": {
              "outlinewidth": 0,
              "ticks": ""
             }
            },
            "type": "parcoords"
           }
          ],
          "pie": [
           {
            "automargin": true,
            "type": "pie"
           }
          ],
          "scatter": [
           {
            "marker": {
             "colorbar": {
              "outlinewidth": 0,
              "ticks": ""
             }
            },
            "type": "scatter"
           }
          ],
          "scatter3d": [
           {
            "line": {
             "colorbar": {
              "outlinewidth": 0,
              "ticks": ""
             }
            },
            "marker": {
             "colorbar": {
              "outlinewidth": 0,
              "ticks": ""
             }
            },
            "type": "scatter3d"
           }
          ],
          "scattercarpet": [
           {
            "marker": {
             "colorbar": {
              "outlinewidth": 0,
              "ticks": ""
             }
            },
            "type": "scattercarpet"
           }
          ],
          "scattergeo": [
           {
            "marker": {
             "colorbar": {
              "outlinewidth": 0,
              "ticks": ""
             }
            },
            "type": "scattergeo"
           }
          ],
          "scattergl": [
           {
            "marker": {
             "colorbar": {
              "outlinewidth": 0,
              "ticks": ""
             }
            },
            "type": "scattergl"
           }
          ],
          "scattermapbox": [
           {
            "marker": {
             "colorbar": {
              "outlinewidth": 0,
              "ticks": ""
             }
            },
            "type": "scattermapbox"
           }
          ],
          "scatterpolar": [
           {
            "marker": {
             "colorbar": {
              "outlinewidth": 0,
              "ticks": ""
             }
            },
            "type": "scatterpolar"
           }
          ],
          "scatterpolargl": [
           {
            "marker": {
             "colorbar": {
              "outlinewidth": 0,
              "ticks": ""
             }
            },
            "type": "scatterpolargl"
           }
          ],
          "scatterternary": [
           {
            "marker": {
             "colorbar": {
              "outlinewidth": 0,
              "ticks": ""
             }
            },
            "type": "scatterternary"
           }
          ],
          "surface": [
           {
            "colorbar": {
             "outlinewidth": 0,
             "ticks": ""
            },
            "colorscale": [
             [
              0,
              "#0d0887"
             ],
             [
              0.1111111111111111,
              "#46039f"
             ],
             [
              0.2222222222222222,
              "#7201a8"
             ],
             [
              0.3333333333333333,
              "#9c179e"
             ],
             [
              0.4444444444444444,
              "#bd3786"
             ],
             [
              0.5555555555555556,
              "#d8576b"
             ],
             [
              0.6666666666666666,
              "#ed7953"
             ],
             [
              0.7777777777777778,
              "#fb9f3a"
             ],
             [
              0.8888888888888888,
              "#fdca26"
             ],
             [
              1,
              "#f0f921"
             ]
            ],
            "type": "surface"
           }
          ],
          "table": [
           {
            "cells": {
             "fill": {
              "color": "#EBF0F8"
             },
             "line": {
              "color": "white"
             }
            },
            "header": {
             "fill": {
              "color": "#C8D4E3"
             },
             "line": {
              "color": "white"
             }
            },
            "type": "table"
           }
          ]
         },
         "layout": {
          "annotationdefaults": {
           "arrowcolor": "#2a3f5f",
           "arrowhead": 0,
           "arrowwidth": 1
          },
          "coloraxis": {
           "colorbar": {
            "outlinewidth": 0,
            "ticks": ""
           }
          },
          "colorscale": {
           "diverging": [
            [
             0,
             "#8e0152"
            ],
            [
             0.1,
             "#c51b7d"
            ],
            [
             0.2,
             "#de77ae"
            ],
            [
             0.3,
             "#f1b6da"
            ],
            [
             0.4,
             "#fde0ef"
            ],
            [
             0.5,
             "#f7f7f7"
            ],
            [
             0.6,
             "#e6f5d0"
            ],
            [
             0.7,
             "#b8e186"
            ],
            [
             0.8,
             "#7fbc41"
            ],
            [
             0.9,
             "#4d9221"
            ],
            [
             1,
             "#276419"
            ]
           ],
           "sequential": [
            [
             0,
             "#0d0887"
            ],
            [
             0.1111111111111111,
             "#46039f"
            ],
            [
             0.2222222222222222,
             "#7201a8"
            ],
            [
             0.3333333333333333,
             "#9c179e"
            ],
            [
             0.4444444444444444,
             "#bd3786"
            ],
            [
             0.5555555555555556,
             "#d8576b"
            ],
            [
             0.6666666666666666,
             "#ed7953"
            ],
            [
             0.7777777777777778,
             "#fb9f3a"
            ],
            [
             0.8888888888888888,
             "#fdca26"
            ],
            [
             1,
             "#f0f921"
            ]
           ],
           "sequentialminus": [
            [
             0,
             "#0d0887"
            ],
            [
             0.1111111111111111,
             "#46039f"
            ],
            [
             0.2222222222222222,
             "#7201a8"
            ],
            [
             0.3333333333333333,
             "#9c179e"
            ],
            [
             0.4444444444444444,
             "#bd3786"
            ],
            [
             0.5555555555555556,
             "#d8576b"
            ],
            [
             0.6666666666666666,
             "#ed7953"
            ],
            [
             0.7777777777777778,
             "#fb9f3a"
            ],
            [
             0.8888888888888888,
             "#fdca26"
            ],
            [
             1,
             "#f0f921"
            ]
           ]
          },
          "colorway": [
           "#636efa",
           "#EF553B",
           "#00cc96",
           "#ab63fa",
           "#FFA15A",
           "#19d3f3",
           "#FF6692",
           "#B6E880",
           "#FF97FF",
           "#FECB52"
          ],
          "font": {
           "color": "#2a3f5f"
          },
          "geo": {
           "bgcolor": "white",
           "lakecolor": "white",
           "landcolor": "#E5ECF6",
           "showlakes": true,
           "showland": true,
           "subunitcolor": "white"
          },
          "hoverlabel": {
           "align": "left"
          },
          "hovermode": "closest",
          "mapbox": {
           "style": "light"
          },
          "paper_bgcolor": "white",
          "plot_bgcolor": "#E5ECF6",
          "polar": {
           "angularaxis": {
            "gridcolor": "white",
            "linecolor": "white",
            "ticks": ""
           },
           "bgcolor": "#E5ECF6",
           "radialaxis": {
            "gridcolor": "white",
            "linecolor": "white",
            "ticks": ""
           }
          },
          "scene": {
           "xaxis": {
            "backgroundcolor": "#E5ECF6",
            "gridcolor": "white",
            "gridwidth": 2,
            "linecolor": "white",
            "showbackground": true,
            "ticks": "",
            "zerolinecolor": "white"
           },
           "yaxis": {
            "backgroundcolor": "#E5ECF6",
            "gridcolor": "white",
            "gridwidth": 2,
            "linecolor": "white",
            "showbackground": true,
            "ticks": "",
            "zerolinecolor": "white"
           },
           "zaxis": {
            "backgroundcolor": "#E5ECF6",
            "gridcolor": "white",
            "gridwidth": 2,
            "linecolor": "white",
            "showbackground": true,
            "ticks": "",
            "zerolinecolor": "white"
           }
          },
          "shapedefaults": {
           "line": {
            "color": "#2a3f5f"
           }
          },
          "ternary": {
           "aaxis": {
            "gridcolor": "white",
            "linecolor": "white",
            "ticks": ""
           },
           "baxis": {
            "gridcolor": "white",
            "linecolor": "white",
            "ticks": ""
           },
           "bgcolor": "#E5ECF6",
           "caxis": {
            "gridcolor": "white",
            "linecolor": "white",
            "ticks": ""
           }
          },
          "title": {
           "x": 0.05
          },
          "xaxis": {
           "automargin": true,
           "gridcolor": "white",
           "linecolor": "white",
           "ticks": "",
           "title": {
            "standoff": 15
           },
           "zerolinecolor": "white",
           "zerolinewidth": 2
          },
          "yaxis": {
           "automargin": true,
           "gridcolor": "white",
           "linecolor": "white",
           "ticks": "",
           "title": {
            "standoff": 15
           },
           "zerolinecolor": "white",
           "zerolinewidth": 2
          }
         }
        },
        "title": {
         "font": {
          "color": "#4D5663"
         },
         "text": "Title Word Count Distribution"
        },
        "xaxis": {
         "gridcolor": "#E1E5ED",
         "linecolor": "black",
         "showgrid": true,
         "tickfont": {
          "color": "#4D5663"
         },
         "title": {
          "font": {
           "color": "#4D5663"
          },
          "text": "word count"
         },
         "zerolinecolor": "#E1E5ED"
        },
        "yaxis": {
         "gridcolor": "#E1E5ED",
         "linecolor": "black",
         "showgrid": true,
         "tickfont": {
          "color": "#4D5663"
         },
         "title": {
          "font": {
           "color": "#4D5663"
          },
          "text": "count"
         },
         "zerolinecolor": "#E1E5ED"
        }
       }
      },
      "text/html": [
       "<div>\n",
       "        \n",
       "        \n",
       "            <div id=\"ac5f4cab-f066-4516-8c18-85c6ad4869e1\" class=\"plotly-graph-div\" style=\"height:525px; width:100%;\"></div>\n",
       "            <script type=\"text/javascript\">\n",
       "                require([\"plotly\"], function(Plotly) {\n",
       "                    window.PLOTLYENV=window.PLOTLYENV || {};\n",
       "                    window.PLOTLYENV.BASE_URL='https://plot.ly';\n",
       "                    \n",
       "                if (document.getElementById(\"ac5f4cab-f066-4516-8c18-85c6ad4869e1\")) {\n",
       "                    Plotly.newPlot(\n",
       "                        'ac5f4cab-f066-4516-8c18-85c6ad4869e1',\n",
       "                        [{\"histfunc\": \"count\", \"histnorm\": \"\", \"marker\": {\"color\": \"rgba(255, 153, 51, 1.0)\", \"line\": {\"color\": \"#000000\", \"width\": 1.3}}, \"name\": \"title\", \"nbinsx\": 100, \"opacity\": 0.8, \"orientation\": \"v\", \"type\": \"histogram\", \"x\": [7, 5, 4, 1, 9, 11, 6, 4, 10, 4, 12, 9, 19, 6, 12, 8, 5, 7, 3, 5, 2, 6, 5, 8, 6, 5, 9, 5, 9, 12, 4, 3, 8, 4, 10, 6, 4, 4, 7, 8, 7, 4, 7, 8, 19, 6, 19, 4, 6, 4, 9, 16, 5, 7, 6, 7, 8, 7, 7, 7, 6, 5, 7, 11, 5, 16, 5, 6, 11, 7, 6, 4, 9, 5, 8, 6, 6, 10, 10, 8, 3, 16, 3, 5, 7, 9, 5, 9, 14, 5, 9, 5, 6, 11, 14, 8, 13, 8, 9, 8, 8, 10, 25, 3, 12, 5, 21, 8, 5, 6, 10, 4, 23, 9, 4, 4, 4, 7, 10, 4, 12, 7, 6, 18, 11, 3, 12, 7, 10, 4, 18, 11, 4, 5, 12, 10, 11, 6, 5, 9, 9, 9, 9, 21, 7, 8, 12, 10, 9, 19, 11, 10, 4, 7, 7, 6, 9, 6, 13, 10, 7, 6, 8, 5, 17, 5, 8, 6, 8, 6, 7, 2, 3, 14, 13, 6, 2, 9, 8, 8, 10, 12, 20, 4, 6, 7, 11, 6, 5, 6, 6, 3, 3, 5, 11, 16, 6, 10, 13, 17, 14, 11, 10, 5, 17, 13, 31, 11, 6, 10, 8, 10, 3, 9, 5, 8, 4, 5, 10, 6, 11, 9, 28, 11, 6, 18, 9, 8, 10, 8, 13, 7, 7, 27, 16, 5, 12, 28, 3, 12, 9, 8, 14, 10, 3, 7, 12, 5, 11, 6, 9, 7, 26, 10, 12, 3, 2, 8, 11, 26, 11, 8, 10, 12, 12, 8, 5, 11, 11, 13, 27, 8, 9, 8, 9, 5, 14, 1, 5, 11, 10, 8, 7, 13, 10, 7, 3, 11, 8, 7, 9, 13, 11, 8, 8, 7, 9, 6, 8, 9, 7, 7, 8, 12, 8, 8, 9, 10, 4, 7, 9, 7, 11, 8, 7, 14, 9, 5, 25, 10, 9, 5, 2, 10, 9, 7, 13, 5, 6, 21, 16, 6, 10, 3, 8, 8, 9, 6, 4, 9, 4, 2, 4, 3, 3, 8, 9, 6, 7, 6, 5, 5, 5, 13, 13, 9, 1, 4, 5, 3, 9, 20, 4, 9, 6, 4, 3, 7, 15, 11, 3, 11, 12, 8, 4, 4, 6, 9, 6, 11, 18, 7, 12, 12, 8, 7, 6, 12, 7, 6, 7, 2, 11, 8, 3, 6, 6, 3, 2, 13, 2, 4, 5, 19, 5, 6, 4, 3, 4, 11, 6, 7, 8, 8, 6, 6, 7, 7, 18, 8, 9, 7, 11, 7, 6, 15, 13, 6, 4, 4, 4, 20, 7, 6, 8, 7, 10, 3, 11, 4, 3, 6, 5, 11, 8, 11, 6, 22, 9, 4, 8, 6, 13, 8, 6, 8, 7, 10, 9, 8, 9, 6, 6, 7, 4, 6, 10, 8, 7, 8, 7, 10, 9, 4, 5, 2, 9, 10, 8, 10, 10, 18, 5, 10, 6, 9, 7, 16, 9, 11, 10, 12, 10, 5, 13, 17, 8, 19, 9, 9, 16, 5, 9, 11, 9, 7, 8, 6, 12, 9, 2, 10, 7, 16, 7, 8, 3, 6, 12, 17, 16, 5, 7, 8, 10, 7, 4, 3, 23, 4, 7, 15, 8, 12, 8, 6, 23, 7, 8, 4, 5, 6, 7, 8, 5, 4, 4, 8, 8, 9, 10, 3, 10, 10, 11, 9, 16, 14, 9, 11, 11, 14, 8, 11, 5, 6, 10, 1, 5, 6, 14, 7, 10, 8, 5, 4, 4, 5, 29, 9, 12, 9, 10, 13, 9, 23, 11, 9, 4, 27, 6, 3, 7, 8, 11, 17, 3, 8, 12, 9, 8, 8, 6, 11, 13, 22, 10, 7, 2, 6, 5, 11, 9, 9, 9, 10, 8, 9, 9, 7, 7, 5, 12, 7, 6, 14, 28, 11, 10, 9, 7, 9, 8, 14, 10, 6, 12, 9, 6, 5, 7, 7, 8, 6, 3, 6, 8, 5, 6, 2, 9, 30, 7, 23, 15, 17, 6, 19, 3, 4, 21, 6, 4, 18, 14, 5, 4, 6, 10, 14, 7, 10, 6, 1, 16, 7, 4, 8, 2, 18, 8, 4, 10, 6, 13, 10, 7, 1, 4, 4, 8, 10, 7, 8, 10, 9, 10, 3, 8, 6, 4, 6, 2, 5, 6, 4, 12, 4, 9, 8, 10, 8, 9, 12, 8, 8, 9, 6, 5, 10, 10, 7, 10, 7, 10, 11, 11, 7, 11, 5, 5, 8, 11, 5, 10, 14, 9, 22, 9, 9, 6, 5, 6, 7, 8, 13, 9, 4, 15, 13, 8, 11, 3, 19, 6, 19, 8, 18, 6, 4, 10, 9, 7, 7, 6, 4, 12, 3, 8, 7, 9, 5, 5, 10, 9, 6, 9, 13, 9, 6, 10, 6, 3, 12, 12, 9, 13, 10, 13, 21, 9, 6, 6, 7, 5, 4, 7, 9, 7, 2, 10, 8, 10, 7, 8, 6, 7, 14, 10, 8, 7, 7, 7, 9, 8, 7, 11, 3, 5, 4, 24, 3, 5, 14, 8, 9, 3, 11, 5, 17, 23, 10, 5, 9, 3, 7, 7, 15, 4, 28, 4, 12, 5, 5, 5, 10, 9, 3, 12, 8, 9, 5, 3, 9, 4, 7, 6, 6, 13, 15, 30, 8, 10, 4, 9, 9, 7, 19, 5, 10, 6, 28, 11, 6, 6, 6, 8, 10, 10, 25, 12, 10, 5, 10, 13, 16, 9, 13, 9, 7, 28, 10, 4, 10, 5, 8, 9, 22, 9, 6, 8, 8, 6, 6, 19, 11, 13, 11, 20, 3, 7, 9, 6, 7, 8, 11, 12, 3, 7, 5, 10, 17, 6, 6, 5, 29, 7, 17, 14, 18, 4, 7, 7, 13, 22, 5, 17, 14, 6, 6, 6, 9, 5, 12, 3, 4, 4, 4, 7, 3, 12, 14, 1, 8, 7, 4, 14, 12, 9, 5, 9, 7, 3, 2, 11, 10, 13, 9, 3, 7, 10, 25, 7, 13, 14, 9, 11, 20, 7, 9, 13, 4, 9, 8, 4, 16, 8, 12, 10, 3, 8, 1, 5, 6, 26, 2, 11, 15, 9, 2, 8, 4, 3, 2, 11, 10, 16, 9, 11, 6, 10, 4, 15, 4, 6, 5, 3, 11, 29, 9, 21, 7, 7, 11, 35, 10, 6, 3, 10, 8, 16, 14, 3, 31, 10, 10, 31, 3, 2, 6, 2, 11, 15, 17, 9, 30, 24, 9, 10, 10, 7, 5, 3, 31, 6, 5, 9, 6, 5, 11, 6, 3, 14, 13, 4, 2, 14, 5, 20, 4, 4, 6, 23, 5, 7, 16, 8, 3, 4, 5, 7, 10, 6, 5, 7, 5, 7, 11, 12, 3, 13, 8, 4, 4, 3, 13, 4, 9, 18, 8, 8, 26, 13, 4, 3, 10, 15, 7, 21, 5, 6, 10, 12, 10, 13, 15, 17]}],\n",
       "                        {\"barmode\": \"overlay\", \"legend\": {\"bgcolor\": \"#F5F6F9\", \"font\": {\"color\": \"#4D5663\"}}, \"paper_bgcolor\": \"#F5F6F9\", \"plot_bgcolor\": \"#F5F6F9\", \"template\": {\"data\": {\"bar\": [{\"error_x\": {\"color\": \"#2a3f5f\"}, \"error_y\": {\"color\": \"#2a3f5f\"}, \"marker\": {\"line\": {\"color\": \"#E5ECF6\", \"width\": 0.5}}, \"type\": \"bar\"}], \"barpolar\": [{\"marker\": {\"line\": {\"color\": \"#E5ECF6\", \"width\": 0.5}}, \"type\": \"barpolar\"}], \"carpet\": [{\"aaxis\": {\"endlinecolor\": \"#2a3f5f\", \"gridcolor\": \"white\", \"linecolor\": \"white\", \"minorgridcolor\": \"white\", \"startlinecolor\": \"#2a3f5f\"}, \"baxis\": {\"endlinecolor\": \"#2a3f5f\", \"gridcolor\": \"white\", \"linecolor\": \"white\", \"minorgridcolor\": \"white\", \"startlinecolor\": \"#2a3f5f\"}, \"type\": \"carpet\"}], \"choropleth\": [{\"colorbar\": {\"outlinewidth\": 0, \"ticks\": \"\"}, \"type\": \"choropleth\"}], \"contour\": [{\"colorbar\": {\"outlinewidth\": 0, \"ticks\": \"\"}, \"colorscale\": [[0.0, \"#0d0887\"], [0.1111111111111111, \"#46039f\"], [0.2222222222222222, \"#7201a8\"], [0.3333333333333333, \"#9c179e\"], [0.4444444444444444, \"#bd3786\"], [0.5555555555555556, \"#d8576b\"], [0.6666666666666666, \"#ed7953\"], [0.7777777777777778, \"#fb9f3a\"], [0.8888888888888888, \"#fdca26\"], [1.0, \"#f0f921\"]], \"type\": \"contour\"}], \"contourcarpet\": [{\"colorbar\": {\"outlinewidth\": 0, \"ticks\": \"\"}, \"type\": \"contourcarpet\"}], \"heatmap\": [{\"colorbar\": {\"outlinewidth\": 0, \"ticks\": \"\"}, \"colorscale\": [[0.0, \"#0d0887\"], [0.1111111111111111, \"#46039f\"], [0.2222222222222222, \"#7201a8\"], [0.3333333333333333, \"#9c179e\"], [0.4444444444444444, \"#bd3786\"], [0.5555555555555556, \"#d8576b\"], [0.6666666666666666, \"#ed7953\"], [0.7777777777777778, \"#fb9f3a\"], [0.8888888888888888, \"#fdca26\"], [1.0, \"#f0f921\"]], \"type\": \"heatmap\"}], \"heatmapgl\": [{\"colorbar\": {\"outlinewidth\": 0, \"ticks\": \"\"}, \"colorscale\": [[0.0, \"#0d0887\"], [0.1111111111111111, \"#46039f\"], [0.2222222222222222, \"#7201a8\"], [0.3333333333333333, \"#9c179e\"], [0.4444444444444444, \"#bd3786\"], [0.5555555555555556, \"#d8576b\"], [0.6666666666666666, \"#ed7953\"], [0.7777777777777778, \"#fb9f3a\"], [0.8888888888888888, \"#fdca26\"], [1.0, \"#f0f921\"]], \"type\": \"heatmapgl\"}], \"histogram\": [{\"marker\": {\"colorbar\": {\"outlinewidth\": 0, \"ticks\": \"\"}}, \"type\": \"histogram\"}], \"histogram2d\": [{\"colorbar\": {\"outlinewidth\": 0, \"ticks\": \"\"}, \"colorscale\": [[0.0, \"#0d0887\"], [0.1111111111111111, \"#46039f\"], [0.2222222222222222, \"#7201a8\"], [0.3333333333333333, \"#9c179e\"], [0.4444444444444444, \"#bd3786\"], [0.5555555555555556, \"#d8576b\"], [0.6666666666666666, \"#ed7953\"], [0.7777777777777778, \"#fb9f3a\"], [0.8888888888888888, \"#fdca26\"], [1.0, \"#f0f921\"]], \"type\": \"histogram2d\"}], \"histogram2dcontour\": [{\"colorbar\": {\"outlinewidth\": 0, \"ticks\": \"\"}, \"colorscale\": [[0.0, \"#0d0887\"], [0.1111111111111111, \"#46039f\"], [0.2222222222222222, \"#7201a8\"], [0.3333333333333333, \"#9c179e\"], [0.4444444444444444, \"#bd3786\"], [0.5555555555555556, \"#d8576b\"], [0.6666666666666666, \"#ed7953\"], [0.7777777777777778, \"#fb9f3a\"], [0.8888888888888888, \"#fdca26\"], [1.0, \"#f0f921\"]], \"type\": \"histogram2dcontour\"}], \"mesh3d\": [{\"colorbar\": {\"outlinewidth\": 0, \"ticks\": \"\"}, \"type\": \"mesh3d\"}], \"parcoords\": [{\"line\": {\"colorbar\": {\"outlinewidth\": 0, \"ticks\": \"\"}}, \"type\": \"parcoords\"}], \"pie\": [{\"automargin\": true, \"type\": \"pie\"}], \"scatter\": [{\"marker\": {\"colorbar\": {\"outlinewidth\": 0, \"ticks\": \"\"}}, \"type\": \"scatter\"}], \"scatter3d\": [{\"line\": {\"colorbar\": {\"outlinewidth\": 0, \"ticks\": \"\"}}, \"marker\": {\"colorbar\": {\"outlinewidth\": 0, \"ticks\": \"\"}}, \"type\": \"scatter3d\"}], \"scattercarpet\": [{\"marker\": {\"colorbar\": {\"outlinewidth\": 0, \"ticks\": \"\"}}, \"type\": \"scattercarpet\"}], \"scattergeo\": [{\"marker\": {\"colorbar\": {\"outlinewidth\": 0, \"ticks\": \"\"}}, \"type\": \"scattergeo\"}], \"scattergl\": [{\"marker\": {\"colorbar\": {\"outlinewidth\": 0, \"ticks\": \"\"}}, \"type\": \"scattergl\"}], \"scattermapbox\": [{\"marker\": {\"colorbar\": {\"outlinewidth\": 0, \"ticks\": \"\"}}, \"type\": \"scattermapbox\"}], \"scatterpolar\": [{\"marker\": {\"colorbar\": {\"outlinewidth\": 0, \"ticks\": \"\"}}, \"type\": \"scatterpolar\"}], \"scatterpolargl\": [{\"marker\": {\"colorbar\": {\"outlinewidth\": 0, \"ticks\": \"\"}}, \"type\": \"scatterpolargl\"}], \"scatterternary\": [{\"marker\": {\"colorbar\": {\"outlinewidth\": 0, \"ticks\": \"\"}}, \"type\": \"scatterternary\"}], \"surface\": [{\"colorbar\": {\"outlinewidth\": 0, \"ticks\": \"\"}, \"colorscale\": [[0.0, \"#0d0887\"], [0.1111111111111111, \"#46039f\"], [0.2222222222222222, \"#7201a8\"], [0.3333333333333333, \"#9c179e\"], [0.4444444444444444, \"#bd3786\"], [0.5555555555555556, \"#d8576b\"], [0.6666666666666666, \"#ed7953\"], [0.7777777777777778, \"#fb9f3a\"], [0.8888888888888888, \"#fdca26\"], [1.0, \"#f0f921\"]], \"type\": \"surface\"}], \"table\": [{\"cells\": {\"fill\": {\"color\": \"#EBF0F8\"}, \"line\": {\"color\": \"white\"}}, \"header\": {\"fill\": {\"color\": \"#C8D4E3\"}, \"line\": {\"color\": \"white\"}}, \"type\": \"table\"}]}, \"layout\": {\"annotationdefaults\": {\"arrowcolor\": \"#2a3f5f\", \"arrowhead\": 0, \"arrowwidth\": 1}, \"coloraxis\": {\"colorbar\": {\"outlinewidth\": 0, \"ticks\": \"\"}}, \"colorscale\": {\"diverging\": [[0, \"#8e0152\"], [0.1, \"#c51b7d\"], [0.2, \"#de77ae\"], [0.3, \"#f1b6da\"], [0.4, \"#fde0ef\"], [0.5, \"#f7f7f7\"], [0.6, \"#e6f5d0\"], [0.7, \"#b8e186\"], [0.8, \"#7fbc41\"], [0.9, \"#4d9221\"], [1, \"#276419\"]], \"sequential\": [[0.0, \"#0d0887\"], [0.1111111111111111, \"#46039f\"], [0.2222222222222222, \"#7201a8\"], [0.3333333333333333, \"#9c179e\"], [0.4444444444444444, \"#bd3786\"], [0.5555555555555556, \"#d8576b\"], [0.6666666666666666, \"#ed7953\"], [0.7777777777777778, \"#fb9f3a\"], [0.8888888888888888, \"#fdca26\"], [1.0, \"#f0f921\"]], \"sequentialminus\": [[0.0, \"#0d0887\"], [0.1111111111111111, \"#46039f\"], [0.2222222222222222, \"#7201a8\"], [0.3333333333333333, \"#9c179e\"], [0.4444444444444444, \"#bd3786\"], [0.5555555555555556, \"#d8576b\"], [0.6666666666666666, \"#ed7953\"], [0.7777777777777778, \"#fb9f3a\"], [0.8888888888888888, \"#fdca26\"], [1.0, \"#f0f921\"]]}, \"colorway\": [\"#636efa\", \"#EF553B\", \"#00cc96\", \"#ab63fa\", \"#FFA15A\", \"#19d3f3\", \"#FF6692\", \"#B6E880\", \"#FF97FF\", \"#FECB52\"], \"font\": {\"color\": \"#2a3f5f\"}, \"geo\": {\"bgcolor\": \"white\", \"lakecolor\": \"white\", \"landcolor\": \"#E5ECF6\", \"showlakes\": true, \"showland\": true, \"subunitcolor\": \"white\"}, \"hoverlabel\": {\"align\": \"left\"}, \"hovermode\": \"closest\", \"mapbox\": {\"style\": \"light\"}, \"paper_bgcolor\": \"white\", \"plot_bgcolor\": \"#E5ECF6\", \"polar\": {\"angularaxis\": {\"gridcolor\": \"white\", \"linecolor\": \"white\", \"ticks\": \"\"}, \"bgcolor\": \"#E5ECF6\", \"radialaxis\": {\"gridcolor\": \"white\", \"linecolor\": \"white\", \"ticks\": \"\"}}, \"scene\": {\"xaxis\": {\"backgroundcolor\": \"#E5ECF6\", \"gridcolor\": \"white\", \"gridwidth\": 2, \"linecolor\": \"white\", \"showbackground\": true, \"ticks\": \"\", \"zerolinecolor\": \"white\"}, \"yaxis\": {\"backgroundcolor\": \"#E5ECF6\", \"gridcolor\": \"white\", \"gridwidth\": 2, \"linecolor\": \"white\", \"showbackground\": true, \"ticks\": \"\", \"zerolinecolor\": \"white\"}, \"zaxis\": {\"backgroundcolor\": \"#E5ECF6\", \"gridcolor\": \"white\", \"gridwidth\": 2, \"linecolor\": \"white\", \"showbackground\": true, \"ticks\": \"\", \"zerolinecolor\": \"white\"}}, \"shapedefaults\": {\"line\": {\"color\": \"#2a3f5f\"}}, \"ternary\": {\"aaxis\": {\"gridcolor\": \"white\", \"linecolor\": \"white\", \"ticks\": \"\"}, \"baxis\": {\"gridcolor\": \"white\", \"linecolor\": \"white\", \"ticks\": \"\"}, \"bgcolor\": \"#E5ECF6\", \"caxis\": {\"gridcolor\": \"white\", \"linecolor\": \"white\", \"ticks\": \"\"}}, \"title\": {\"x\": 0.05}, \"xaxis\": {\"automargin\": true, \"gridcolor\": \"white\", \"linecolor\": \"white\", \"ticks\": \"\", \"title\": {\"standoff\": 15}, \"zerolinecolor\": \"white\", \"zerolinewidth\": 2}, \"yaxis\": {\"automargin\": true, \"gridcolor\": \"white\", \"linecolor\": \"white\", \"ticks\": \"\", \"title\": {\"standoff\": 15}, \"zerolinecolor\": \"white\", \"zerolinewidth\": 2}}}, \"title\": {\"font\": {\"color\": \"#4D5663\"}, \"text\": \"Title Word Count Distribution\"}, \"xaxis\": {\"gridcolor\": \"#E1E5ED\", \"linecolor\": \"black\", \"showgrid\": true, \"tickfont\": {\"color\": \"#4D5663\"}, \"title\": {\"font\": {\"color\": \"#4D5663\"}, \"text\": \"word count\"}, \"zerolinecolor\": \"#E1E5ED\"}, \"yaxis\": {\"gridcolor\": \"#E1E5ED\", \"linecolor\": \"black\", \"showgrid\": true, \"tickfont\": {\"color\": \"#4D5663\"}, \"title\": {\"font\": {\"color\": \"#4D5663\"}, \"text\": \"count\"}, \"zerolinecolor\": \"#E1E5ED\"}},\n",
       "                        {\"showLink\": true, \"linkText\": \"Export to plot.ly\", \"plotlyServerURL\": \"https://plot.ly\", \"responsive\": true}\n",
       "                    ).then(function(){\n",
       "                            \n",
       "var gd = document.getElementById('ac5f4cab-f066-4516-8c18-85c6ad4869e1');\n",
       "var x = new MutationObserver(function (mutations, observer) {{\n",
       "        var display = window.getComputedStyle(gd).display;\n",
       "        if (!display || display === 'none') {{\n",
       "            console.log([gd, 'removed!']);\n",
       "            Plotly.purge(gd);\n",
       "            observer.disconnect();\n",
       "        }}\n",
       "}});\n",
       "\n",
       "// Listen for the removal of the full notebook cells\n",
       "var notebookContainer = gd.closest('#notebook-container');\n",
       "if (notebookContainer) {{\n",
       "    x.observe(notebookContainer, {childList: true});\n",
       "}}\n",
       "\n",
       "// Listen for the clearing of the current output cell\n",
       "var outputEl = gd.closest('.output');\n",
       "if (outputEl) {{\n",
       "    x.observe(outputEl, {childList: true});\n",
       "}}\n",
       "\n",
       "                        })\n",
       "                };\n",
       "                });\n",
       "            </script>\n",
       "        </div>"
      ]
     },
     "metadata": {},
     "output_type": "display_data"
    }
   ],
   "source": [
    "title_count = topics_data['title'].apply(lambda x: len(str(x).split()))\n",
    "title_count.iplot(\n",
    "    kind='hist',\n",
    "    bins=100,\n",
    "    xTitle='word count',\n",
    "    linecolor='black',\n",
    "    yTitle='count',\n",
    "    title='Title Word Count Distribution')"
   ]
  },
  {
   "cell_type": "markdown",
   "metadata": {},
   "source": [
    "### Length of url"
   ]
  },
  {
   "cell_type": "code",
   "execution_count": 37,
   "metadata": {},
   "outputs": [
    {
     "data": {
      "application/vnd.plotly.v1+json": {
       "config": {
        "linkText": "Export to plot.ly",
        "plotlyServerURL": "https://plot.ly",
        "showLink": true
       },
       "data": [
        {
         "histfunc": "count",
         "histnorm": "",
         "marker": {
          "color": "rgba(255, 153, 51, 1.0)",
          "line": {
           "color": "#000000",
           "width": 1.3
          }
         },
         "name": "url",
         "nbinsx": 100,
         "opacity": 0.8,
         "orientation": "v",
         "type": "histogram",
         "x": [
          94,
          97,
          82,
          61,
          90,
          96,
          97,
          95,
          95,
          83,
          97,
          96,
          93,
          91,
          93,
          94,
          91,
          95,
          80,
          75,
          74,
          92,
          83,
          90,
          87,
          90,
          95,
          84,
          91,
          97,
          78,
          67,
          97,
          73,
          93,
          96,
          96,
          96,
          94,
          97,
          89,
          97,
          90,
          95,
          95,
          89,
          92,
          96,
          27,
          87,
          97,
          96,
          92,
          95,
          97,
          97,
          88,
          94,
          94,
          93,
          81,
          94,
          92,
          94,
          90,
          27,
          94,
          94,
          97,
          95,
          97,
          93,
          91,
          88,
          94,
          96,
          96,
          97,
          91,
          92,
          80,
          95,
          80,
          76,
          92,
          96,
          82,
          97,
          25,
          92,
          95,
          96,
          91,
          89,
          94,
          89,
          97,
          87,
          97,
          97,
          95,
          96,
          97,
          35,
          28,
          35,
          86,
          96,
          95,
          94,
          97,
          93,
          94,
          97,
          24,
          90,
          34,
          25,
          92,
          34,
          91,
          27,
          88,
          95,
          122,
          35,
          30,
          95,
          35,
          25,
          96,
          52,
          24,
          34,
          110,
          88,
          34,
          96,
          98,
          97,
          95,
          72,
          94,
          85,
          94,
          88,
          97,
          96,
          26,
          30,
          92,
          145,
          96,
          90,
          97,
          28,
          92,
          95,
          87,
          22,
          117,
          109,
          91,
          90,
          95,
          92,
          96,
          83,
          43,
          97,
          31,
          30,
          24,
          96,
          94,
          31,
          30,
          94,
          94,
          43,
          96,
          95,
          31,
          78,
          97,
          24,
          87,
          30,
          83,
          30,
          92,
          30,
          95,
          77,
          95,
          96,
          92,
          43,
          93,
          93,
          97,
          97,
          93,
          89,
          96,
          97,
          94,
          95,
          83,
          96,
          94,
          150,
          62,
          107,
          87,
          93,
          53,
          35,
          118,
          94,
          97,
          128,
          153,
          206,
          94,
          100,
          92,
          113,
          121,
          70,
          91,
          96,
          91,
          130,
          82,
          93,
          146,
          126,
          25,
          124,
          117,
          35,
          169,
          124,
          81,
          88,
          31,
          35,
          114,
          106,
          110,
          90,
          95,
          108,
          124,
          92,
          71,
          96,
          94,
          62,
          130,
          100,
          135,
          97,
          147,
          114,
          90,
          120,
          146,
          150,
          68,
          105,
          105,
          124,
          121,
          109,
          171,
          34,
          34,
          136,
          134,
          96,
          131,
          157,
          149,
          92,
          99,
          116,
          94,
          125,
          129,
          105,
          139,
          92,
          110,
          115,
          135,
          95,
          92,
          110,
          108,
          98,
          94,
          166,
          97,
          90,
          135,
          114,
          83,
          87,
          97,
          173,
          132,
          91,
          86,
          91,
          119,
          35,
          35,
          31,
          104,
          93,
          35,
          35,
          120,
          35,
          35,
          94,
          25,
          132,
          27,
          25,
          30,
          25,
          35,
          35,
          35,
          93,
          85,
          95,
          96,
          31,
          35,
          72,
          25,
          31,
          64,
          32,
          96,
          35,
          25,
          32,
          94,
          25,
          34,
          91,
          24,
          43,
          25,
          89,
          24,
          29,
          95,
          95,
          93,
          83,
          56,
          86,
          95,
          96,
          92,
          141,
          96,
          96,
          95,
          84,
          125,
          90,
          92,
          96,
          57,
          72,
          24,
          93,
          161,
          103,
          138,
          30,
          34,
          132,
          129,
          25,
          133,
          30,
          76,
          43,
          86,
          71,
          30,
          92,
          65,
          24,
          93,
          30,
          182,
          24,
          91,
          59,
          25,
          93,
          91,
          24,
          95,
          32,
          93,
          30,
          91,
          109,
          48,
          158,
          76,
          119,
          95,
          128,
          117,
          55,
          46,
          95,
          90,
          97,
          83,
          87,
          95,
          93,
          96,
          94,
          96,
          68,
          97,
          93,
          71,
          106,
          92,
          112,
          108,
          35,
          135,
          35,
          96,
          85,
          111,
          92,
          168,
          103,
          87,
          149,
          105,
          126,
          25,
          145,
          43,
          88,
          37,
          88,
          64,
          102,
          128,
          100,
          117,
          96,
          136,
          126,
          143,
          100,
          95,
          30,
          98,
          162,
          135,
          116,
          118,
          86,
          115,
          142,
          144,
          96,
          103,
          59,
          163,
          124,
          168,
          142,
          176,
          109,
          139,
          61,
          93,
          57,
          112,
          127,
          190,
          103,
          161,
          69,
          95,
          128,
          80,
          124,
          51,
          92,
          71,
          48,
          96,
          54,
          111,
          142,
          84,
          35,
          135,
          61,
          187,
          35,
          105,
          28,
          153,
          118,
          25,
          35,
          121,
          35,
          35,
          109,
          106,
          145,
          109,
          110,
          136,
          149,
          129,
          81,
          78,
          107,
          97,
          95,
          97,
          93,
          93,
          95,
          121,
          129,
          128,
          89,
          177,
          136,
          95,
          104,
          95,
          91,
          61,
          143,
          114,
          191,
          96,
          143,
          88,
          35,
          123,
          70,
          78,
          94,
          35,
          109,
          97,
          130,
          96,
          97,
          89,
          96,
          61,
          113,
          97,
          88,
          115,
          105,
          192,
          123,
          124,
          122,
          31,
          55,
          94,
          79,
          28,
          133,
          120,
          92,
          35,
          169,
          115,
          43,
          155,
          96,
          95,
          138,
          143,
          127,
          219,
          103,
          35,
          35,
          85,
          134,
          112,
          111,
          132,
          154,
          43,
          107,
          128,
          95,
          94,
          94,
          135,
          140,
          85,
          96,
          54,
          155,
          119,
          148,
          150,
          125,
          111,
          152,
          159,
          105,
          122,
          90,
          150,
          94,
          142,
          121,
          121,
          106,
          70,
          97,
          138,
          103,
          128,
          60,
          93,
          52,
          124,
          120,
          54,
          116,
          96,
          121,
          69,
          81,
          95,
          94,
          87,
          93,
          90,
          92,
          81,
          94,
          96,
          97,
          93,
          95,
          97,
          58,
          94,
          95,
          82,
          94,
          64,
          96,
          94,
          92,
          90,
          97,
          95,
          96,
          88,
          67,
          83,
          97,
          93,
          96,
          96,
          96,
          95,
          95,
          96,
          76,
          93,
          90,
          82,
          95,
          66,
          85,
          86,
          88,
          96,
          97,
          94,
          94,
          96,
          92,
          95,
          93,
          98,
          97,
          95,
          95,
          96,
          112,
          51,
          96,
          116,
          134,
          169,
          117,
          49,
          138,
          81,
          35,
          101,
          142,
          169,
          135,
          109,
          91,
          132,
          104,
          115,
          163,
          77,
          90,
          98,
          119,
          119,
          95,
          117,
          196,
          88,
          157,
          85,
          149,
          68,
          99,
          193,
          91,
          121,
          87,
          69,
          95,
          124,
          97,
          69,
          97,
          119,
          95,
          94,
          68,
          166,
          102,
          119,
          94,
          101,
          121,
          156,
          51,
          69,
          104,
          159,
          95,
          119,
          117,
          86,
          94,
          30,
          75,
          60,
          178,
          96,
          134,
          147,
          94,
          31,
          121,
          102,
          24,
          98,
          148,
          130,
          72,
          142,
          136,
          149,
          120,
          210,
          94,
          103,
          95,
          113,
          135,
          136,
          106,
          141,
          43,
          134,
          134,
          93,
          35,
          35,
          35,
          35,
          81,
          117,
          35,
          35,
          133,
          35,
          148,
          31,
          97,
          50,
          130,
          92,
          119,
          82,
          92,
          145,
          94,
          75,
          35,
          84,
          31,
          96,
          77,
          76,
          153,
          130,
          65,
          94,
          35,
          92,
          86,
          69,
          103,
          79,
          35,
          27,
          35,
          28,
          145,
          50,
          35,
          121,
          35,
          122,
          119,
          94,
          19,
          91,
          94,
          35,
          141,
          96,
          27,
          35,
          85,
          35,
          96,
          35,
          35,
          35,
          95,
          87,
          95,
          127,
          97,
          95,
          287,
          93,
          95,
          68,
          112,
          35,
          94,
          91,
          147,
          132,
          54,
          99,
          82,
          96,
          97,
          120,
          62,
          95,
          160,
          163,
          228,
          93,
          35,
          92,
          87,
          94,
          125,
          178,
          94,
          182,
          35,
          35,
          88,
          124,
          35,
          97,
          124,
          25,
          35,
          116,
          35,
          214,
          31,
          85,
          85,
          31,
          35,
          115,
          93,
          108,
          176,
          42,
          105,
          35,
          93,
          35,
          95,
          72,
          35,
          35,
          35,
          35,
          77,
          35,
          89,
          63,
          128,
          96,
          35,
          105,
          144,
          35,
          35,
          143,
          35,
          82,
          35,
          128,
          175,
          96,
          92,
          35,
          105,
          97,
          35,
          29,
          96,
          112,
          92,
          29,
          35,
          84,
          104,
          131,
          80,
          150,
          97,
          35,
          95,
          148,
          124,
          135,
          71,
          113,
          25,
          94,
          96,
          119,
          35,
          95,
          95,
          114,
          60,
          35,
          78,
          82,
          58,
          88,
          168,
          97,
          154,
          111,
          91,
          119,
          84,
          90,
          90,
          97,
          98,
          73,
          93,
          125,
          43,
          96,
          83,
          83,
          95,
          95,
          97,
          93,
          79,
          106,
          95,
          94,
          97,
          79,
          94,
          93,
          96,
          95,
          35,
          28,
          89,
          57,
          93,
          35,
          95,
          97,
          91,
          95,
          97,
          104,
          97,
          93,
          87,
          74,
          97,
          83,
          85,
          88,
          96,
          75,
          91,
          86,
          68,
          54,
          55,
          83,
          66,
          91,
          24,
          97,
          78,
          30,
          97,
          94,
          84,
          77,
          95,
          94,
          35,
          84,
          86,
          95,
          97,
          91,
          91,
          214,
          25,
          89,
          92,
          92,
          70,
          31,
          94,
          70,
          82,
          83,
          130,
          76,
          93,
          97,
          96,
          96,
          87,
          97,
          28,
          80,
          41,
          96,
          106,
          93,
          76,
          95,
          59,
          71,
          95,
          96,
          94,
          93
         ]
        }
       ],
       "layout": {
        "barmode": "overlay",
        "legend": {
         "bgcolor": "#F5F6F9",
         "font": {
          "color": "#4D5663"
         }
        },
        "paper_bgcolor": "#F5F6F9",
        "plot_bgcolor": "#F5F6F9",
        "template": {
         "data": {
          "bar": [
           {
            "error_x": {
             "color": "#2a3f5f"
            },
            "error_y": {
             "color": "#2a3f5f"
            },
            "marker": {
             "line": {
              "color": "#E5ECF6",
              "width": 0.5
             }
            },
            "type": "bar"
           }
          ],
          "barpolar": [
           {
            "marker": {
             "line": {
              "color": "#E5ECF6",
              "width": 0.5
             }
            },
            "type": "barpolar"
           }
          ],
          "carpet": [
           {
            "aaxis": {
             "endlinecolor": "#2a3f5f",
             "gridcolor": "white",
             "linecolor": "white",
             "minorgridcolor": "white",
             "startlinecolor": "#2a3f5f"
            },
            "baxis": {
             "endlinecolor": "#2a3f5f",
             "gridcolor": "white",
             "linecolor": "white",
             "minorgridcolor": "white",
             "startlinecolor": "#2a3f5f"
            },
            "type": "carpet"
           }
          ],
          "choropleth": [
           {
            "colorbar": {
             "outlinewidth": 0,
             "ticks": ""
            },
            "type": "choropleth"
           }
          ],
          "contour": [
           {
            "colorbar": {
             "outlinewidth": 0,
             "ticks": ""
            },
            "colorscale": [
             [
              0,
              "#0d0887"
             ],
             [
              0.1111111111111111,
              "#46039f"
             ],
             [
              0.2222222222222222,
              "#7201a8"
             ],
             [
              0.3333333333333333,
              "#9c179e"
             ],
             [
              0.4444444444444444,
              "#bd3786"
             ],
             [
              0.5555555555555556,
              "#d8576b"
             ],
             [
              0.6666666666666666,
              "#ed7953"
             ],
             [
              0.7777777777777778,
              "#fb9f3a"
             ],
             [
              0.8888888888888888,
              "#fdca26"
             ],
             [
              1,
              "#f0f921"
             ]
            ],
            "type": "contour"
           }
          ],
          "contourcarpet": [
           {
            "colorbar": {
             "outlinewidth": 0,
             "ticks": ""
            },
            "type": "contourcarpet"
           }
          ],
          "heatmap": [
           {
            "colorbar": {
             "outlinewidth": 0,
             "ticks": ""
            },
            "colorscale": [
             [
              0,
              "#0d0887"
             ],
             [
              0.1111111111111111,
              "#46039f"
             ],
             [
              0.2222222222222222,
              "#7201a8"
             ],
             [
              0.3333333333333333,
              "#9c179e"
             ],
             [
              0.4444444444444444,
              "#bd3786"
             ],
             [
              0.5555555555555556,
              "#d8576b"
             ],
             [
              0.6666666666666666,
              "#ed7953"
             ],
             [
              0.7777777777777778,
              "#fb9f3a"
             ],
             [
              0.8888888888888888,
              "#fdca26"
             ],
             [
              1,
              "#f0f921"
             ]
            ],
            "type": "heatmap"
           }
          ],
          "heatmapgl": [
           {
            "colorbar": {
             "outlinewidth": 0,
             "ticks": ""
            },
            "colorscale": [
             [
              0,
              "#0d0887"
             ],
             [
              0.1111111111111111,
              "#46039f"
             ],
             [
              0.2222222222222222,
              "#7201a8"
             ],
             [
              0.3333333333333333,
              "#9c179e"
             ],
             [
              0.4444444444444444,
              "#bd3786"
             ],
             [
              0.5555555555555556,
              "#d8576b"
             ],
             [
              0.6666666666666666,
              "#ed7953"
             ],
             [
              0.7777777777777778,
              "#fb9f3a"
             ],
             [
              0.8888888888888888,
              "#fdca26"
             ],
             [
              1,
              "#f0f921"
             ]
            ],
            "type": "heatmapgl"
           }
          ],
          "histogram": [
           {
            "marker": {
             "colorbar": {
              "outlinewidth": 0,
              "ticks": ""
             }
            },
            "type": "histogram"
           }
          ],
          "histogram2d": [
           {
            "colorbar": {
             "outlinewidth": 0,
             "ticks": ""
            },
            "colorscale": [
             [
              0,
              "#0d0887"
             ],
             [
              0.1111111111111111,
              "#46039f"
             ],
             [
              0.2222222222222222,
              "#7201a8"
             ],
             [
              0.3333333333333333,
              "#9c179e"
             ],
             [
              0.4444444444444444,
              "#bd3786"
             ],
             [
              0.5555555555555556,
              "#d8576b"
             ],
             [
              0.6666666666666666,
              "#ed7953"
             ],
             [
              0.7777777777777778,
              "#fb9f3a"
             ],
             [
              0.8888888888888888,
              "#fdca26"
             ],
             [
              1,
              "#f0f921"
             ]
            ],
            "type": "histogram2d"
           }
          ],
          "histogram2dcontour": [
           {
            "colorbar": {
             "outlinewidth": 0,
             "ticks": ""
            },
            "colorscale": [
             [
              0,
              "#0d0887"
             ],
             [
              0.1111111111111111,
              "#46039f"
             ],
             [
              0.2222222222222222,
              "#7201a8"
             ],
             [
              0.3333333333333333,
              "#9c179e"
             ],
             [
              0.4444444444444444,
              "#bd3786"
             ],
             [
              0.5555555555555556,
              "#d8576b"
             ],
             [
              0.6666666666666666,
              "#ed7953"
             ],
             [
              0.7777777777777778,
              "#fb9f3a"
             ],
             [
              0.8888888888888888,
              "#fdca26"
             ],
             [
              1,
              "#f0f921"
             ]
            ],
            "type": "histogram2dcontour"
           }
          ],
          "mesh3d": [
           {
            "colorbar": {
             "outlinewidth": 0,
             "ticks": ""
            },
            "type": "mesh3d"
           }
          ],
          "parcoords": [
           {
            "line": {
             "colorbar": {
              "outlinewidth": 0,
              "ticks": ""
             }
            },
            "type": "parcoords"
           }
          ],
          "pie": [
           {
            "automargin": true,
            "type": "pie"
           }
          ],
          "scatter": [
           {
            "marker": {
             "colorbar": {
              "outlinewidth": 0,
              "ticks": ""
             }
            },
            "type": "scatter"
           }
          ],
          "scatter3d": [
           {
            "line": {
             "colorbar": {
              "outlinewidth": 0,
              "ticks": ""
             }
            },
            "marker": {
             "colorbar": {
              "outlinewidth": 0,
              "ticks": ""
             }
            },
            "type": "scatter3d"
           }
          ],
          "scattercarpet": [
           {
            "marker": {
             "colorbar": {
              "outlinewidth": 0,
              "ticks": ""
             }
            },
            "type": "scattercarpet"
           }
          ],
          "scattergeo": [
           {
            "marker": {
             "colorbar": {
              "outlinewidth": 0,
              "ticks": ""
             }
            },
            "type": "scattergeo"
           }
          ],
          "scattergl": [
           {
            "marker": {
             "colorbar": {
              "outlinewidth": 0,
              "ticks": ""
             }
            },
            "type": "scattergl"
           }
          ],
          "scattermapbox": [
           {
            "marker": {
             "colorbar": {
              "outlinewidth": 0,
              "ticks": ""
             }
            },
            "type": "scattermapbox"
           }
          ],
          "scatterpolar": [
           {
            "marker": {
             "colorbar": {
              "outlinewidth": 0,
              "ticks": ""
             }
            },
            "type": "scatterpolar"
           }
          ],
          "scatterpolargl": [
           {
            "marker": {
             "colorbar": {
              "outlinewidth": 0,
              "ticks": ""
             }
            },
            "type": "scatterpolargl"
           }
          ],
          "scatterternary": [
           {
            "marker": {
             "colorbar": {
              "outlinewidth": 0,
              "ticks": ""
             }
            },
            "type": "scatterternary"
           }
          ],
          "surface": [
           {
            "colorbar": {
             "outlinewidth": 0,
             "ticks": ""
            },
            "colorscale": [
             [
              0,
              "#0d0887"
             ],
             [
              0.1111111111111111,
              "#46039f"
             ],
             [
              0.2222222222222222,
              "#7201a8"
             ],
             [
              0.3333333333333333,
              "#9c179e"
             ],
             [
              0.4444444444444444,
              "#bd3786"
             ],
             [
              0.5555555555555556,
              "#d8576b"
             ],
             [
              0.6666666666666666,
              "#ed7953"
             ],
             [
              0.7777777777777778,
              "#fb9f3a"
             ],
             [
              0.8888888888888888,
              "#fdca26"
             ],
             [
              1,
              "#f0f921"
             ]
            ],
            "type": "surface"
           }
          ],
          "table": [
           {
            "cells": {
             "fill": {
              "color": "#EBF0F8"
             },
             "line": {
              "color": "white"
             }
            },
            "header": {
             "fill": {
              "color": "#C8D4E3"
             },
             "line": {
              "color": "white"
             }
            },
            "type": "table"
           }
          ]
         },
         "layout": {
          "annotationdefaults": {
           "arrowcolor": "#2a3f5f",
           "arrowhead": 0,
           "arrowwidth": 1
          },
          "coloraxis": {
           "colorbar": {
            "outlinewidth": 0,
            "ticks": ""
           }
          },
          "colorscale": {
           "diverging": [
            [
             0,
             "#8e0152"
            ],
            [
             0.1,
             "#c51b7d"
            ],
            [
             0.2,
             "#de77ae"
            ],
            [
             0.3,
             "#f1b6da"
            ],
            [
             0.4,
             "#fde0ef"
            ],
            [
             0.5,
             "#f7f7f7"
            ],
            [
             0.6,
             "#e6f5d0"
            ],
            [
             0.7,
             "#b8e186"
            ],
            [
             0.8,
             "#7fbc41"
            ],
            [
             0.9,
             "#4d9221"
            ],
            [
             1,
             "#276419"
            ]
           ],
           "sequential": [
            [
             0,
             "#0d0887"
            ],
            [
             0.1111111111111111,
             "#46039f"
            ],
            [
             0.2222222222222222,
             "#7201a8"
            ],
            [
             0.3333333333333333,
             "#9c179e"
            ],
            [
             0.4444444444444444,
             "#bd3786"
            ],
            [
             0.5555555555555556,
             "#d8576b"
            ],
            [
             0.6666666666666666,
             "#ed7953"
            ],
            [
             0.7777777777777778,
             "#fb9f3a"
            ],
            [
             0.8888888888888888,
             "#fdca26"
            ],
            [
             1,
             "#f0f921"
            ]
           ],
           "sequentialminus": [
            [
             0,
             "#0d0887"
            ],
            [
             0.1111111111111111,
             "#46039f"
            ],
            [
             0.2222222222222222,
             "#7201a8"
            ],
            [
             0.3333333333333333,
             "#9c179e"
            ],
            [
             0.4444444444444444,
             "#bd3786"
            ],
            [
             0.5555555555555556,
             "#d8576b"
            ],
            [
             0.6666666666666666,
             "#ed7953"
            ],
            [
             0.7777777777777778,
             "#fb9f3a"
            ],
            [
             0.8888888888888888,
             "#fdca26"
            ],
            [
             1,
             "#f0f921"
            ]
           ]
          },
          "colorway": [
           "#636efa",
           "#EF553B",
           "#00cc96",
           "#ab63fa",
           "#FFA15A",
           "#19d3f3",
           "#FF6692",
           "#B6E880",
           "#FF97FF",
           "#FECB52"
          ],
          "font": {
           "color": "#2a3f5f"
          },
          "geo": {
           "bgcolor": "white",
           "lakecolor": "white",
           "landcolor": "#E5ECF6",
           "showlakes": true,
           "showland": true,
           "subunitcolor": "white"
          },
          "hoverlabel": {
           "align": "left"
          },
          "hovermode": "closest",
          "mapbox": {
           "style": "light"
          },
          "paper_bgcolor": "white",
          "plot_bgcolor": "#E5ECF6",
          "polar": {
           "angularaxis": {
            "gridcolor": "white",
            "linecolor": "white",
            "ticks": ""
           },
           "bgcolor": "#E5ECF6",
           "radialaxis": {
            "gridcolor": "white",
            "linecolor": "white",
            "ticks": ""
           }
          },
          "scene": {
           "xaxis": {
            "backgroundcolor": "#E5ECF6",
            "gridcolor": "white",
            "gridwidth": 2,
            "linecolor": "white",
            "showbackground": true,
            "ticks": "",
            "zerolinecolor": "white"
           },
           "yaxis": {
            "backgroundcolor": "#E5ECF6",
            "gridcolor": "white",
            "gridwidth": 2,
            "linecolor": "white",
            "showbackground": true,
            "ticks": "",
            "zerolinecolor": "white"
           },
           "zaxis": {
            "backgroundcolor": "#E5ECF6",
            "gridcolor": "white",
            "gridwidth": 2,
            "linecolor": "white",
            "showbackground": true,
            "ticks": "",
            "zerolinecolor": "white"
           }
          },
          "shapedefaults": {
           "line": {
            "color": "#2a3f5f"
           }
          },
          "ternary": {
           "aaxis": {
            "gridcolor": "white",
            "linecolor": "white",
            "ticks": ""
           },
           "baxis": {
            "gridcolor": "white",
            "linecolor": "white",
            "ticks": ""
           },
           "bgcolor": "#E5ECF6",
           "caxis": {
            "gridcolor": "white",
            "linecolor": "white",
            "ticks": ""
           }
          },
          "title": {
           "x": 0.05
          },
          "xaxis": {
           "automargin": true,
           "gridcolor": "white",
           "linecolor": "white",
           "ticks": "",
           "title": {
            "standoff": 15
           },
           "zerolinecolor": "white",
           "zerolinewidth": 2
          },
          "yaxis": {
           "automargin": true,
           "gridcolor": "white",
           "linecolor": "white",
           "ticks": "",
           "title": {
            "standoff": 15
           },
           "zerolinecolor": "white",
           "zerolinewidth": 2
          }
         }
        },
        "title": {
         "font": {
          "color": "#4D5663"
         },
         "text": "Review url Length Distribution"
        },
        "xaxis": {
         "gridcolor": "#E1E5ED",
         "linecolor": "black",
         "showgrid": true,
         "tickfont": {
          "color": "#4D5663"
         },
         "title": {
          "font": {
           "color": "#4D5663"
          },
          "text": "length"
         },
         "zerolinecolor": "#E1E5ED"
        },
        "yaxis": {
         "gridcolor": "#E1E5ED",
         "linecolor": "black",
         "showgrid": true,
         "tickfont": {
          "color": "#4D5663"
         },
         "title": {
          "font": {
           "color": "#4D5663"
          },
          "text": "count"
         },
         "zerolinecolor": "#E1E5ED"
        }
       }
      },
      "text/html": [
       "<div>\n",
       "        \n",
       "        \n",
       "            <div id=\"d7295291-4c7e-46cd-8b97-d07dfd1a384e\" class=\"plotly-graph-div\" style=\"height:525px; width:100%;\"></div>\n",
       "            <script type=\"text/javascript\">\n",
       "                require([\"plotly\"], function(Plotly) {\n",
       "                    window.PLOTLYENV=window.PLOTLYENV || {};\n",
       "                    window.PLOTLYENV.BASE_URL='https://plot.ly';\n",
       "                    \n",
       "                if (document.getElementById(\"d7295291-4c7e-46cd-8b97-d07dfd1a384e\")) {\n",
       "                    Plotly.newPlot(\n",
       "                        'd7295291-4c7e-46cd-8b97-d07dfd1a384e',\n",
       "                        [{\"histfunc\": \"count\", \"histnorm\": \"\", \"marker\": {\"color\": \"rgba(255, 153, 51, 1.0)\", \"line\": {\"color\": \"#000000\", \"width\": 1.3}}, \"name\": \"url\", \"nbinsx\": 100, \"opacity\": 0.8, \"orientation\": \"v\", \"type\": \"histogram\", \"x\": [94, 97, 82, 61, 90, 96, 97, 95, 95, 83, 97, 96, 93, 91, 93, 94, 91, 95, 80, 75, 74, 92, 83, 90, 87, 90, 95, 84, 91, 97, 78, 67, 97, 73, 93, 96, 96, 96, 94, 97, 89, 97, 90, 95, 95, 89, 92, 96, 27, 87, 97, 96, 92, 95, 97, 97, 88, 94, 94, 93, 81, 94, 92, 94, 90, 27, 94, 94, 97, 95, 97, 93, 91, 88, 94, 96, 96, 97, 91, 92, 80, 95, 80, 76, 92, 96, 82, 97, 25, 92, 95, 96, 91, 89, 94, 89, 97, 87, 97, 97, 95, 96, 97, 35, 28, 35, 86, 96, 95, 94, 97, 93, 94, 97, 24, 90, 34, 25, 92, 34, 91, 27, 88, 95, 122, 35, 30, 95, 35, 25, 96, 52, 24, 34, 110, 88, 34, 96, 98, 97, 95, 72, 94, 85, 94, 88, 97, 96, 26, 30, 92, 145, 96, 90, 97, 28, 92, 95, 87, 22, 117, 109, 91, 90, 95, 92, 96, 83, 43, 97, 31, 30, 24, 96, 94, 31, 30, 94, 94, 43, 96, 95, 31, 78, 97, 24, 87, 30, 83, 30, 92, 30, 95, 77, 95, 96, 92, 43, 93, 93, 97, 97, 93, 89, 96, 97, 94, 95, 83, 96, 94, 150, 62, 107, 87, 93, 53, 35, 118, 94, 97, 128, 153, 206, 94, 100, 92, 113, 121, 70, 91, 96, 91, 130, 82, 93, 146, 126, 25, 124, 117, 35, 169, 124, 81, 88, 31, 35, 114, 106, 110, 90, 95, 108, 124, 92, 71, 96, 94, 62, 130, 100, 135, 97, 147, 114, 90, 120, 146, 150, 68, 105, 105, 124, 121, 109, 171, 34, 34, 136, 134, 96, 131, 157, 149, 92, 99, 116, 94, 125, 129, 105, 139, 92, 110, 115, 135, 95, 92, 110, 108, 98, 94, 166, 97, 90, 135, 114, 83, 87, 97, 173, 132, 91, 86, 91, 119, 35, 35, 31, 104, 93, 35, 35, 120, 35, 35, 94, 25, 132, 27, 25, 30, 25, 35, 35, 35, 93, 85, 95, 96, 31, 35, 72, 25, 31, 64, 32, 96, 35, 25, 32, 94, 25, 34, 91, 24, 43, 25, 89, 24, 29, 95, 95, 93, 83, 56, 86, 95, 96, 92, 141, 96, 96, 95, 84, 125, 90, 92, 96, 57, 72, 24, 93, 161, 103, 138, 30, 34, 132, 129, 25, 133, 30, 76, 43, 86, 71, 30, 92, 65, 24, 93, 30, 182, 24, 91, 59, 25, 93, 91, 24, 95, 32, 93, 30, 91, 109, 48, 158, 76, 119, 95, 128, 117, 55, 46, 95, 90, 97, 83, 87, 95, 93, 96, 94, 96, 68, 97, 93, 71, 106, 92, 112, 108, 35, 135, 35, 96, 85, 111, 92, 168, 103, 87, 149, 105, 126, 25, 145, 43, 88, 37, 88, 64, 102, 128, 100, 117, 96, 136, 126, 143, 100, 95, 30, 98, 162, 135, 116, 118, 86, 115, 142, 144, 96, 103, 59, 163, 124, 168, 142, 176, 109, 139, 61, 93, 57, 112, 127, 190, 103, 161, 69, 95, 128, 80, 124, 51, 92, 71, 48, 96, 54, 111, 142, 84, 35, 135, 61, 187, 35, 105, 28, 153, 118, 25, 35, 121, 35, 35, 109, 106, 145, 109, 110, 136, 149, 129, 81, 78, 107, 97, 95, 97, 93, 93, 95, 121, 129, 128, 89, 177, 136, 95, 104, 95, 91, 61, 143, 114, 191, 96, 143, 88, 35, 123, 70, 78, 94, 35, 109, 97, 130, 96, 97, 89, 96, 61, 113, 97, 88, 115, 105, 192, 123, 124, 122, 31, 55, 94, 79, 28, 133, 120, 92, 35, 169, 115, 43, 155, 96, 95, 138, 143, 127, 219, 103, 35, 35, 85, 134, 112, 111, 132, 154, 43, 107, 128, 95, 94, 94, 135, 140, 85, 96, 54, 155, 119, 148, 150, 125, 111, 152, 159, 105, 122, 90, 150, 94, 142, 121, 121, 106, 70, 97, 138, 103, 128, 60, 93, 52, 124, 120, 54, 116, 96, 121, 69, 81, 95, 94, 87, 93, 90, 92, 81, 94, 96, 97, 93, 95, 97, 58, 94, 95, 82, 94, 64, 96, 94, 92, 90, 97, 95, 96, 88, 67, 83, 97, 93, 96, 96, 96, 95, 95, 96, 76, 93, 90, 82, 95, 66, 85, 86, 88, 96, 97, 94, 94, 96, 92, 95, 93, 98, 97, 95, 95, 96, 112, 51, 96, 116, 134, 169, 117, 49, 138, 81, 35, 101, 142, 169, 135, 109, 91, 132, 104, 115, 163, 77, 90, 98, 119, 119, 95, 117, 196, 88, 157, 85, 149, 68, 99, 193, 91, 121, 87, 69, 95, 124, 97, 69, 97, 119, 95, 94, 68, 166, 102, 119, 94, 101, 121, 156, 51, 69, 104, 159, 95, 119, 117, 86, 94, 30, 75, 60, 178, 96, 134, 147, 94, 31, 121, 102, 24, 98, 148, 130, 72, 142, 136, 149, 120, 210, 94, 103, 95, 113, 135, 136, 106, 141, 43, 134, 134, 93, 35, 35, 35, 35, 81, 117, 35, 35, 133, 35, 148, 31, 97, 50, 130, 92, 119, 82, 92, 145, 94, 75, 35, 84, 31, 96, 77, 76, 153, 130, 65, 94, 35, 92, 86, 69, 103, 79, 35, 27, 35, 28, 145, 50, 35, 121, 35, 122, 119, 94, 19, 91, 94, 35, 141, 96, 27, 35, 85, 35, 96, 35, 35, 35, 95, 87, 95, 127, 97, 95, 287, 93, 95, 68, 112, 35, 94, 91, 147, 132, 54, 99, 82, 96, 97, 120, 62, 95, 160, 163, 228, 93, 35, 92, 87, 94, 125, 178, 94, 182, 35, 35, 88, 124, 35, 97, 124, 25, 35, 116, 35, 214, 31, 85, 85, 31, 35, 115, 93, 108, 176, 42, 105, 35, 93, 35, 95, 72, 35, 35, 35, 35, 77, 35, 89, 63, 128, 96, 35, 105, 144, 35, 35, 143, 35, 82, 35, 128, 175, 96, 92, 35, 105, 97, 35, 29, 96, 112, 92, 29, 35, 84, 104, 131, 80, 150, 97, 35, 95, 148, 124, 135, 71, 113, 25, 94, 96, 119, 35, 95, 95, 114, 60, 35, 78, 82, 58, 88, 168, 97, 154, 111, 91, 119, 84, 90, 90, 97, 98, 73, 93, 125, 43, 96, 83, 83, 95, 95, 97, 93, 79, 106, 95, 94, 97, 79, 94, 93, 96, 95, 35, 28, 89, 57, 93, 35, 95, 97, 91, 95, 97, 104, 97, 93, 87, 74, 97, 83, 85, 88, 96, 75, 91, 86, 68, 54, 55, 83, 66, 91, 24, 97, 78, 30, 97, 94, 84, 77, 95, 94, 35, 84, 86, 95, 97, 91, 91, 214, 25, 89, 92, 92, 70, 31, 94, 70, 82, 83, 130, 76, 93, 97, 96, 96, 87, 97, 28, 80, 41, 96, 106, 93, 76, 95, 59, 71, 95, 96, 94, 93]}],\n",
       "                        {\"barmode\": \"overlay\", \"legend\": {\"bgcolor\": \"#F5F6F9\", \"font\": {\"color\": \"#4D5663\"}}, \"paper_bgcolor\": \"#F5F6F9\", \"plot_bgcolor\": \"#F5F6F9\", \"template\": {\"data\": {\"bar\": [{\"error_x\": {\"color\": \"#2a3f5f\"}, \"error_y\": {\"color\": \"#2a3f5f\"}, \"marker\": {\"line\": {\"color\": \"#E5ECF6\", \"width\": 0.5}}, \"type\": \"bar\"}], \"barpolar\": [{\"marker\": {\"line\": {\"color\": \"#E5ECF6\", \"width\": 0.5}}, \"type\": \"barpolar\"}], \"carpet\": [{\"aaxis\": {\"endlinecolor\": \"#2a3f5f\", \"gridcolor\": \"white\", \"linecolor\": \"white\", \"minorgridcolor\": \"white\", \"startlinecolor\": \"#2a3f5f\"}, \"baxis\": {\"endlinecolor\": \"#2a3f5f\", \"gridcolor\": \"white\", \"linecolor\": \"white\", \"minorgridcolor\": \"white\", \"startlinecolor\": \"#2a3f5f\"}, \"type\": \"carpet\"}], \"choropleth\": [{\"colorbar\": {\"outlinewidth\": 0, \"ticks\": \"\"}, \"type\": \"choropleth\"}], \"contour\": [{\"colorbar\": {\"outlinewidth\": 0, \"ticks\": \"\"}, \"colorscale\": [[0.0, \"#0d0887\"], [0.1111111111111111, \"#46039f\"], [0.2222222222222222, \"#7201a8\"], [0.3333333333333333, \"#9c179e\"], [0.4444444444444444, \"#bd3786\"], [0.5555555555555556, \"#d8576b\"], [0.6666666666666666, \"#ed7953\"], [0.7777777777777778, \"#fb9f3a\"], [0.8888888888888888, \"#fdca26\"], [1.0, \"#f0f921\"]], \"type\": \"contour\"}], \"contourcarpet\": [{\"colorbar\": {\"outlinewidth\": 0, \"ticks\": \"\"}, \"type\": \"contourcarpet\"}], \"heatmap\": [{\"colorbar\": {\"outlinewidth\": 0, \"ticks\": \"\"}, \"colorscale\": [[0.0, \"#0d0887\"], [0.1111111111111111, \"#46039f\"], [0.2222222222222222, \"#7201a8\"], [0.3333333333333333, \"#9c179e\"], [0.4444444444444444, \"#bd3786\"], [0.5555555555555556, \"#d8576b\"], [0.6666666666666666, \"#ed7953\"], [0.7777777777777778, \"#fb9f3a\"], [0.8888888888888888, \"#fdca26\"], [1.0, \"#f0f921\"]], \"type\": \"heatmap\"}], \"heatmapgl\": [{\"colorbar\": {\"outlinewidth\": 0, \"ticks\": \"\"}, \"colorscale\": [[0.0, \"#0d0887\"], [0.1111111111111111, \"#46039f\"], [0.2222222222222222, \"#7201a8\"], [0.3333333333333333, \"#9c179e\"], [0.4444444444444444, \"#bd3786\"], [0.5555555555555556, \"#d8576b\"], [0.6666666666666666, \"#ed7953\"], [0.7777777777777778, \"#fb9f3a\"], [0.8888888888888888, \"#fdca26\"], [1.0, \"#f0f921\"]], \"type\": \"heatmapgl\"}], \"histogram\": [{\"marker\": {\"colorbar\": {\"outlinewidth\": 0, \"ticks\": \"\"}}, \"type\": \"histogram\"}], \"histogram2d\": [{\"colorbar\": {\"outlinewidth\": 0, \"ticks\": \"\"}, \"colorscale\": [[0.0, \"#0d0887\"], [0.1111111111111111, \"#46039f\"], [0.2222222222222222, \"#7201a8\"], [0.3333333333333333, \"#9c179e\"], [0.4444444444444444, \"#bd3786\"], [0.5555555555555556, \"#d8576b\"], [0.6666666666666666, \"#ed7953\"], [0.7777777777777778, \"#fb9f3a\"], [0.8888888888888888, \"#fdca26\"], [1.0, \"#f0f921\"]], \"type\": \"histogram2d\"}], \"histogram2dcontour\": [{\"colorbar\": {\"outlinewidth\": 0, \"ticks\": \"\"}, \"colorscale\": [[0.0, \"#0d0887\"], [0.1111111111111111, \"#46039f\"], [0.2222222222222222, \"#7201a8\"], [0.3333333333333333, \"#9c179e\"], [0.4444444444444444, \"#bd3786\"], [0.5555555555555556, \"#d8576b\"], [0.6666666666666666, \"#ed7953\"], [0.7777777777777778, \"#fb9f3a\"], [0.8888888888888888, \"#fdca26\"], [1.0, \"#f0f921\"]], \"type\": \"histogram2dcontour\"}], \"mesh3d\": [{\"colorbar\": {\"outlinewidth\": 0, \"ticks\": \"\"}, \"type\": \"mesh3d\"}], \"parcoords\": [{\"line\": {\"colorbar\": {\"outlinewidth\": 0, \"ticks\": \"\"}}, \"type\": \"parcoords\"}], \"pie\": [{\"automargin\": true, \"type\": \"pie\"}], \"scatter\": [{\"marker\": {\"colorbar\": {\"outlinewidth\": 0, \"ticks\": \"\"}}, \"type\": \"scatter\"}], \"scatter3d\": [{\"line\": {\"colorbar\": {\"outlinewidth\": 0, \"ticks\": \"\"}}, \"marker\": {\"colorbar\": {\"outlinewidth\": 0, \"ticks\": \"\"}}, \"type\": \"scatter3d\"}], \"scattercarpet\": [{\"marker\": {\"colorbar\": {\"outlinewidth\": 0, \"ticks\": \"\"}}, \"type\": \"scattercarpet\"}], \"scattergeo\": [{\"marker\": {\"colorbar\": {\"outlinewidth\": 0, \"ticks\": \"\"}}, \"type\": \"scattergeo\"}], \"scattergl\": [{\"marker\": {\"colorbar\": {\"outlinewidth\": 0, \"ticks\": \"\"}}, \"type\": \"scattergl\"}], \"scattermapbox\": [{\"marker\": {\"colorbar\": {\"outlinewidth\": 0, \"ticks\": \"\"}}, \"type\": \"scattermapbox\"}], \"scatterpolar\": [{\"marker\": {\"colorbar\": {\"outlinewidth\": 0, \"ticks\": \"\"}}, \"type\": \"scatterpolar\"}], \"scatterpolargl\": [{\"marker\": {\"colorbar\": {\"outlinewidth\": 0, \"ticks\": \"\"}}, \"type\": \"scatterpolargl\"}], \"scatterternary\": [{\"marker\": {\"colorbar\": {\"outlinewidth\": 0, \"ticks\": \"\"}}, \"type\": \"scatterternary\"}], \"surface\": [{\"colorbar\": {\"outlinewidth\": 0, \"ticks\": \"\"}, \"colorscale\": [[0.0, \"#0d0887\"], [0.1111111111111111, \"#46039f\"], [0.2222222222222222, \"#7201a8\"], [0.3333333333333333, \"#9c179e\"], [0.4444444444444444, \"#bd3786\"], [0.5555555555555556, \"#d8576b\"], [0.6666666666666666, \"#ed7953\"], [0.7777777777777778, \"#fb9f3a\"], [0.8888888888888888, \"#fdca26\"], [1.0, \"#f0f921\"]], \"type\": \"surface\"}], \"table\": [{\"cells\": {\"fill\": {\"color\": \"#EBF0F8\"}, \"line\": {\"color\": \"white\"}}, \"header\": {\"fill\": {\"color\": \"#C8D4E3\"}, \"line\": {\"color\": \"white\"}}, \"type\": \"table\"}]}, \"layout\": {\"annotationdefaults\": {\"arrowcolor\": \"#2a3f5f\", \"arrowhead\": 0, \"arrowwidth\": 1}, \"coloraxis\": {\"colorbar\": {\"outlinewidth\": 0, \"ticks\": \"\"}}, \"colorscale\": {\"diverging\": [[0, \"#8e0152\"], [0.1, \"#c51b7d\"], [0.2, \"#de77ae\"], [0.3, \"#f1b6da\"], [0.4, \"#fde0ef\"], [0.5, \"#f7f7f7\"], [0.6, \"#e6f5d0\"], [0.7, \"#b8e186\"], [0.8, \"#7fbc41\"], [0.9, \"#4d9221\"], [1, \"#276419\"]], \"sequential\": [[0.0, \"#0d0887\"], [0.1111111111111111, \"#46039f\"], [0.2222222222222222, \"#7201a8\"], [0.3333333333333333, \"#9c179e\"], [0.4444444444444444, \"#bd3786\"], [0.5555555555555556, \"#d8576b\"], [0.6666666666666666, \"#ed7953\"], [0.7777777777777778, \"#fb9f3a\"], [0.8888888888888888, \"#fdca26\"], [1.0, \"#f0f921\"]], \"sequentialminus\": [[0.0, \"#0d0887\"], [0.1111111111111111, \"#46039f\"], [0.2222222222222222, \"#7201a8\"], [0.3333333333333333, \"#9c179e\"], [0.4444444444444444, \"#bd3786\"], [0.5555555555555556, \"#d8576b\"], [0.6666666666666666, \"#ed7953\"], [0.7777777777777778, \"#fb9f3a\"], [0.8888888888888888, \"#fdca26\"], [1.0, \"#f0f921\"]]}, \"colorway\": [\"#636efa\", \"#EF553B\", \"#00cc96\", \"#ab63fa\", \"#FFA15A\", \"#19d3f3\", \"#FF6692\", \"#B6E880\", \"#FF97FF\", \"#FECB52\"], \"font\": {\"color\": \"#2a3f5f\"}, \"geo\": {\"bgcolor\": \"white\", \"lakecolor\": \"white\", \"landcolor\": \"#E5ECF6\", \"showlakes\": true, \"showland\": true, \"subunitcolor\": \"white\"}, \"hoverlabel\": {\"align\": \"left\"}, \"hovermode\": \"closest\", \"mapbox\": {\"style\": \"light\"}, \"paper_bgcolor\": \"white\", \"plot_bgcolor\": \"#E5ECF6\", \"polar\": {\"angularaxis\": {\"gridcolor\": \"white\", \"linecolor\": \"white\", \"ticks\": \"\"}, \"bgcolor\": \"#E5ECF6\", \"radialaxis\": {\"gridcolor\": \"white\", \"linecolor\": \"white\", \"ticks\": \"\"}}, \"scene\": {\"xaxis\": {\"backgroundcolor\": \"#E5ECF6\", \"gridcolor\": \"white\", \"gridwidth\": 2, \"linecolor\": \"white\", \"showbackground\": true, \"ticks\": \"\", \"zerolinecolor\": \"white\"}, \"yaxis\": {\"backgroundcolor\": \"#E5ECF6\", \"gridcolor\": \"white\", \"gridwidth\": 2, \"linecolor\": \"white\", \"showbackground\": true, \"ticks\": \"\", \"zerolinecolor\": \"white\"}, \"zaxis\": {\"backgroundcolor\": \"#E5ECF6\", \"gridcolor\": \"white\", \"gridwidth\": 2, \"linecolor\": \"white\", \"showbackground\": true, \"ticks\": \"\", \"zerolinecolor\": \"white\"}}, \"shapedefaults\": {\"line\": {\"color\": \"#2a3f5f\"}}, \"ternary\": {\"aaxis\": {\"gridcolor\": \"white\", \"linecolor\": \"white\", \"ticks\": \"\"}, \"baxis\": {\"gridcolor\": \"white\", \"linecolor\": \"white\", \"ticks\": \"\"}, \"bgcolor\": \"#E5ECF6\", \"caxis\": {\"gridcolor\": \"white\", \"linecolor\": \"white\", \"ticks\": \"\"}}, \"title\": {\"x\": 0.05}, \"xaxis\": {\"automargin\": true, \"gridcolor\": \"white\", \"linecolor\": \"white\", \"ticks\": \"\", \"title\": {\"standoff\": 15}, \"zerolinecolor\": \"white\", \"zerolinewidth\": 2}, \"yaxis\": {\"automargin\": true, \"gridcolor\": \"white\", \"linecolor\": \"white\", \"ticks\": \"\", \"title\": {\"standoff\": 15}, \"zerolinecolor\": \"white\", \"zerolinewidth\": 2}}}, \"title\": {\"font\": {\"color\": \"#4D5663\"}, \"text\": \"Review url Length Distribution\"}, \"xaxis\": {\"gridcolor\": \"#E1E5ED\", \"linecolor\": \"black\", \"showgrid\": true, \"tickfont\": {\"color\": \"#4D5663\"}, \"title\": {\"font\": {\"color\": \"#4D5663\"}, \"text\": \"length\"}, \"zerolinecolor\": \"#E1E5ED\"}, \"yaxis\": {\"gridcolor\": \"#E1E5ED\", \"linecolor\": \"black\", \"showgrid\": true, \"tickfont\": {\"color\": \"#4D5663\"}, \"title\": {\"font\": {\"color\": \"#4D5663\"}, \"text\": \"count\"}, \"zerolinecolor\": \"#E1E5ED\"}},\n",
       "                        {\"showLink\": true, \"linkText\": \"Export to plot.ly\", \"plotlyServerURL\": \"https://plot.ly\", \"responsive\": true}\n",
       "                    ).then(function(){\n",
       "                            \n",
       "var gd = document.getElementById('d7295291-4c7e-46cd-8b97-d07dfd1a384e');\n",
       "var x = new MutationObserver(function (mutations, observer) {{\n",
       "        var display = window.getComputedStyle(gd).display;\n",
       "        if (!display || display === 'none') {{\n",
       "            console.log([gd, 'removed!']);\n",
       "            Plotly.purge(gd);\n",
       "            observer.disconnect();\n",
       "        }}\n",
       "}});\n",
       "\n",
       "// Listen for the removal of the full notebook cells\n",
       "var notebookContainer = gd.closest('#notebook-container');\n",
       "if (notebookContainer) {{\n",
       "    x.observe(notebookContainer, {childList: true});\n",
       "}}\n",
       "\n",
       "// Listen for the clearing of the current output cell\n",
       "var outputEl = gd.closest('.output');\n",
       "if (outputEl) {{\n",
       "    x.observe(outputEl, {childList: true});\n",
       "}}\n",
       "\n",
       "                        })\n",
       "                };\n",
       "                });\n",
       "            </script>\n",
       "        </div>"
      ]
     },
     "metadata": {},
     "output_type": "display_data"
    }
   ],
   "source": [
    "length_url = topics_data['url'].astype(str).apply(len)\n",
    "length_url.iplot(\n",
    "    kind='hist',\n",
    "    bins=100,\n",
    "    xTitle='length',\n",
    "    linecolor='black',\n",
    "    yTitle='count',\n",
    "    title='Review url Length Distribution')"
   ]
  },
  {
   "cell_type": "markdown",
   "metadata": {},
   "source": [
    "The above plots show that, most posts have a very small number of comments and a small body size. But there are a few anamolies. a few posts have a lot more number of comments or a long body.\n",
    "\n",
    "Moreover, we can see that title and urls length is relatively much smaller, compact and represents the content. therefore can be a good starting point to begin with."
   ]
  },
  {
   "cell_type": "markdown",
   "metadata": {},
   "source": [
    "## Topic 3 - Building a flare detector\n",
    "\n",
    "In this part a few classifiers are implemented using sklearn. Here are the few classifiers implemented\n",
    "\n",
    "1) Naive Bayes <br/>\n",
    "2) SVMs <br/>\n",
    "3) Logistic Regression <br/>\n",
    "4) Random Forests <br/>\n",
    "5) Multi layer perceptron <br/>\n",
    "\n",
    "Note: RNNs like LSTMs are not used as the trained models of those are large and heavy and is not possible to host in free platforms like Heroku due to size constraints. Moreover, General machine learning algorithms like those implemented here can give reasonable results."
   ]
  },
  {
   "cell_type": "markdown",
   "metadata": {},
   "source": [
    "### Naive Bayes"
   ]
  },
  {
   "cell_type": "code",
   "execution_count": null,
   "metadata": {},
   "outputs": [],
   "source": [
    "def nb_classifier(X_train, X_test, y_train, y_test):\n",
    "  \n",
    "  from sklearn.naive_bayes import MultinomialNB\n",
    "\n",
    "  nb = Pipeline([('vect', CountVectorizer()), ('tfidf', TfidfTransformer()), ('clf', MultinomialNB()),])\n",
    "\n",
    "  nb.fit(X_train, y_train)\n",
    "\n",
    "  y_pred = nb.predict(X_test)\n",
    "\n",
    "  print('accuracy %s' % accuracy_score(y_pred, y_test))\n",
    "  print(classification_report(y_test, y_pred,target_names=flairs))"
   ]
  },
  {
   "cell_type": "markdown",
   "metadata": {},
   "source": [
    "### SVM"
   ]
  },
  {
   "cell_type": "code",
   "execution_count": null,
   "metadata": {},
   "outputs": [],
   "source": [
    "def linear_svm(X_train, X_test, y_train, y_test):\n",
    "  \n",
    "  from sklearn.linear_model import SGDClassifier\n",
    "\n",
    "  sgd = Pipeline([('vect', CountVectorizer()), ('tfidf', TfidfTransformer()), ('clf', SGDClassifier(loss='hinge', penalty='l2',alpha=1e-3, random_state=42, max_iter=5, tol=None)),])\n",
    "\n",
    "  sgd.fit(X_train, y_train)\n",
    "\n",
    "  y_pred = sgd.predict(X_test)\n",
    "\n",
    "  print('accuracy %s' % accuracy_score(y_pred, y_test))\n",
    "  print(classification_report(y_test, y_pred,target_names=flairs))"
   ]
  },
  {
   "cell_type": "markdown",
   "metadata": {},
   "source": [
    "### Logistic Regression"
   ]
  },
  {
   "cell_type": "code",
   "execution_count": null,
   "metadata": {},
   "outputs": [],
   "source": [
    "def logisticreg(X_train, X_test, y_train, y_test):\n",
    "\n",
    "  from sklearn.linear_model import LogisticRegression\n",
    "\n",
    "  logreg = Pipeline([('vect', CountVectorizer()), ('tfidf', TfidfTransformer()), ('clf', LogisticRegression(n_jobs=1, C=1e5)), ])\n",
    "    \n",
    "  logreg.fit(X_train, y_train)\n",
    "\n",
    "  y_pred = logreg.predict(X_test)\n",
    "\n",
    "  print('accuracy %s' % accuracy_score(y_pred, y_test))\n",
    "  print(classification_report(y_test, y_pred,target_names=flairs))"
   ]
  },
  {
   "cell_type": "markdown",
   "metadata": {},
   "source": [
    "### Random Forests"
   ]
  },
  {
   "cell_type": "code",
   "execution_count": null,
   "metadata": {},
   "outputs": [],
   "source": [
    "def randomforest(X_train, X_test, y_train, y_test):\n",
    "  \n",
    "  from sklearn.ensemble import RandomForestClassifier\n",
    "  \n",
    "  ranfor = Pipeline([('vect', CountVectorizer()), ('tfidf', TfidfTransformer()), ('clf', RandomForestClassifier(n_estimators = 1000, random_state = 42)), ])\n",
    "    \n",
    "  ranfor.fit(X_train, y_train)\n",
    "\n",
    "  y_pred = ranfor.predict(X_test)\n",
    "\n",
    "  print('accuracy %s' % accuracy_score(y_pred, y_test))\n",
    "  print(classification_report(y_test, y_pred,target_names=flairs))"
   ]
  },
  {
   "cell_type": "markdown",
   "metadata": {},
   "source": [
    "### Multi Layer Perceptron"
   ]
  },
  {
   "cell_type": "code",
   "execution_count": null,
   "metadata": {},
   "outputs": [],
   "source": [
    "def mlpclassifier(X_train, X_test, y_train, y_test):\n",
    "  \n",
    "  from sklearn.neural_network import MLPClassifier\n",
    "  \n",
    "  mlp = Pipeline([('vect', CountVectorizer()), ('tfidf', TfidfTransformer()), ('clf', MLPClassifier(hidden_layer_sizes=(30,30,30))), ])\n",
    "    \n",
    "  mlp.fit(X_train, y_train)\n",
    "\n",
    "  y_pred = mlp.predict(X_test)\n",
    "\n",
    "  print('accuracy %s' % accuracy_score(y_pred, y_test))\n",
    "  print(classification_report(y_test, y_pred,target_names=flairs))"
   ]
  },
  {
   "cell_type": "markdown",
   "metadata": {},
   "source": [
    "## Training\n",
    "\n",
    "The following function is to train the data on different classifiers"
   ]
  },
  {
   "cell_type": "code",
   "execution_count": null,
   "metadata": {},
   "outputs": [],
   "source": [
    "def train_test(X,y):\n",
    " \n",
    "  X_train, X_test, y_train, y_test = train_test_split(X, y, test_size=0.3, random_state = 42)\n",
    "\n",
    "  print(\"Results of Naive Bayes Classifier\")\n",
    "  nb_classifier(X_train, X_test, y_train, y_test)\n",
    "    \n",
    "  print(\"Results of Linear Support Vector Machine\")\n",
    "  linear_svm(X_train, X_test, y_train, y_test)\n",
    "    \n",
    "  print(\"Results of Logistic Regression\")\n",
    "  logisticreg(X_train, X_test, y_train, y_test)\n",
    "    \n",
    "  print(\"Results of Random Forest\")\n",
    "  randomforest(X_train, X_test, y_train, y_test)\n",
    "    \n",
    "  print(\"Results of MLP Classifier\")\n",
    "  mlpclassifier(X_train, X_test, y_train, y_test)"
   ]
  },
  {
   "cell_type": "markdown",
   "metadata": {},
   "source": [
    "## Main \n",
    "\n",
    "The following module trains the data using train_test function"
   ]
  },
  {
   "cell_type": "markdown",
   "metadata": {},
   "source": [
    "First, lets try to use the url as a feature"
   ]
  },
  {
   "cell_type": "code",
   "execution_count": null,
   "metadata": {},
   "outputs": [],
   "source": [
    "X = topics_data.url\n",
    "Y = topics_data.flair\n",
    "\n",
    "print(\"Flair Detection using url as Feature\")\n",
    "train_test(X, Y)"
   ]
  },
  {
   "cell_type": "markdown",
   "metadata": {},
   "source": [
    "## Accuracy\n",
    "\n",
    "|Algorithm          |Accuracy|\n",
    "|-------------------|------|\n",
    "| Bayes             | 0.32 |\n",
    "| SVM               | 0.41 |\n",
    "| Linear Regression | 0.39 |\n",
    "| Random Forests    | 0.32 |\n",
    "| MLP               | 0.34 |\n",
    "\n",
    "The best accuracy here is 0.41 from SVM. Now to try improve the accuracy, let's try to use title as a feature to the various classifiers."
   ]
  },
  {
   "cell_type": "code",
   "execution_count": null,
   "metadata": {},
   "outputs": [],
   "source": [
    "X = topics_data.title\n",
    "Y = topics_data.flair\n",
    "\n",
    "print(\"Flair Detection using Title as Feature\")\n",
    "train_test(X, Y)"
   ]
  },
  {
   "cell_type": "markdown",
   "metadata": {},
   "source": [
    "## Accuracy\n",
    "\n",
    "|Algorithm          |Accuracy|\n",
    "|-------------------|------|\n",
    "| Bayes             | 0.62 |\n",
    "| SVM               | 0.64 |\n",
    "| Linear Regression | 0.65 |\n",
    "| Random Forests    | 0.63 |\n",
    "| MLP               | 0.52 |\n",
    "\n",
    "The best accuracy here is -------. Now to try improve the accuracy, lets try using the body of the posts for flare detection."
   ]
  },
  {
   "cell_type": "code",
   "execution_count": null,
   "metadata": {},
   "outputs": [],
   "source": [
    "X = topics_data.body\n",
    "Y = topics_data.flair\n",
    "\n",
    "print(\"Flair Detection using body as Feature\")\n",
    "train_test(X, Y)"
   ]
  },
  {
   "cell_type": "markdown",
   "metadata": {},
   "source": [
    "\n",
    "## Accuracy\n",
    "\n",
    "|Algorithm          |Accuracy|\n",
    "|-------------------|------|\n",
    "| Bayes             | 0.22 |\n",
    "| SVM               | 0.26 |\n",
    "| Linear Regression | 0.28 |\n",
    "| Random Forests    | 0.31 |\n",
    "| MLP               | 0.24 |\n",
    "\n",
    "The best accuracy here is 0.31 with random forests. It performed very poorly than the title as a feature. This might be because the body coudnt be fit in the models we used. Therefore lets not include body as a feature."
   ]
  },
  {
   "cell_type": "code",
   "execution_count": null,
   "metadata": {},
   "outputs": [],
   "source": [
    "X = topics_data.comments\n",
    "Y = topics_data.flair\n",
    "\n",
    "print(\"Flair Detection using comments as Feature\")\n",
    "train_test(X, Y)"
   ]
  },
  {
   "cell_type": "markdown",
   "metadata": {},
   "source": [
    "## Accuracy\n",
    "\n",
    "|Algorithm          |Accuracy|\n",
    "|-------------------|------|\n",
    "| Bayes             | 0.57 |\n",
    "| SVM               | 0.65 |\n",
    "| Linear Regression | 0.68 |\n",
    "| Random Forests    | 0.65 |\n",
    "| MLP               | 0.47 |\n",
    "\n",
    "The best accuracy here is 0.68 with linear regression. It performed at a par with title. Still, the accuracy is not good enough. So lets try multiple features combined and train on those. \n",
    "As body is not giving good accuracy, lets not include it. So lets use title, url and comments as a feature and train on the entworks discussed earlier."
   ]
  },
  {
   "cell_type": "code",
   "execution_count": null,
   "metadata": {},
   "outputs": [],
   "source": [
    "X = topics_data.feature_combine\n",
    "Y = topics_data.flair\n",
    "\n",
    "print(\"Flair Detection using Title, comments, url as Feature\")\n",
    "train_test(X, Y)"
   ]
  },
  {
   "cell_type": "markdown",
   "metadata": {},
   "source": [
    "## Accuracy\n",
    "\n",
    "|Algorithm          |Accuracy|\n",
    "|-------------------|------|\n",
    "| Bayes             | 0.62 |\n",
    "| SVM               | 0.75 |\n",
    "| Linear Regression | 0.74 |\n",
    "| Random Forests    | 0.77 |\n",
    "| MLP               | 0.49 |\n",
    "\n",
    "\n",
    "The best accuracy is 0.77 with random forests."
   ]
  },
  {
   "cell_type": "markdown",
   "metadata": {},
   "source": [
    "We have acheived reasonable accuracy with title, url and comments as the feature.\n",
    "MLP, naive bayes seems to not working well compared to other algorithms.\n",
    "\n",
    "These algorithms can only give upto a certain accuracy. If we want to improve accuracy, we might need to use RNNs like LSTM and collect more data. but as those models will be too heavy to be deployed on heroku, we will be using these methods.\n",
    "\n",
    "Additionally, this model needs to updated regularly to work with current data well. "
   ]
  },
  {
   "cell_type": "code",
   "execution_count": null,
   "metadata": {},
   "outputs": [],
   "source": []
  }
 ],
 "metadata": {
  "kernelspec": {
   "display_name": "Python 3",
   "language": "python",
   "name": "python3"
  },
  "language_info": {
   "codemirror_mode": {
    "name": "ipython",
    "version": 3
   },
   "file_extension": ".py",
   "mimetype": "text/x-python",
   "name": "python",
   "nbconvert_exporter": "python",
   "pygments_lexer": "ipython3",
   "version": "3.6.4"
  }
 },
 "nbformat": 4,
 "nbformat_minor": 2
}
